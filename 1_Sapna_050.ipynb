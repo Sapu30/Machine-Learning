{
 "cells": [
  {
   "cell_type": "code",
   "execution_count": 9,
   "metadata": {},
   "outputs": [
    {
     "name": "stdout",
     "output_type": "stream",
     "text": [
      "Enter num1: 3\n",
      "3\n",
      "Enter num2: 0\n",
      "0\n",
      "Choose operation to perform: \n",
      "\n",
      "1.Addition\n",
      "\n",
      "2.Subtraction\n",
      "\n",
      "3.Multiplication\n",
      "\n",
      "4.Division\n",
      "\n",
      "5.Exit\n",
      "\n",
      "your choice: 1\n",
      "\n",
      "Addition of num1 + num2: 3\n",
      "\n",
      "your choice: 2\n",
      "\n",
      "Subtraction of num1-num2: 3\n",
      "\n",
      "your choice: 3\n",
      "\n",
      "Multplication of num1*num: 0\n",
      "\n",
      "your choice: 4\n",
      "\n",
      "Cant't divide by zero\n",
      "\n",
      "your choice: 7\n",
      "\n",
      "Invalid Choice\n",
      "\n",
      "your choice: 5\n",
      "\n",
      "you exit\n"
     ]
    }
   ],
   "source": [
    "num1=int(input(\"Enter num1: \"))\n",
    "print(num1)\n",
    "num2=int(input(\"Enter num2: \"))\n",
    "print(num2)\n",
    "print(\"Choose operation to perform: \")\n",
    "print(\"\\n1.Addition\")\n",
    "print(\"\\n2.Subtraction\")\n",
    "print(\"\\n3.Multiplication\")\n",
    "print(\"\\n4.Division\")\n",
    "print(\"\\n5.Exit\")\n",
    "while True:\n",
    "    choice=int(input(\"\\nyour choice: \"))\n",
    "    if choice==1:\n",
    "        print(\"\\nAddition of num1 + num2:\",num1+num2)\n",
    "    elif choice==2:\n",
    "        print(\"\\nSubtraction of num1-num2:\",num1-num2)\n",
    "    elif choice==3:\n",
    "        print(\"\\nMultplication of num1*num:\",num1*num2)\n",
    "    elif choice==4:\n",
    "        try:\n",
    "            print(\"\\nDivision of num1/num2:\",num1/num2)\n",
    "        except:\n",
    "            print(\"\\nCant't divide by zero\")\n",
    "    elif choice==5:\n",
    "        print(\"\\nyou exit\")\n",
    "        break\n",
    "    else:\n",
    "        print(\"\\nInvalid Choice\")\n",
    "    "
   ]
  },
  {
   "cell_type": "code",
   "execution_count": 8,
   "metadata": {},
   "outputs": [
    {
     "name": "stdout",
     "output_type": "stream",
     "text": [
      "Enter the sentence: Welcome to AI lab\n",
      "Welcome to AI lab\n",
      "output:  lab AI to Welcome\n"
     ]
    }
   ],
   "source": [
    "val=input(\"Enter the sentence: \")\n",
    "print(val)\n",
    "string=val.split()\n",
    "string=list(reversed(string))\n",
    "\n",
    "print(\"output: \",\" \".join(string))\n"
   ]
  },
  {
   "cell_type": "code",
   "execution_count": 1,
   "metadata": {},
   "outputs": [
    {
     "name": "stdout",
     "output_type": "stream",
     "text": [
      "apple : 2\n",
      "mango : 2\n",
      "banana : 2\n",
      "grapes : 2\n",
      "pear : 3\n",
      "kiwi : 2\n",
      "litchi : 1\n",
      "pineapple : 1\n",
      "orange : 1\n"
     ]
    }
   ],
   "source": [
    "text=open(\"sample.txt\",\"r\")\n",
    "d=dict()\n",
    "for line in text:\n",
    "    line=line.strip()\n",
    "    line=line.lower()\n",
    "    words=line.split(\" \")\n",
    "    for word in words:\n",
    "        if word in d:\n",
    "            d[word]=d[word]+1\n",
    "        else:\n",
    "            d[word]=1\n",
    "for key in list(d.keys()):\n",
    "    print(key,\":\",d[key])"
   ]
  },
  {
   "cell_type": "code",
   "execution_count": 30,
   "metadata": {},
   "outputs": [
    {
     "name": "stdout",
     "output_type": "stream",
     "text": [
      "3.16\n",
      "3.872\n",
      "6.7082\n"
     ]
    }
   ],
   "source": [
    "def squareRoot(num, precision): \n",
    "    start = 0\n",
    "    end,ans = num,1\n",
    "    while (start <= end) : \n",
    "        mid = int((start + end) / 2) \n",
    "        if (mid * mid == num) :\n",
    "            ans = mid \n",
    "            break\n",
    "        if (mid * mid < num) : \n",
    "            start = mid + 1\n",
    "        else : \n",
    "            end = mid - 1\n",
    "        \n",
    "    inc = 0.1\n",
    "    for i in range(0, precision):  \n",
    "        while (ans * ans <= num): \n",
    "            ans += inc\n",
    "            \n",
    "        ans = ans - inc \n",
    "        inc = inc / 10\n",
    "    return ans \n",
    "\n",
    "print(round(squareRoot(10, 2), 4)) \n",
    "print(round(squareRoot(15, 3), 4))\n",
    "print(round(squareRoot(45, 4), 4))\n",
    "\n"
   ]
  },
  {
   "cell_type": "code",
   "execution_count": 9,
   "metadata": {},
   "outputs": [
    {
     "name": "stdout",
     "output_type": "stream",
     "text": [
      "-2.9996854272\n",
      "-2.9999999670146513\n",
      "-2.9999999999965414\n",
      "-2.9999999999999996\n",
      "-3.0\n",
      "-3.0\n"
     ]
    }
   ],
   "source": [
    "def y(x):\n",
    "    return((x+3)**2)\n",
    "\n",
    "def dy(x):\n",
    "    return(2*(x+3))\n",
    "\n",
    "def minimum(n,x,alpha):\n",
    "    while(n):\n",
    "        ty = y(x)\n",
    "        tdy = dy(x)\n",
    "        x = x-(alpha*tdy)\n",
    "        n-=1\n",
    "    return(x)\n",
    "for i in range(10,70,10):\n",
    "    print(minimum(i,0,0.3))"
   ]
  },
  {
   "cell_type": "code",
   "execution_count": 10,
   "metadata": {},
   "outputs": [
    {
     "name": "stdout",
     "output_type": "stream",
     "text": [
      "5.385164807134504\n",
      "3.4641016151377544\n",
      "0.9946115458726394\n"
     ]
    }
   ],
   "source": [
    "import numpy as np\n",
    "import math\n",
    "class vectors():\n",
    "    def __init__(self,x,y,z):\n",
    "        self.vector = np.array([x,y,z])\n",
    "    def length(self):\n",
    "        temp = self.vector\n",
    "        temp = np.square(temp)\n",
    "        return(math.sqrt(sum(temp)))\n",
    "    def distance(self,other):\n",
    "        t = self.vector-other.vector\n",
    "        t = np.square(t)\n",
    "        return(math.sqrt(sum(t)))\n",
    "    def cosine(self,other):\n",
    "        t1 = self.vector\n",
    "        t2 = other.vector\n",
    "        product = sum(t1*t2)\n",
    "        t1 = np.square(t1)\n",
    "        ma = math.sqrt(sum(t1))\n",
    "        t2 = other.vector\n",
    "        t2 = np.square(t2)\n",
    "        mb = math.sqrt(sum(t2))\n",
    "        return(product/(ma*mb))\n",
    "    \n",
    "temp1 = vectors(2,3,4)\n",
    "temp2 = vectors(4,5,6)\n",
    "print(temp1.length())\n",
    "print(temp1.distance(temp2))\n",
    "print(temp1.cosine(temp2))"
   ]
  },
  {
   "cell_type": "code",
   "execution_count": null,
   "metadata": {},
   "outputs": [],
   "source": []
  }
 ],
 "metadata": {
  "kernelspec": {
   "display_name": "Python 3",
   "language": "python",
   "name": "python3"
  },
  "language_info": {
   "codemirror_mode": {
    "name": "ipython",
    "version": 3
   },
   "file_extension": ".py",
   "mimetype": "text/x-python",
   "name": "python",
   "nbconvert_exporter": "python",
   "pygments_lexer": "ipython3",
   "version": "3.7.2"
  }
 },
 "nbformat": 4,
 "nbformat_minor": 4
}
