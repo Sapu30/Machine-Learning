{
 "cells": [
  {
   "cell_type": "markdown",
   "metadata": {
    "id": "p07kVZmNpuzT"
   },
   "source": [
    "## 1. Load the dataset and perform following pre-processing tasks: [4 pts]\n",
    "\t1.1 Remove the first column of ‘Unnamed: 0’\n",
    "\t1.2 Detect missing values, and replace them with the mean.\n",
    "    1.3 Draw box-plots for each attribute to detect if there are any outliers. \n",
    "        If there are outliers, ignore them for now.\n",
    "    1.4 Normalize all attributes within the range of 0 to 1.\n"
   ]
  },
  {
   "cell_type": "code",
   "execution_count": null,
   "metadata": {
    "id": "SnDUTrH0puzc"
   },
   "outputs": [],
   "source": [
    "# Importing libraries\n",
    "import numpy as np     # used for handling number\n",
    "import pandas as pd    # used for handling dataset\n",
    " \n",
    "import warnings as wg         # To ignore the warnings\n",
    "wg.filterwarnings('ignore')"
   ]
  },
  {
   "cell_type": "code",
   "execution_count": null,
   "metadata": {
    "colab": {
     "base_uri": "https://localhost:8080/",
     "height": 363
    },
    "id": "I6Z3GltApuzd",
    "outputId": "7eec3e4e-6a1c-4aad-b196-cf7ee9c7fd64"
   },
   "outputs": [
    {
     "name": "stdout",
     "output_type": "stream",
     "text": [
      "Collecting scikit-learn\n",
      "\u001b[?25l  Downloading https://files.pythonhosted.org/packages/e2/4c/6111b9a325f29527d7f262e2ee8c730d354b47a728d955e186dacad57a0d/scikit_learn-0.24.1-cp36-cp36m-manylinux2010_x86_64.whl (22.2MB)\n",
      "\u001b[K     |████████████████████████████████| 22.2MB 5.0MB/s \n",
      "\u001b[?25hRequirement already satisfied, skipping upgrade: scipy>=0.19.1 in /usr/local/lib/python3.6/dist-packages (from scikit-learn) (1.4.1)\n",
      "Requirement already satisfied, skipping upgrade: numpy>=1.13.3 in /usr/local/lib/python3.6/dist-packages (from scikit-learn) (1.19.5)\n",
      "Collecting threadpoolctl>=2.0.0\n",
      "  Downloading https://files.pythonhosted.org/packages/f7/12/ec3f2e203afa394a149911729357aa48affc59c20e2c1c8297a60f33f133/threadpoolctl-2.1.0-py3-none-any.whl\n",
      "Requirement already satisfied, skipping upgrade: joblib>=0.11 in /usr/local/lib/python3.6/dist-packages (from scikit-learn) (1.0.0)\n",
      "Installing collected packages: threadpoolctl, scikit-learn\n",
      "  Found existing installation: scikit-learn 0.22.2.post1\n",
      "    Uninstalling scikit-learn-0.22.2.post1:\n",
      "      Successfully uninstalled scikit-learn-0.22.2.post1\n",
      "Successfully installed scikit-learn-0.24.1 threadpoolctl-2.1.0\n"
     ]
    },
    {
     "data": {
      "application/vnd.colab-display-data+json": {
       "pip_warning": {
        "packages": [
         "sklearn"
        ]
       }
      }
     },
     "metadata": {
      "tags": []
     },
     "output_type": "display_data"
    }
   ],
   "source": [
    "pip install -U scikit-learn"
   ]
  },
  {
   "cell_type": "code",
   "execution_count": null,
   "metadata": {
    "id": "L3NpyIazpuze"
   },
   "outputs": [],
   "source": [
    "from sklearn.impute import SimpleImputer   # used for handling missing data\n",
    "from sklearn.model_selection import train_test_split  # used for spliting training and testing data\n",
    "from sklearn.preprocessing import StandardScaler # used for feature scalling"
   ]
  },
  {
   "cell_type": "code",
   "execution_count": null,
   "metadata": {
    "colab": {
     "base_uri": "https://localhost:8080/",
     "height": 73,
     "resources": {
      "http://localhost:8080/nbextensions/google.colab/files.js": {
       "data": "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",
       "headers": [
        [
         "content-type",
         "application/javascript"
        ]
       ],
       "ok": true,
       "status": 200,
       "status_text": ""
      }
     }
    },
    "id": "EwlTAHeXuFDJ",
    "outputId": "7490766a-e59e-4c98-f9bf-a0ca0eb81e42"
   },
   "outputs": [
    {
     "data": {
      "text/html": [
       "\n",
       "     <input type=\"file\" id=\"files-a5fb368c-452b-4106-9655-88ec776e91d8\" name=\"files[]\" multiple disabled\n",
       "        style=\"border:none\" />\n",
       "     <output id=\"result-a5fb368c-452b-4106-9655-88ec776e91d8\">\n",
       "      Upload widget is only available when the cell has been executed in the\n",
       "      current browser session. Please rerun this cell to enable.\n",
       "      </output>\n",
       "      <script src=\"/nbextensions/google.colab/files.js\"></script> "
      ],
      "text/plain": [
       "<IPython.core.display.HTML object>"
      ]
     },
     "metadata": {
      "tags": []
     },
     "output_type": "display_data"
    },
    {
     "name": "stdout",
     "output_type": "stream",
     "text": [
      "Saving popularity.csv to popularity.csv\n"
     ]
    }
   ],
   "source": [
    "from google.colab import files\n",
    "uploaded = files.upload()"
   ]
  },
  {
   "cell_type": "code",
   "execution_count": null,
   "metadata": {
    "colab": {
     "base_uri": "https://localhost:8080/",
     "height": 407
    },
    "id": "qyOkmUaxuNR_",
    "outputId": "eaeba567-bfb8-44c9-b7ce-016e4d869fc3"
   },
   "outputs": [
    {
     "data": {
      "text/html": [
       "<div>\n",
       "<style scoped>\n",
       "    .dataframe tbody tr th:only-of-type {\n",
       "        vertical-align: middle;\n",
       "    }\n",
       "\n",
       "    .dataframe tbody tr th {\n",
       "        vertical-align: top;\n",
       "    }\n",
       "\n",
       "    .dataframe thead th {\n",
       "        text-align: right;\n",
       "    }\n",
       "</style>\n",
       "<table border=\"1\" class=\"dataframe\">\n",
       "  <thead>\n",
       "    <tr style=\"text-align: right;\">\n",
       "      <th></th>\n",
       "      <th>Unnamed: 0</th>\n",
       "      <th>avg_shares</th>\n",
       "      <th>avg_comments</th>\n",
       "      <th>avg_expert</th>\n",
       "      <th>popularity_score</th>\n",
       "    </tr>\n",
       "  </thead>\n",
       "  <tbody>\n",
       "    <tr>\n",
       "      <th>0</th>\n",
       "      <td>19</td>\n",
       "      <td>147.3</td>\n",
       "      <td>23.9</td>\n",
       "      <td>19.1</td>\n",
       "      <td>14.6</td>\n",
       "    </tr>\n",
       "    <tr>\n",
       "      <th>1</th>\n",
       "      <td>91</td>\n",
       "      <td>28.6</td>\n",
       "      <td>1.5</td>\n",
       "      <td>33.0</td>\n",
       "      <td>7.3</td>\n",
       "    </tr>\n",
       "    <tr>\n",
       "      <th>2</th>\n",
       "      <td>166</td>\n",
       "      <td>17.9</td>\n",
       "      <td>37.6</td>\n",
       "      <td>21.6</td>\n",
       "      <td>8.0</td>\n",
       "    </tr>\n",
       "    <tr>\n",
       "      <th>3</th>\n",
       "      <td>196</td>\n",
       "      <td>94.2</td>\n",
       "      <td>4.9</td>\n",
       "      <td>8.1</td>\n",
       "      <td>9.7</td>\n",
       "    </tr>\n",
       "    <tr>\n",
       "      <th>4</th>\n",
       "      <td>42</td>\n",
       "      <td>293.6</td>\n",
       "      <td>27.7</td>\n",
       "      <td>1.8</td>\n",
       "      <td>20.7</td>\n",
       "    </tr>\n",
       "    <tr>\n",
       "      <th>...</th>\n",
       "      <td>...</td>\n",
       "      <td>...</td>\n",
       "      <td>...</td>\n",
       "      <td>...</td>\n",
       "      <td>...</td>\n",
       "    </tr>\n",
       "    <tr>\n",
       "      <th>195</th>\n",
       "      <td>155</td>\n",
       "      <td>4.1</td>\n",
       "      <td>11.6</td>\n",
       "      <td>5.7</td>\n",
       "      <td>3.2</td>\n",
       "    </tr>\n",
       "    <tr>\n",
       "      <th>196</th>\n",
       "      <td>80</td>\n",
       "      <td>76.4</td>\n",
       "      <td>26.7</td>\n",
       "      <td>22.3</td>\n",
       "      <td>11.8</td>\n",
       "    </tr>\n",
       "    <tr>\n",
       "      <th>197</th>\n",
       "      <td>181</td>\n",
       "      <td>218.5</td>\n",
       "      <td>5.4</td>\n",
       "      <td>27.4</td>\n",
       "      <td>12.2</td>\n",
       "    </tr>\n",
       "    <tr>\n",
       "      <th>198</th>\n",
       "      <td>145</td>\n",
       "      <td>140.3</td>\n",
       "      <td>1.9</td>\n",
       "      <td>9.0</td>\n",
       "      <td>10.3</td>\n",
       "    </tr>\n",
       "    <tr>\n",
       "      <th>199</th>\n",
       "      <td>36</td>\n",
       "      <td>266.9</td>\n",
       "      <td>43.8</td>\n",
       "      <td>5.0</td>\n",
       "      <td>25.4</td>\n",
       "    </tr>\n",
       "  </tbody>\n",
       "</table>\n",
       "<p>200 rows × 5 columns</p>\n",
       "</div>"
      ],
      "text/plain": [
       "     Unnamed: 0  avg_shares  avg_comments  avg_expert  popularity_score\n",
       "0            19       147.3          23.9        19.1              14.6\n",
       "1            91        28.6           1.5        33.0               7.3\n",
       "2           166        17.9          37.6        21.6               8.0\n",
       "3           196        94.2           4.9         8.1               9.7\n",
       "4            42       293.6          27.7         1.8              20.7\n",
       "..          ...         ...           ...         ...               ...\n",
       "195         155         4.1          11.6         5.7               3.2\n",
       "196          80        76.4          26.7        22.3              11.8\n",
       "197         181       218.5           5.4        27.4              12.2\n",
       "198         145       140.3           1.9         9.0              10.3\n",
       "199          36       266.9          43.8         5.0              25.4\n",
       "\n",
       "[200 rows x 5 columns]"
      ]
     },
     "execution_count": 4,
     "metadata": {
      "tags": []
     },
     "output_type": "execute_result"
    }
   ],
   "source": [
    "import io\n",
    "dataset = pd.read_csv(io.BytesIO(uploaded['popularity.csv']))\n",
    "dataset"
   ]
  },
  {
   "cell_type": "markdown",
   "metadata": {
    "id": "KgapPrYwpuzg"
   },
   "source": [
    "## 1.1 Remove the first column of ‘Unnamed: 0’"
   ]
  },
  {
   "cell_type": "code",
   "execution_count": null,
   "metadata": {
    "colab": {
     "base_uri": "https://localhost:8080/",
     "height": 407
    },
    "id": "8CeuGIVhpuzg",
    "outputId": "74cc4ed0-cab5-4555-e009-1c235cc43a89"
   },
   "outputs": [
    {
     "data": {
      "text/html": [
       "<div>\n",
       "<style scoped>\n",
       "    .dataframe tbody tr th:only-of-type {\n",
       "        vertical-align: middle;\n",
       "    }\n",
       "\n",
       "    .dataframe tbody tr th {\n",
       "        vertical-align: top;\n",
       "    }\n",
       "\n",
       "    .dataframe thead th {\n",
       "        text-align: right;\n",
       "    }\n",
       "</style>\n",
       "<table border=\"1\" class=\"dataframe\">\n",
       "  <thead>\n",
       "    <tr style=\"text-align: right;\">\n",
       "      <th></th>\n",
       "      <th>avg_shares</th>\n",
       "      <th>avg_comments</th>\n",
       "      <th>avg_expert</th>\n",
       "      <th>popularity_score</th>\n",
       "    </tr>\n",
       "  </thead>\n",
       "  <tbody>\n",
       "    <tr>\n",
       "      <th>0</th>\n",
       "      <td>147.3</td>\n",
       "      <td>23.9</td>\n",
       "      <td>19.1</td>\n",
       "      <td>14.6</td>\n",
       "    </tr>\n",
       "    <tr>\n",
       "      <th>1</th>\n",
       "      <td>28.6</td>\n",
       "      <td>1.5</td>\n",
       "      <td>33.0</td>\n",
       "      <td>7.3</td>\n",
       "    </tr>\n",
       "    <tr>\n",
       "      <th>2</th>\n",
       "      <td>17.9</td>\n",
       "      <td>37.6</td>\n",
       "      <td>21.6</td>\n",
       "      <td>8.0</td>\n",
       "    </tr>\n",
       "    <tr>\n",
       "      <th>3</th>\n",
       "      <td>94.2</td>\n",
       "      <td>4.9</td>\n",
       "      <td>8.1</td>\n",
       "      <td>9.7</td>\n",
       "    </tr>\n",
       "    <tr>\n",
       "      <th>4</th>\n",
       "      <td>293.6</td>\n",
       "      <td>27.7</td>\n",
       "      <td>1.8</td>\n",
       "      <td>20.7</td>\n",
       "    </tr>\n",
       "    <tr>\n",
       "      <th>...</th>\n",
       "      <td>...</td>\n",
       "      <td>...</td>\n",
       "      <td>...</td>\n",
       "      <td>...</td>\n",
       "    </tr>\n",
       "    <tr>\n",
       "      <th>195</th>\n",
       "      <td>4.1</td>\n",
       "      <td>11.6</td>\n",
       "      <td>5.7</td>\n",
       "      <td>3.2</td>\n",
       "    </tr>\n",
       "    <tr>\n",
       "      <th>196</th>\n",
       "      <td>76.4</td>\n",
       "      <td>26.7</td>\n",
       "      <td>22.3</td>\n",
       "      <td>11.8</td>\n",
       "    </tr>\n",
       "    <tr>\n",
       "      <th>197</th>\n",
       "      <td>218.5</td>\n",
       "      <td>5.4</td>\n",
       "      <td>27.4</td>\n",
       "      <td>12.2</td>\n",
       "    </tr>\n",
       "    <tr>\n",
       "      <th>198</th>\n",
       "      <td>140.3</td>\n",
       "      <td>1.9</td>\n",
       "      <td>9.0</td>\n",
       "      <td>10.3</td>\n",
       "    </tr>\n",
       "    <tr>\n",
       "      <th>199</th>\n",
       "      <td>266.9</td>\n",
       "      <td>43.8</td>\n",
       "      <td>5.0</td>\n",
       "      <td>25.4</td>\n",
       "    </tr>\n",
       "  </tbody>\n",
       "</table>\n",
       "<p>200 rows × 4 columns</p>\n",
       "</div>"
      ],
      "text/plain": [
       "     avg_shares  avg_comments  avg_expert  popularity_score\n",
       "0         147.3          23.9        19.1              14.6\n",
       "1          28.6           1.5        33.0               7.3\n",
       "2          17.9          37.6        21.6               8.0\n",
       "3          94.2           4.9         8.1               9.7\n",
       "4         293.6          27.7         1.8              20.7\n",
       "..          ...           ...         ...               ...\n",
       "195         4.1          11.6         5.7               3.2\n",
       "196        76.4          26.7        22.3              11.8\n",
       "197       218.5           5.4        27.4              12.2\n",
       "198       140.3           1.9         9.0              10.3\n",
       "199       266.9          43.8         5.0              25.4\n",
       "\n",
       "[200 rows x 4 columns]"
      ]
     },
     "execution_count": 5,
     "metadata": {
      "tags": []
     },
     "output_type": "execute_result"
    }
   ],
   "source": [
    " \n",
    "del dataset['Unnamed: 0']\n",
    "dataset"
   ]
  },
  {
   "cell_type": "markdown",
   "metadata": {
    "id": "r9tlrfTRpuzh"
   },
   "source": [
    "## 1.2 Detect missing values, and replace them with the mean."
   ]
  },
  {
   "cell_type": "code",
   "execution_count": null,
   "metadata": {
    "colab": {
     "base_uri": "https://localhost:8080/",
     "height": 407
    },
    "id": "NdcsNyxmpuzh",
    "outputId": "dd3c72b1-5232-44dd-b951-7fe5a9fedbab"
   },
   "outputs": [
    {
     "data": {
      "text/html": [
       "<div>\n",
       "<style scoped>\n",
       "    .dataframe tbody tr th:only-of-type {\n",
       "        vertical-align: middle;\n",
       "    }\n",
       "\n",
       "    .dataframe tbody tr th {\n",
       "        vertical-align: top;\n",
       "    }\n",
       "\n",
       "    .dataframe thead th {\n",
       "        text-align: right;\n",
       "    }\n",
       "</style>\n",
       "<table border=\"1\" class=\"dataframe\">\n",
       "  <thead>\n",
       "    <tr style=\"text-align: right;\">\n",
       "      <th></th>\n",
       "      <th>avg_shares</th>\n",
       "      <th>avg_comments</th>\n",
       "      <th>avg_expert</th>\n",
       "      <th>popularity_score</th>\n",
       "    </tr>\n",
       "  </thead>\n",
       "  <tbody>\n",
       "    <tr>\n",
       "      <th>0</th>\n",
       "      <td>False</td>\n",
       "      <td>False</td>\n",
       "      <td>False</td>\n",
       "      <td>False</td>\n",
       "    </tr>\n",
       "    <tr>\n",
       "      <th>1</th>\n",
       "      <td>False</td>\n",
       "      <td>False</td>\n",
       "      <td>False</td>\n",
       "      <td>False</td>\n",
       "    </tr>\n",
       "    <tr>\n",
       "      <th>2</th>\n",
       "      <td>False</td>\n",
       "      <td>False</td>\n",
       "      <td>False</td>\n",
       "      <td>False</td>\n",
       "    </tr>\n",
       "    <tr>\n",
       "      <th>3</th>\n",
       "      <td>False</td>\n",
       "      <td>False</td>\n",
       "      <td>False</td>\n",
       "      <td>False</td>\n",
       "    </tr>\n",
       "    <tr>\n",
       "      <th>4</th>\n",
       "      <td>False</td>\n",
       "      <td>False</td>\n",
       "      <td>False</td>\n",
       "      <td>False</td>\n",
       "    </tr>\n",
       "    <tr>\n",
       "      <th>...</th>\n",
       "      <td>...</td>\n",
       "      <td>...</td>\n",
       "      <td>...</td>\n",
       "      <td>...</td>\n",
       "    </tr>\n",
       "    <tr>\n",
       "      <th>195</th>\n",
       "      <td>False</td>\n",
       "      <td>False</td>\n",
       "      <td>False</td>\n",
       "      <td>False</td>\n",
       "    </tr>\n",
       "    <tr>\n",
       "      <th>196</th>\n",
       "      <td>False</td>\n",
       "      <td>False</td>\n",
       "      <td>False</td>\n",
       "      <td>False</td>\n",
       "    </tr>\n",
       "    <tr>\n",
       "      <th>197</th>\n",
       "      <td>False</td>\n",
       "      <td>False</td>\n",
       "      <td>False</td>\n",
       "      <td>False</td>\n",
       "    </tr>\n",
       "    <tr>\n",
       "      <th>198</th>\n",
       "      <td>False</td>\n",
       "      <td>False</td>\n",
       "      <td>False</td>\n",
       "      <td>False</td>\n",
       "    </tr>\n",
       "    <tr>\n",
       "      <th>199</th>\n",
       "      <td>False</td>\n",
       "      <td>False</td>\n",
       "      <td>False</td>\n",
       "      <td>False</td>\n",
       "    </tr>\n",
       "  </tbody>\n",
       "</table>\n",
       "<p>200 rows × 4 columns</p>\n",
       "</div>"
      ],
      "text/plain": [
       "     avg_shares  avg_comments  avg_expert  popularity_score\n",
       "0         False         False       False             False\n",
       "1         False         False       False             False\n",
       "2         False         False       False             False\n",
       "3         False         False       False             False\n",
       "4         False         False       False             False\n",
       "..          ...           ...         ...               ...\n",
       "195       False         False       False             False\n",
       "196       False         False       False             False\n",
       "197       False         False       False             False\n",
       "198       False         False       False             False\n",
       "199       False         False       False             False\n",
       "\n",
       "[200 rows x 4 columns]"
      ]
     },
     "execution_count": 6,
     "metadata": {
      "tags": []
     },
     "output_type": "execute_result"
    }
   ],
   "source": [
    "# checking for missing values\n",
    " \n",
    "dataset.isnull()"
   ]
  },
  {
   "cell_type": "code",
   "execution_count": null,
   "metadata": {
    "colab": {
     "base_uri": "https://localhost:8080/",
     "height": 498
    },
    "id": "guijxpF8puzi",
    "outputId": "c64fcbaa-6e9f-407a-8ca8-79914eca0d58"
   },
   "outputs": [
    {
     "data": {
      "text/html": [
       "<div>\n",
       "<style scoped>\n",
       "    .dataframe tbody tr th:only-of-type {\n",
       "        vertical-align: middle;\n",
       "    }\n",
       "\n",
       "    .dataframe tbody tr th {\n",
       "        vertical-align: top;\n",
       "    }\n",
       "\n",
       "    .dataframe thead th {\n",
       "        text-align: right;\n",
       "    }\n",
       "</style>\n",
       "<table border=\"1\" class=\"dataframe\">\n",
       "  <thead>\n",
       "    <tr style=\"text-align: right;\">\n",
       "      <th></th>\n",
       "      <th>avg_shares</th>\n",
       "      <th>avg_comments</th>\n",
       "      <th>avg_expert</th>\n",
       "      <th>popularity_score</th>\n",
       "    </tr>\n",
       "  </thead>\n",
       "  <tbody>\n",
       "    <tr>\n",
       "      <th>7</th>\n",
       "      <td>168.4</td>\n",
       "      <td>NaN</td>\n",
       "      <td>12.8</td>\n",
       "      <td>11.7</td>\n",
       "    </tr>\n",
       "    <tr>\n",
       "      <th>8</th>\n",
       "      <td>280.2</td>\n",
       "      <td>10.1</td>\n",
       "      <td>21.4</td>\n",
       "      <td>14.8</td>\n",
       "    </tr>\n",
       "    <tr>\n",
       "      <th>9</th>\n",
       "      <td>19.4</td>\n",
       "      <td>16.0</td>\n",
       "      <td>22.3</td>\n",
       "      <td>6.6</td>\n",
       "    </tr>\n",
       "    <tr>\n",
       "      <th>10</th>\n",
       "      <td>107.4</td>\n",
       "      <td>14.0</td>\n",
       "      <td>10.9</td>\n",
       "      <td>11.5</td>\n",
       "    </tr>\n",
       "    <tr>\n",
       "      <th>11</th>\n",
       "      <td>177.0</td>\n",
       "      <td>9.3</td>\n",
       "      <td>6.4</td>\n",
       "      <td>12.8</td>\n",
       "    </tr>\n",
       "    <tr>\n",
       "      <th>12</th>\n",
       "      <td>296.4</td>\n",
       "      <td>36.3</td>\n",
       "      <td>100.9</td>\n",
       "      <td>23.8</td>\n",
       "    </tr>\n",
       "    <tr>\n",
       "      <th>13</th>\n",
       "      <td>237.4</td>\n",
       "      <td>27.5</td>\n",
       "      <td>11.0</td>\n",
       "      <td>18.9</td>\n",
       "    </tr>\n",
       "    <tr>\n",
       "      <th>14</th>\n",
       "      <td>232.1</td>\n",
       "      <td>8.6</td>\n",
       "      <td>8.7</td>\n",
       "      <td>13.4</td>\n",
       "    </tr>\n",
       "    <tr>\n",
       "      <th>15</th>\n",
       "      <td>206.9</td>\n",
       "      <td>8.4</td>\n",
       "      <td>26.4</td>\n",
       "      <td>12.9</td>\n",
       "    </tr>\n",
       "    <tr>\n",
       "      <th>16</th>\n",
       "      <td>131.1</td>\n",
       "      <td>42.8</td>\n",
       "      <td>28.9</td>\n",
       "      <td>18.0</td>\n",
       "    </tr>\n",
       "    <tr>\n",
       "      <th>17</th>\n",
       "      <td>191.1</td>\n",
       "      <td>28.7</td>\n",
       "      <td>18.2</td>\n",
       "      <td>17.3</td>\n",
       "    </tr>\n",
       "    <tr>\n",
       "      <th>18</th>\n",
       "      <td>151.5</td>\n",
       "      <td>41.3</td>\n",
       "      <td>58.5</td>\n",
       "      <td>18.5</td>\n",
       "    </tr>\n",
       "    <tr>\n",
       "      <th>19</th>\n",
       "      <td>NaN</td>\n",
       "      <td>7.6</td>\n",
       "      <td>7.2</td>\n",
       "      <td>9.7</td>\n",
       "    </tr>\n",
       "    <tr>\n",
       "      <th>20</th>\n",
       "      <td>120.2</td>\n",
       "      <td>19.6</td>\n",
       "      <td>11.6</td>\n",
       "      <td>13.2</td>\n",
       "    </tr>\n",
       "    <tr>\n",
       "      <th>21</th>\n",
       "      <td>43.1</td>\n",
       "      <td>26.7</td>\n",
       "      <td>35.1</td>\n",
       "      <td>10.1</td>\n",
       "    </tr>\n",
       "  </tbody>\n",
       "</table>\n",
       "</div>"
      ],
      "text/plain": [
       "    avg_shares  avg_comments  avg_expert  popularity_score\n",
       "7        168.4           NaN        12.8              11.7\n",
       "8        280.2          10.1        21.4              14.8\n",
       "9         19.4          16.0        22.3               6.6\n",
       "10       107.4          14.0        10.9              11.5\n",
       "11       177.0           9.3         6.4              12.8\n",
       "12       296.4          36.3       100.9              23.8\n",
       "13       237.4          27.5        11.0              18.9\n",
       "14       232.1           8.6         8.7              13.4\n",
       "15       206.9           8.4        26.4              12.9\n",
       "16       131.1          42.8        28.9              18.0\n",
       "17       191.1          28.7        18.2              17.3\n",
       "18       151.5          41.3        58.5              18.5\n",
       "19         NaN           7.6         7.2               9.7\n",
       "20       120.2          19.6        11.6              13.2\n",
       "21        43.1          26.7        35.1              10.1"
      ]
     },
     "execution_count": 7,
     "metadata": {
      "tags": []
     },
     "output_type": "execute_result"
    }
   ],
   "source": [
    "dataset[7:22]  # observe Nan in 7th entry and 19th entry"
   ]
  },
  {
   "cell_type": "code",
   "execution_count": null,
   "metadata": {
    "id": "CPtT4oXlpuzi"
   },
   "outputs": [],
   "source": [
    "imputer = SimpleImputer(missing_values = np.nan, strategy = 'mean')\n",
    "X = dataset.iloc[:, 0:4].values   \n",
    "imputer = imputer.fit(X[:, 0:4])\n",
    "X[:, 0:4] = imputer.transform(X[:, 0:4])"
   ]
  },
  {
   "cell_type": "code",
   "execution_count": null,
   "metadata": {
    "colab": {
     "base_uri": "https://localhost:8080/",
     "height": 438
    },
    "id": "ElImA6Xcpuzj",
    "outputId": "37c337fd-6a52-483d-82cc-9f74e125e89e"
   },
   "outputs": [
    {
     "data": {
      "text/html": [
       "<div>\n",
       "<style scoped>\n",
       "    .dataframe tbody tr th:only-of-type {\n",
       "        vertical-align: middle;\n",
       "    }\n",
       "\n",
       "    .dataframe tbody tr th {\n",
       "        vertical-align: top;\n",
       "    }\n",
       "\n",
       "    .dataframe thead th {\n",
       "        text-align: right;\n",
       "    }\n",
       "</style>\n",
       "<table border=\"1\" class=\"dataframe\">\n",
       "  <thead>\n",
       "    <tr style=\"text-align: right;\">\n",
       "      <th></th>\n",
       "      <th>avg_shares</th>\n",
       "      <th>avg_comments</th>\n",
       "      <th>avg_expert</th>\n",
       "      <th>popularity_score</th>\n",
       "    </tr>\n",
       "  </thead>\n",
       "  <tbody>\n",
       "    <tr>\n",
       "      <th>7</th>\n",
       "      <td>168.400000</td>\n",
       "      <td>23.319388</td>\n",
       "      <td>12.8</td>\n",
       "      <td>11.7</td>\n",
       "    </tr>\n",
       "    <tr>\n",
       "      <th>8</th>\n",
       "      <td>280.200000</td>\n",
       "      <td>10.100000</td>\n",
       "      <td>21.4</td>\n",
       "      <td>14.8</td>\n",
       "    </tr>\n",
       "    <tr>\n",
       "      <th>9</th>\n",
       "      <td>19.400000</td>\n",
       "      <td>16.000000</td>\n",
       "      <td>22.3</td>\n",
       "      <td>6.6</td>\n",
       "    </tr>\n",
       "    <tr>\n",
       "      <th>10</th>\n",
       "      <td>107.400000</td>\n",
       "      <td>14.000000</td>\n",
       "      <td>10.9</td>\n",
       "      <td>11.5</td>\n",
       "    </tr>\n",
       "    <tr>\n",
       "      <th>11</th>\n",
       "      <td>177.000000</td>\n",
       "      <td>9.300000</td>\n",
       "      <td>6.4</td>\n",
       "      <td>12.8</td>\n",
       "    </tr>\n",
       "    <tr>\n",
       "      <th>12</th>\n",
       "      <td>296.400000</td>\n",
       "      <td>36.300000</td>\n",
       "      <td>100.9</td>\n",
       "      <td>23.8</td>\n",
       "    </tr>\n",
       "    <tr>\n",
       "      <th>13</th>\n",
       "      <td>237.400000</td>\n",
       "      <td>27.500000</td>\n",
       "      <td>11.0</td>\n",
       "      <td>18.9</td>\n",
       "    </tr>\n",
       "    <tr>\n",
       "      <th>14</th>\n",
       "      <td>232.100000</td>\n",
       "      <td>8.600000</td>\n",
       "      <td>8.7</td>\n",
       "      <td>13.4</td>\n",
       "    </tr>\n",
       "    <tr>\n",
       "      <th>15</th>\n",
       "      <td>206.900000</td>\n",
       "      <td>8.400000</td>\n",
       "      <td>26.4</td>\n",
       "      <td>12.9</td>\n",
       "    </tr>\n",
       "    <tr>\n",
       "      <th>16</th>\n",
       "      <td>131.100000</td>\n",
       "      <td>42.800000</td>\n",
       "      <td>28.9</td>\n",
       "      <td>18.0</td>\n",
       "    </tr>\n",
       "    <tr>\n",
       "      <th>17</th>\n",
       "      <td>191.100000</td>\n",
       "      <td>28.700000</td>\n",
       "      <td>18.2</td>\n",
       "      <td>17.3</td>\n",
       "    </tr>\n",
       "    <tr>\n",
       "      <th>18</th>\n",
       "      <td>151.500000</td>\n",
       "      <td>41.300000</td>\n",
       "      <td>58.5</td>\n",
       "      <td>18.5</td>\n",
       "    </tr>\n",
       "    <tr>\n",
       "      <th>19</th>\n",
       "      <td>147.291457</td>\n",
       "      <td>7.600000</td>\n",
       "      <td>7.2</td>\n",
       "      <td>9.7</td>\n",
       "    </tr>\n",
       "  </tbody>\n",
       "</table>\n",
       "</div>"
      ],
      "text/plain": [
       "    avg_shares  avg_comments  avg_expert  popularity_score\n",
       "7   168.400000     23.319388        12.8              11.7\n",
       "8   280.200000     10.100000        21.4              14.8\n",
       "9    19.400000     16.000000        22.3               6.6\n",
       "10  107.400000     14.000000        10.9              11.5\n",
       "11  177.000000      9.300000         6.4              12.8\n",
       "12  296.400000     36.300000       100.9              23.8\n",
       "13  237.400000     27.500000        11.0              18.9\n",
       "14  232.100000      8.600000         8.7              13.4\n",
       "15  206.900000      8.400000        26.4              12.9\n",
       "16  131.100000     42.800000        28.9              18.0\n",
       "17  191.100000     28.700000        18.2              17.3\n",
       "18  151.500000     41.300000        58.5              18.5\n",
       "19  147.291457      7.600000         7.2               9.7"
      ]
     },
     "execution_count": 10,
     "metadata": {
      "tags": []
     },
     "output_type": "execute_result"
    }
   ],
   "source": [
    "dataset[7:20]          # notice now NaN vales of 7th and 19th row are filled with mean"
   ]
  },
  {
   "cell_type": "markdown",
   "metadata": {
    "id": "4pJUAIsnpuzj"
   },
   "source": [
    "##     1.3 Draw box-plots for each attribute to detect if there are any outliers. If there are outliers, ignore them for now.\n"
   ]
  },
  {
   "cell_type": "code",
   "execution_count": null,
   "metadata": {
    "colab": {
     "base_uri": "https://localhost:8080/",
     "height": 266
    },
    "id": "CUSZq148puzk",
    "outputId": "d8bab898-d1b1-4463-cbbc-ae9f77b03d55"
   },
   "outputs": [
    {
     "data": {
      "image/png": "[encoded data removed]",
      "text/plain": [
       "<Figure size 432x288 with 1 Axes>"
      ]
     },
     "metadata": {
      "needs_background": "light",
      "tags": []
     },
     "output_type": "display_data"
    }
   ],
   "source": [
    "# Boxplot with outliers\n",
    " \n",
    "boxplot = dataset.boxplot(column = ['avg_shares','avg_comments','avg_expert','popularity_score'],patch_artist = True,\n",
    "                          notch ='True')"
   ]
  },
  {
   "cell_type": "code",
   "execution_count": null,
   "metadata": {
    "colab": {
     "base_uri": "https://localhost:8080/",
     "height": 266
    },
    "id": "_2RXJNaNpuzk",
    "outputId": "0343e40a-feee-4f57-cb07-4bfae9b1a9d8"
   },
   "outputs": [
    {
     "data": {
      "image/png": "[encoded data removed]",
      "text/plain": [
       "<Figure size 432x288 with 1 Axes>"
      ]
     },
     "metadata": {
      "needs_background": "light",
      "tags": []
     },
     "output_type": "display_data"
    }
   ],
   "source": [
    "# Boxplot without outliers\n",
    " \n",
    "boxplot = dataset.boxplot(column = ['avg_shares','avg_comments','avg_expert','popularity_score'],patch_artist = True,\n",
    "                          notch ='True',showfliers=False)"
   ]
  },
  {
   "cell_type": "markdown",
   "metadata": {
    "id": "czCVZhDPpuzl"
   },
   "source": [
    "## 1.4 Normalize all attributes within the range of 0 to 1."
   ]
  },
  {
   "cell_type": "markdown",
   "metadata": {
    "id": "oZqCFe9Vpuzl"
   },
   "source": [
    "###        The min max feature scaling "
   ]
  },
  {
   "cell_type": "code",
   "execution_count": null,
   "metadata": {
    "colab": {
     "base_uri": "https://localhost:8080/"
    },
    "id": "zZx1R-EHpuzo",
    "outputId": "791868c4-ddc1-4ff3-e5a3-1cfb69676456"
   },
   "outputs": [
    {
     "data": {
      "text/plain": [
       "array([[0.97452547, 0.15812056, 0.12636413, 0.09659248],\n",
       "       [0.64559655, 0.03385996, 0.7449191 , 0.16478513],\n",
       "       [0.37613592, 0.79009557, 0.45388469, 0.16810544],\n",
       "       [0.98980656, 0.05148675, 0.08511076, 0.10192276],\n",
       "       [0.99311693, 0.09369666, 0.00608859, 0.0700188 ],\n",
       "       [0.87182477, 0.29334786, 0.37300697, 0.12138532],\n",
       "       [0.99295394, 0.01292132, 0.10535848, 0.05267924],\n",
       "       [0.98543442, 0.13645919, 0.07490238, 0.06846546],\n",
       "       [0.99507553, 0.03586818, 0.07599792, 0.05255931],\n",
       "       [0.56638775, 0.46712392, 0.65105396, 0.19268862],\n",
       "       [0.98116689, 0.12789885, 0.09957839, 0.10505977],\n",
       "       [0.99538328, 0.0522998 , 0.03599126, 0.07198252],\n",
       "       [0.9376841 , 0.11483783, 0.31920488, 0.07529312],\n",
       "       [0.98922489, 0.11459008, 0.04583603, 0.07875464],\n",
       "       [0.99695836, 0.03694029, 0.03736983, 0.05755813],\n",
       "       [0.98926685, 0.04016356, 0.12622835, 0.06167976],\n",
       "       [0.92291315, 0.30130193, 0.2034492 , 0.12671576],\n",
       "       [0.98066522, 0.14727939, 0.09339669, 0.08877817],\n",
       "       [0.89863215, 0.24497365, 0.34699657, 0.10973396],\n",
       "       [0.99533835, 0.05135784, 0.0486548 , 0.06554883],\n",
       "       [0.97684844, 0.15928643, 0.09427156, 0.10727454],\n",
       "       [0.68975276, 0.42729463, 0.5617244 , 0.1616358 ],\n",
       "       [0.99765272, 0.01767097, 0.02978821, 0.05907154],\n",
       "       [0.98941316, 0.06408652, 0.11287497, 0.06491344],\n",
       "       [0.73514827, 0.48616231, 0.44974934, 0.14466773],\n",
       "       [0.94784942, 0.12344487, 0.27365052, 0.1070431 ],\n",
       "       [0.9785445 , 0.11268671, 0.15270127, 0.08021649],\n",
       "       [0.93051956, 0.1764892 , 0.30424631, 0.10207398],\n",
       "       [0.78255531, 0.04553049, 0.58905072, 0.19635024],\n",
       "       [0.92078137, 0.08918563, 0.3326383 , 0.18319211],\n",
       "       [0.99207159, 0.01451306, 0.07671191, 0.09848151],\n",
       "       [0.98625233, 0.11990668, 0.08059953, 0.08020248],\n",
       "       [0.96687433, 0.21271235, 0.09244262, 0.106592  ],\n",
       "       [0.49072941, 0.26490703, 0.82512025, 0.09047371],\n",
       "       [0.96264997, 0.15731019, 0.20151915, 0.08915472],\n",
       "       [0.98620851, 0.1236968 , 0.04543964, 0.10013551],\n",
       "       [0.94726118, 0.21953455, 0.20847488, 0.10506691],\n",
       "       [0.98317871, 0.14022707, 0.04449861, 0.10823986],\n",
       "       [0.9973804 , 0.03032435, 0.03613998, 0.05483308],\n",
       "       [0.99096398, 0.06892586, 0.0945151 , 0.06562402],\n",
       "       [0.97812708, 0.16920498, 0.07542872, 0.0945917 ],\n",
       "       [0.98226944, 0.09490688, 0.14487552, 0.07176704],\n",
       "       [0.94448464, 0.05146809, 0.31061445, 0.09390669],\n",
       "       [0.83571882, 0.3638193 , 0.39121992, 0.12710842],\n",
       "       [0.97117493, 0.14180428, 0.17164017, 0.08514961],\n",
       "       [0.82613828, 0.27287591, 0.47742836, 0.12286759],\n",
       "       [0.97251747, 0.06763106, 0.21359429, 0.06335061],\n",
       "       [0.94788063, 0.05662119, 0.30617383, 0.06763086],\n",
       "       [0.94986744, 0.273769  , 0.0776912 , 0.12948534],\n",
       "       [0.97864426, 0.13795866, 0.11927676, 0.09484658],\n",
       "       [0.19514017, 0.61544208, 0.75387485, 0.12175412],\n",
       "       [0.80834817, 0.37447439, 0.43473464, 0.13171168],\n",
       "       [0.44112274, 0.4516675 , 0.76098066, 0.14938419],\n",
       "       [0.79305681, 0.15967587, 0.57350249, 0.12907133],\n",
       "       [0.16747749, 0.92732907, 0.29153489, 0.16437606],\n",
       "       [0.9702547 , 0.2158079 , 0.01409358, 0.1087848 ],\n",
       "       [0.98928164, 0.09459267, 0.03547225, 0.10543141],\n",
       "       [0.95651988, 0.14301236, 0.23879738, 0.08713776],\n",
       "       [0.46881629, 0.11175272, 0.86131364, 0.16081489],\n",
       "       [0.95119426, 0.01467892, 0.29357848, 0.09394511],\n",
       "       [0.91880711, 0.1014068 , 0.36567908, 0.10857698],\n",
       "       [0.96024957, 0.14220903, 0.22414852, 0.0863412 ],\n",
       "       [0.94435972, 0.1277918 , 0.28049216, 0.11479602],\n",
       "       [0.99766786, 0.03719761, 0.02245893, 0.05263812],\n",
       "       [0.99133041, 0.10441186, 0.02134815, 0.07685334],\n",
       "       [0.96017123, 0.19345555, 0.17489961, 0.10028104],\n",
       "       [0.85933018, 0.15028644, 0.47269583, 0.12459645],\n",
       "       [0.98733273, 0.08286126, 0.116706  , 0.06846752],\n",
       "       [0.97315527, 0.16091208, 0.1365832 , 0.09176683],\n",
       "       [0.70090598, 0.68204101, 0.12334784, 0.16833353],\n",
       "       [0.98591237, 0.14196807, 0.02193676, 0.08567752],\n",
       "       [0.09640672, 0.54187225, 0.83109241, 0.07978487],\n",
       "       [0.99720169, 0.0484654 , 0.01290086, 0.05543884],\n",
       "       [0.791417  , 0.45679102, 0.36472461, 0.17882129],\n",
       "       [0.98719689, 0.10752828, 0.09086338, 0.07499205],\n",
       "       [0.93179413, 0.14360689, 0.3185762 , 0.09821391],\n",
       "       [0.98937435, 0.10846586, 0.05988219, 0.07607675],\n",
       "       [0.9652571 , 0.14711607, 0.19805776, 0.08607388],\n",
       "       [0.98856933, 0.07317924, 0.11344948, 0.06711706],\n",
       "       [0.97962155, 0.01474699, 0.18679522, 0.07233048],\n",
       "       [0.97960789, 0.15401365, 0.09402939, 0.0883552 ],\n",
       "       [0.74624162, 0.21550579, 0.62031863, 0.10902058],\n",
       "       [0.97448374, 0.06468556, 0.19405668, 0.09240794],\n",
       "       [0.99623118, 0.01654024, 0.05280152, 0.06679711],\n",
       "       [0.99541964, 0.00827418, 0.08526001, 0.04245013],\n",
       "       [0.58179707, 0.59663884, 0.50461991, 0.22559478],\n",
       "       [0.98338183, 0.1116875 , 0.11700595, 0.08243601],\n",
       "       [0.56678378, 0.36674245, 0.70923746, 0.20307226],\n",
       "       [0.01724902, 0.9758017 , 0.21438068, 0.03942633],\n",
       "       [0.2443368 , 0.29431478, 0.91811402, 0.10365803],\n",
       "       [0.82162253, 0.30133582, 0.46907447, 0.11875303],\n",
       "       [0.90629693, 0.21026089, 0.33351727, 0.15225788],\n",
       "       [0.96680392, 0.14858965, 0.18792221, 0.08886244],\n",
       "       [0.97104618, 0.14620741, 0.16690544, 0.08851713],\n",
       "       [0.95046906, 0.12075868, 0.27387376, 0.08377995],\n",
       "       [0.59113524, 0.52205877, 0.59910561, 0.13815296],\n",
       "       [0.9202487 , 0.23283401, 0.29583022, 0.10684158],\n",
       "       [0.9709041 , 0.19907271, 0.08560806, 0.10191436],\n",
       "       [0.98841702, 0.09047777, 0.09416   , 0.07732693],\n",
       "       [0.97307034, 0.12503759, 0.17505263, 0.08280267],\n",
       "       [0.99614132, 0.01326168, 0.07388648, 0.0454686 ],\n",
       "       [0.96922989, 0.10234104, 0.21141039, 0.07365722],\n",
       "       [0.98863827, 0.04895644, 0.1303157 , 0.05670494],\n",
       "       [0.98849988, 0.11395078, 0.06068111, 0.07874648],\n",
       "       [0.95427216, 0.13332276, 0.25070476, 0.09347085],\n",
       "       [0.97494555, 0.10015604, 0.17930033, 0.08544781],\n",
       "       [0.84982063, 0.20751434, 0.09881635, 0.47431849],\n",
       "       [0.99043367, 0.11071452, 0.01845242, 0.08026803],\n",
       "       [0.98223352, 0.132388  , 0.01281174, 0.132388  ],\n",
       "       [0.93125232, 0.18020559, 0.30167329, 0.09637578],\n",
       "       [0.60995025, 0.26837811, 0.7246209 , 0.17566567],\n",
       "       [0.75947839, 0.49410509, 0.39528407, 0.1510074 ],\n",
       "       [0.95662176, 0.18051507, 0.20915967, 0.09241939],\n",
       "       [0.9848822 , 0.00854704, 0.15976394, 0.06640394],\n",
       "       [0.99360537, 0.02498427, 0.09321056, 0.05861695],\n",
       "       [0.98695873, 0.01687461, 0.15187146, 0.05062382],\n",
       "       [0.99505523, 0.07492886, 0.00112393, 0.06518811],\n",
       "       [0.90292831, 0.27849194, 0.30654149, 0.11486958],\n",
       "       [0.65865602, 0.69852204, 0.20626333, 0.18893028],\n",
       "       [0.28857631, 0.93443759, 0.07214408, 0.19581964],\n",
       "       [0.93192596, 0.18847941, 0.2737439 , 0.14509923],\n",
       "       [0.96157105, 0.1852935 , 0.17596217, 0.10042285],\n",
       "       [0.96794801, 0.19600054, 0.12143997, 0.09956292],\n",
       "       [0.9188941 , 0.03435118, 0.36755764, 0.13912228],\n",
       "       [0.96969416, 0.1712461 , 0.14638214, 0.09455306],\n",
       "       [0.99352285, 0.03624916, 0.06879942, 0.08285522],\n",
       "       [0.99110994, 0.09740871, 0.05059578, 0.07518439],\n",
       "       [0.92573471, 0.22992104, 0.27925632, 0.11030625],\n",
       "       [0.76567808, 0.59795812, 0.05347593, 0.23091879],\n",
       "       [0.94211621, 0.15476746, 0.28333091, 0.09048574],\n",
       "       [0.94829126, 0.13795389, 0.27326209, 0.0839062 ],\n",
       "       [0.96788989, 0.03514923, 0.2421868 , 0.05743899],\n",
       "       [0.95342138, 0.22433444, 0.17051227, 0.10764435],\n",
       "       [0.12067351, 0.60182045, 0.78283072, 0.10210835],\n",
       "       [0.94034552, 0.08955672, 0.31977588, 0.07398164],\n",
       "       [0.96405624, 0.19416589, 0.15262342, 0.09798604],\n",
       "       [0.95127289, 0.14638329, 0.25780937, 0.08477122],\n",
       "       [0.98913837, 0.11113322, 0.05003629, 0.08216485],\n",
       "       [0.99354663, 0.02134409, 0.09835024, 0.05231395],\n",
       "       [0.98979282, 0.0597701 , 0.10519537, 0.07531032],\n",
       "       [0.88337213, 0.2381468 , 0.38126951, 0.13256448],\n",
       "       [0.87252881, 0.08849492, 0.46110508, 0.13507119],\n",
       "       [0.99682665, 0.01523926, 0.05871596, 0.05154454],\n",
       "       [0.92901149, 0.08151689, 0.34012221, 0.12086988],\n",
       "       [0.98718776, 0.11640422, 0.07094163, 0.08293176],\n",
       "       [0.56409553, 0.69459524, 0.40623298, 0.1852254 ],\n",
       "       [0.80725471, 0.46048617, 0.32992149, 0.16566271],\n",
       "       [0.7936371 , 0.4749644 , 0.35013402, 0.14817266],\n",
       "       [0.96778837, 0.04263055, 0.23409409, 0.08226949],\n",
       "       [0.9876338 , 0.        , 0.11329465, 0.1083688 ],\n",
       "       [0.97871361, 0.14000142, 0.07777856, 0.12833463],\n",
       "       [0.97608673, 0.04473253, 0.20186988, 0.06709879],\n",
       "       [0.98572315, 0.1380106 , 0.04350843, 0.08608119],\n",
       "       [0.93924469, 0.01361805, 0.3396501 , 0.04766316],\n",
       "       [0.9400113 , 0.13229789, 0.30391651, 0.08068942],\n",
       "       [0.96605297, 0.22973604, 0.03871956, 0.11164139],\n",
       "       [0.97606179, 0.10241576, 0.17371071, 0.08147994],\n",
       "       [0.20142628, 0.53752711, 0.81156054, 0.10891072],\n",
       "       [0.96825675, 0.13625788, 0.19199974, 0.08395688],\n",
       "       [0.96328744, 0.24255439, 0.02079038, 0.11319205],\n",
       "       [0.96442483, 0.00320052, 0.24750726, 0.09281522],\n",
       "       [0.98344616, 0.09448182, 0.13363175, 0.07777785],\n",
       "       [0.96106683, 0.12189355, 0.23498612, 0.0792088 ],\n",
       "       [0.98366648, 0.01526209, 0.17034465, 0.05612511],\n",
       "       [0.95983344, 0.15472082, 0.21632699, 0.08935245],\n",
       "       [0.93412001, 0.22803237, 0.25289124, 0.10708438],\n",
       "       [0.80858017, 0.33777328, 0.46514588, 0.1254856 ],\n",
       "       [0.43272528, 0.45266114, 0.76928939, 0.1266513 ],\n",
       "       [0.99850702, 0.01408283, 0.02919611, 0.04396591],\n",
       "       [0.96719362, 0.22963656, 0.00889253, 0.10827965],\n",
       "       [0.14352099, 0.5524575 , 0.81394094, 0.10813225],\n",
       "       [0.32177962, 0.37141584, 0.86264323, 0.11981156],\n",
       "       [0.78088684, 0.47034812, 0.37228326, 0.17433753],\n",
       "       [0.91240594, 0.14037015, 0.36894585, 0.10812295],\n",
       "       [0.30163094, 0.44484227, 0.83518819, 0.11659683],\n",
       "       [0.91456638, 0.16714326, 0.35695002, 0.09065397],\n",
       "       [0.96060072, 0.22719602, 0.11319942, 0.11319942],\n",
       "       [0.92213905, 0.06401626, 0.37114192, 0.08840341],\n",
       "       [0.98751271, 0.10279206, 0.0723089 , 0.09499404],\n",
       "       [0.97461348, 0.01020538, 0.18879947, 0.11991318],\n",
       "       [0.9506225 , 0.22017142, 0.16707126, 0.14116874],\n",
       "       [0.1668177 , 0.43135702, 0.88245577, 0.08587657],\n",
       "       [0.99619845, 0.01067355, 0.06937811, 0.05158885],\n",
       "       [0.91339982, 0.32920701, 0.19153863, 0.14365397],\n",
       "       [0.99292131, 0.08702896, 0.01356295, 0.07968236],\n",
       "       [0.67744531, 0.70488614, 0.09947298, 0.18522555],\n",
       "       [0.91887889, 0.27221123, 0.24299832, 0.15004814],\n",
       "       [0.81672379, 0.23975424, 0.51459446, 0.10330874],\n",
       "       [0.52773971, 0.80397846, 0.19171794, 0.19584091],\n",
       "       [0.98595032, 0.01078151, 0.15986374, 0.04721557],\n",
       "       [0.95156355, 0.26745816, 0.09585206, 0.11749607],\n",
       "       [0.75858354, 0.35353427, 0.5323216 , 0.12727234],\n",
       "       [0.97437846, 0.01883915, 0.21818367, 0.05126002],\n",
       "       [0.44795292, 0.01367795, 0.87538891, 0.18123286],\n",
       "       [0.95790787, 0.10495184, 0.25615364, 0.07604561],\n",
       "       [0.29428701, 0.8326169 , 0.40913072, 0.22968742],\n",
       "       [0.90123546, 0.31496056, 0.26305695, 0.13919605],\n",
       "       [0.99041284, 0.02447702, 0.12419822, 0.05529994],\n",
       "       [0.9951909 , 0.01347728, 0.06383976, 0.07306106],\n",
       "       [0.98231137, 0.16120359, 0.01840224, 0.09348336]])"
      ]
     },
     "execution_count": 13,
     "metadata": {
      "tags": []
     },
     "output_type": "execute_result"
    }
   ],
   "source": [
    "from sklearn import preprocessing \n",
    " \n",
    "# Normalization refers to rescaling real valued numeric attributes into the range 0 and 1.\n",
    "normalized_X = preprocessing.normalize(dataset)\n",
    "normalized_X"
   ]
  },
  {
   "cell_type": "markdown",
   "metadata": {
    "id": "Tn9fYvWRpuzp"
   },
   "source": [
    "## 2. Visualize through scatter plots the relationship of each attribute with the target attribute."
   ]
  },
  {
   "cell_type": "code",
   "execution_count": null,
   "metadata": {
    "colab": {
     "base_uri": "https://localhost:8080/",
     "height": 280
    },
    "id": "CcPT2LAUpuzp",
    "outputId": "a6a22b7a-1a5b-41e1-e20c-ed78a8e77d81"
   },
   "outputs": [
    {
     "data": {
      "image/png": "[encoded data removed]",
      "text/plain": [
       "<Figure size 432x288 with 1 Axes>"
      ]
     },
     "metadata": {
      "needs_background": "light",
      "tags": []
     },
     "output_type": "display_data"
    }
   ],
   "source": [
    "ax = dataset.plot.scatter(x = 'avg_shares', y = 'popularity_score', c= 'green')"
   ]
  },
  {
   "cell_type": "code",
   "execution_count": null,
   "metadata": {
    "colab": {
     "base_uri": "https://localhost:8080/",
     "height": 280
    },
    "id": "OE1utAy8puzq",
    "outputId": "bb08a7d0-824d-4101-c24a-46f33332c062"
   },
   "outputs": [
    {
     "data": {
      "image/png": "[encoded data removed]",
      "text/plain": [
       "<Figure size 432x288 with 1 Axes>"
      ]
     },
     "metadata": {
      "needs_background": "light",
      "tags": []
     },
     "output_type": "display_data"
    }
   ],
   "source": [
    "ax = dataset.plot.scatter(x = 'avg_comments', y = 'popularity_score', c= 'blue')"
   ]
  },
  {
   "cell_type": "code",
   "execution_count": null,
   "metadata": {
    "colab": {
     "base_uri": "https://localhost:8080/",
     "height": 280
    },
    "id": "PeEoMa_upuzq",
    "outputId": "e50aec60-cf7b-49ef-d623-149ae4b90a88"
   },
   "outputs": [
    {
     "data": {
      "image/png": "[encoded data removed]",
      "text/plain": [
       "<Figure size 432x288 with 1 Axes>"
      ]
     },
     "metadata": {
      "needs_background": "light",
      "tags": []
     },
     "output_type": "display_data"
    }
   ],
   "source": [
    "ax = dataset.plot.scatter(x = 'avg_expert', y = 'popularity_score', c= 'red')"
   ]
  },
  {
   "cell_type": "code",
   "execution_count": null,
   "metadata": {
    "colab": {
     "base_uri": "https://localhost:8080/",
     "height": 360
    },
    "id": "_GVzGT9npuzq",
    "outputId": "f39fb39a-89c9-4520-feb2-977efadd791d"
   },
   "outputs": [
    {
     "data": {
      "text/plain": [
       "<matplotlib.axes._subplots.AxesSubplot at 0x7f33946d27f0>"
      ]
     },
     "execution_count": 17,
     "metadata": {
      "tags": []
     },
     "output_type": "execute_result"
    },
    {
     "data": {
      "image/png": "[encoded data removed]",
      "text/plain": [
       "<Figure size 432x288 with 2 Axes>"
      ]
     },
     "metadata": {
      "needs_background": "light",
      "tags": []
     },
     "output_type": "display_data"
    }
   ],
   "source": [
    "import seaborn as sn\n",
    "corrMatrix = dataset.corr()\n",
    "sn.heatmap(corrMatrix, annot=True)\n"
   ]
  },
  {
   "cell_type": "code",
   "execution_count": null,
   "metadata": {
    "colab": {
     "base_uri": "https://localhost:8080/",
     "height": 533
    },
    "id": "BdOQFjlFpuzr",
    "outputId": "87b888d9-6a29-43c8-e488-a92049ca11d5"
   },
   "outputs": [
    {
     "data": {
      "text/plain": [
       "<seaborn.axisgrid.PairGrid at 0x7f33955305c0>"
      ]
     },
     "execution_count": 18,
     "metadata": {
      "tags": []
     },
     "output_type": "execute_result"
    },
    {
     "data": {
      "image/png": "[encoded data removed]",
      "text/plain": [
       "<Figure size 1058.4x504 with 3 Axes>"
      ]
     },
     "metadata": {
      "needs_background": "light",
      "tags": []
     },
     "output_type": "display_data"
    }
   ],
   "source": [
    "sn.pairplot(dataset, x_vars=['avg_shares','avg_comments','avg_expert'],y_vars='popularity_score', size=7, aspect=0.7)"
   ]
  },
  {
   "cell_type": "code",
   "execution_count": null,
   "metadata": {
    "id": "X0y4G7W5puzr"
   },
   "outputs": [],
   "source": [
    "features_col =['avg_shares','avg_comments','avg_expert']\n",
    "\n",
    "X = dataset[features_col]\n",
    "y = dataset.popularity_score\n",
    "\n"
   ]
  },
  {
   "cell_type": "markdown",
   "metadata": {
    "id": "l7FA1ynJpuzr"
   },
   "source": [
    "## 3. Split the dataset into train and test, into 70% and 30% respectively. [1 pt]"
   ]
  },
  {
   "cell_type": "code",
   "execution_count": null,
   "metadata": {
    "id": "ubffDy8ypuzs"
   },
   "outputs": [],
   "source": [
    "X_train, X_test,y_train,y_test  = train_test_split(X,y, test_size=0.3,random_state=42)"
   ]
  },
  {
   "cell_type": "code",
   "execution_count": null,
   "metadata": {
    "colab": {
     "base_uri": "https://localhost:8080/",
     "height": 407
    },
    "id": "PFAzjf6Bpuzs",
    "outputId": "df285f74-58c0-42d1-d271-9196688c93a8"
   },
   "outputs": [
    {
     "data": {
      "text/html": [
       "<div>\n",
       "<style scoped>\n",
       "    .dataframe tbody tr th:only-of-type {\n",
       "        vertical-align: middle;\n",
       "    }\n",
       "\n",
       "    .dataframe tbody tr th {\n",
       "        vertical-align: top;\n",
       "    }\n",
       "\n",
       "    .dataframe thead th {\n",
       "        text-align: right;\n",
       "    }\n",
       "</style>\n",
       "<table border=\"1\" class=\"dataframe\">\n",
       "  <thead>\n",
       "    <tr style=\"text-align: right;\">\n",
       "      <th></th>\n",
       "      <th>avg_shares</th>\n",
       "      <th>avg_comments</th>\n",
       "      <th>avg_expert</th>\n",
       "    </tr>\n",
       "  </thead>\n",
       "  <tbody>\n",
       "    <tr>\n",
       "      <th>169</th>\n",
       "      <td>184.9</td>\n",
       "      <td>43.9</td>\n",
       "      <td>1.7</td>\n",
       "    </tr>\n",
       "    <tr>\n",
       "      <th>97</th>\n",
       "      <td>142.9</td>\n",
       "      <td>29.3</td>\n",
       "      <td>12.6</td>\n",
       "    </tr>\n",
       "    <tr>\n",
       "      <th>31</th>\n",
       "      <td>248.4</td>\n",
       "      <td>30.2</td>\n",
       "      <td>20.3</td>\n",
       "    </tr>\n",
       "    <tr>\n",
       "      <th>12</th>\n",
       "      <td>296.4</td>\n",
       "      <td>36.3</td>\n",
       "      <td>100.9</td>\n",
       "    </tr>\n",
       "    <tr>\n",
       "      <th>35</th>\n",
       "      <td>117.2</td>\n",
       "      <td>14.7</td>\n",
       "      <td>5.4</td>\n",
       "    </tr>\n",
       "    <tr>\n",
       "      <th>...</th>\n",
       "      <td>...</td>\n",
       "      <td>...</td>\n",
       "      <td>...</td>\n",
       "    </tr>\n",
       "    <tr>\n",
       "      <th>106</th>\n",
       "      <td>8.6</td>\n",
       "      <td>2.1</td>\n",
       "      <td>1.0</td>\n",
       "    </tr>\n",
       "    <tr>\n",
       "      <th>14</th>\n",
       "      <td>232.1</td>\n",
       "      <td>8.6</td>\n",
       "      <td>8.7</td>\n",
       "    </tr>\n",
       "    <tr>\n",
       "      <th>92</th>\n",
       "      <td>199.1</td>\n",
       "      <td>30.6</td>\n",
       "      <td>38.7</td>\n",
       "    </tr>\n",
       "    <tr>\n",
       "      <th>179</th>\n",
       "      <td>76.4</td>\n",
       "      <td>0.8</td>\n",
       "      <td>14.8</td>\n",
       "    </tr>\n",
       "    <tr>\n",
       "      <th>102</th>\n",
       "      <td>280.7</td>\n",
       "      <td>13.9</td>\n",
       "      <td>37.0</td>\n",
       "    </tr>\n",
       "  </tbody>\n",
       "</table>\n",
       "<p>140 rows × 3 columns</p>\n",
       "</div>"
      ],
      "text/plain": [
       "     avg_shares  avg_comments  avg_expert\n",
       "169       184.9          43.9         1.7\n",
       "97        142.9          29.3        12.6\n",
       "31        248.4          30.2        20.3\n",
       "12        296.4          36.3       100.9\n",
       "35        117.2          14.7         5.4\n",
       "..          ...           ...         ...\n",
       "106         8.6           2.1         1.0\n",
       "14        232.1           8.6         8.7\n",
       "92        199.1          30.6        38.7\n",
       "179        76.4           0.8        14.8\n",
       "102       280.7          13.9        37.0\n",
       "\n",
       "[140 rows x 3 columns]"
      ]
     },
     "execution_count": 23,
     "metadata": {
      "tags": []
     },
     "output_type": "execute_result"
    }
   ],
   "source": [
    "X_train"
   ]
  },
  {
   "cell_type": "code",
   "execution_count": null,
   "metadata": {
    "colab": {
     "base_uri": "https://localhost:8080/",
     "height": 1000
    },
    "id": "JRxcZFZ7puzs",
    "outputId": "f434c305-cb74-4dbd-f459-c0bdeb7f22e3"
   },
   "outputs": [
    {
     "data": {
      "text/html": [
       "<div>\n",
       "<style scoped>\n",
       "    .dataframe tbody tr th:only-of-type {\n",
       "        vertical-align: middle;\n",
       "    }\n",
       "\n",
       "    .dataframe tbody tr th {\n",
       "        vertical-align: top;\n",
       "    }\n",
       "\n",
       "    .dataframe thead th {\n",
       "        text-align: right;\n",
       "    }\n",
       "</style>\n",
       "<table border=\"1\" class=\"dataframe\">\n",
       "  <thead>\n",
       "    <tr style=\"text-align: right;\">\n",
       "      <th></th>\n",
       "      <th>avg_shares</th>\n",
       "      <th>avg_comments</th>\n",
       "      <th>avg_expert</th>\n",
       "    </tr>\n",
       "  </thead>\n",
       "  <tbody>\n",
       "    <tr>\n",
       "      <th>95</th>\n",
       "      <td>44.500000</td>\n",
       "      <td>39.300000</td>\n",
       "      <td>45.1</td>\n",
       "    </tr>\n",
       "    <tr>\n",
       "      <th>15</th>\n",
       "      <td>206.900000</td>\n",
       "      <td>8.400000</td>\n",
       "      <td>26.4</td>\n",
       "    </tr>\n",
       "    <tr>\n",
       "      <th>30</th>\n",
       "      <td>95.700000</td>\n",
       "      <td>1.400000</td>\n",
       "      <td>7.4</td>\n",
       "    </tr>\n",
       "    <tr>\n",
       "      <th>158</th>\n",
       "      <td>281.400000</td>\n",
       "      <td>39.600000</td>\n",
       "      <td>55.8</td>\n",
       "    </tr>\n",
       "    <tr>\n",
       "      <th>128</th>\n",
       "      <td>31.500000</td>\n",
       "      <td>24.600000</td>\n",
       "      <td>2.2</td>\n",
       "    </tr>\n",
       "    <tr>\n",
       "      <th>115</th>\n",
       "      <td>239.800000</td>\n",
       "      <td>4.100000</td>\n",
       "      <td>36.9</td>\n",
       "    </tr>\n",
       "    <tr>\n",
       "      <th>69</th>\n",
       "      <td>48.300000</td>\n",
       "      <td>47.000000</td>\n",
       "      <td>8.5</td>\n",
       "    </tr>\n",
       "    <tr>\n",
       "      <th>170</th>\n",
       "      <td>7.300000</td>\n",
       "      <td>28.100000</td>\n",
       "      <td>41.4</td>\n",
       "    </tr>\n",
       "    <tr>\n",
       "      <th>174</th>\n",
       "      <td>23.800000</td>\n",
       "      <td>35.100000</td>\n",
       "      <td>65.9</td>\n",
       "    </tr>\n",
       "    <tr>\n",
       "      <th>45</th>\n",
       "      <td>70.600000</td>\n",
       "      <td>23.319388</td>\n",
       "      <td>40.8</td>\n",
       "    </tr>\n",
       "    <tr>\n",
       "      <th>66</th>\n",
       "      <td>66.900000</td>\n",
       "      <td>11.700000</td>\n",
       "      <td>36.8</td>\n",
       "    </tr>\n",
       "    <tr>\n",
       "      <th>182</th>\n",
       "      <td>224.000000</td>\n",
       "      <td>2.400000</td>\n",
       "      <td>15.6</td>\n",
       "    </tr>\n",
       "    <tr>\n",
       "      <th>165</th>\n",
       "      <td>195.400000</td>\n",
       "      <td>47.700000</td>\n",
       "      <td>52.9</td>\n",
       "    </tr>\n",
       "    <tr>\n",
       "      <th>78</th>\n",
       "      <td>228.300000</td>\n",
       "      <td>16.900000</td>\n",
       "      <td>26.2</td>\n",
       "    </tr>\n",
       "    <tr>\n",
       "      <th>186</th>\n",
       "      <td>69.200000</td>\n",
       "      <td>20.500000</td>\n",
       "      <td>18.3</td>\n",
       "    </tr>\n",
       "    <tr>\n",
       "      <th>177</th>\n",
       "      <td>121.000000</td>\n",
       "      <td>8.400000</td>\n",
       "      <td>48.7</td>\n",
       "    </tr>\n",
       "    <tr>\n",
       "      <th>56</th>\n",
       "      <td>100.400000</td>\n",
       "      <td>9.600000</td>\n",
       "      <td>3.6</td>\n",
       "    </tr>\n",
       "    <tr>\n",
       "      <th>152</th>\n",
       "      <td>210.700000</td>\n",
       "      <td>29.500000</td>\n",
       "      <td>9.3</td>\n",
       "    </tr>\n",
       "    <tr>\n",
       "      <th>82</th>\n",
       "      <td>116.000000</td>\n",
       "      <td>7.700000</td>\n",
       "      <td>23.1</td>\n",
       "    </tr>\n",
       "    <tr>\n",
       "      <th>68</th>\n",
       "      <td>228.000000</td>\n",
       "      <td>37.700000</td>\n",
       "      <td>32.0</td>\n",
       "    </tr>\n",
       "    <tr>\n",
       "      <th>124</th>\n",
       "      <td>276.900000</td>\n",
       "      <td>48.900000</td>\n",
       "      <td>41.8</td>\n",
       "    </tr>\n",
       "    <tr>\n",
       "      <th>16</th>\n",
       "      <td>131.100000</td>\n",
       "      <td>42.800000</td>\n",
       "      <td>28.9</td>\n",
       "    </tr>\n",
       "    <tr>\n",
       "      <th>148</th>\n",
       "      <td>129.400000</td>\n",
       "      <td>5.700000</td>\n",
       "      <td>31.3</td>\n",
       "    </tr>\n",
       "    <tr>\n",
       "      <th>93</th>\n",
       "      <td>220.500000</td>\n",
       "      <td>33.200000</td>\n",
       "      <td>37.9</td>\n",
       "    </tr>\n",
       "    <tr>\n",
       "      <th>65</th>\n",
       "      <td>243.200000</td>\n",
       "      <td>49.000000</td>\n",
       "      <td>44.3</td>\n",
       "    </tr>\n",
       "    <tr>\n",
       "      <th>60</th>\n",
       "      <td>89.700000</td>\n",
       "      <td>9.900000</td>\n",
       "      <td>35.7</td>\n",
       "    </tr>\n",
       "    <tr>\n",
       "      <th>84</th>\n",
       "      <td>276.700000</td>\n",
       "      <td>2.300000</td>\n",
       "      <td>23.7</td>\n",
       "    </tr>\n",
       "    <tr>\n",
       "      <th>67</th>\n",
       "      <td>253.800000</td>\n",
       "      <td>21.300000</td>\n",
       "      <td>30.0</td>\n",
       "    </tr>\n",
       "    <tr>\n",
       "      <th>125</th>\n",
       "      <td>134.300000</td>\n",
       "      <td>4.900000</td>\n",
       "      <td>9.3</td>\n",
       "    </tr>\n",
       "    <tr>\n",
       "      <th>132</th>\n",
       "      <td>210.800000</td>\n",
       "      <td>49.600000</td>\n",
       "      <td>37.7</td>\n",
       "    </tr>\n",
       "    <tr>\n",
       "      <th>9</th>\n",
       "      <td>19.400000</td>\n",
       "      <td>16.000000</td>\n",
       "      <td>22.3</td>\n",
       "    </tr>\n",
       "    <tr>\n",
       "      <th>18</th>\n",
       "      <td>151.500000</td>\n",
       "      <td>41.300000</td>\n",
       "      <td>58.5</td>\n",
       "    </tr>\n",
       "    <tr>\n",
       "      <th>55</th>\n",
       "      <td>220.300000</td>\n",
       "      <td>49.000000</td>\n",
       "      <td>3.2</td>\n",
       "    </tr>\n",
       "    <tr>\n",
       "      <th>75</th>\n",
       "      <td>112.900000</td>\n",
       "      <td>17.400000</td>\n",
       "      <td>38.6</td>\n",
       "    </tr>\n",
       "    <tr>\n",
       "      <th>150</th>\n",
       "      <td>75.500000</td>\n",
       "      <td>10.800000</td>\n",
       "      <td>6.0</td>\n",
       "    </tr>\n",
       "    <tr>\n",
       "      <th>104</th>\n",
       "      <td>131.700000</td>\n",
       "      <td>18.400000</td>\n",
       "      <td>34.6</td>\n",
       "    </tr>\n",
       "    <tr>\n",
       "      <th>135</th>\n",
       "      <td>213.500000</td>\n",
       "      <td>43.000000</td>\n",
       "      <td>33.8</td>\n",
       "    </tr>\n",
       "    <tr>\n",
       "      <th>137</th>\n",
       "      <td>187.800000</td>\n",
       "      <td>21.100000</td>\n",
       "      <td>9.5</td>\n",
       "    </tr>\n",
       "    <tr>\n",
       "      <th>164</th>\n",
       "      <td>204.100000</td>\n",
       "      <td>32.900000</td>\n",
       "      <td>46.0</td>\n",
       "    </tr>\n",
       "    <tr>\n",
       "      <th>76</th>\n",
       "      <td>262.700000</td>\n",
       "      <td>28.800000</td>\n",
       "      <td>15.9</td>\n",
       "    </tr>\n",
       "    <tr>\n",
       "      <th>79</th>\n",
       "      <td>139.500000</td>\n",
       "      <td>2.100000</td>\n",
       "      <td>26.6</td>\n",
       "    </tr>\n",
       "    <tr>\n",
       "      <th>197</th>\n",
       "      <td>218.500000</td>\n",
       "      <td>5.400000</td>\n",
       "      <td>27.4</td>\n",
       "    </tr>\n",
       "    <tr>\n",
       "      <th>38</th>\n",
       "      <td>240.100000</td>\n",
       "      <td>7.300000</td>\n",
       "      <td>8.7</td>\n",
       "    </tr>\n",
       "    <tr>\n",
       "      <th>24</th>\n",
       "      <td>74.700000</td>\n",
       "      <td>49.400000</td>\n",
       "      <td>45.7</td>\n",
       "    </tr>\n",
       "    <tr>\n",
       "      <th>122</th>\n",
       "      <td>216.800000</td>\n",
       "      <td>43.900000</td>\n",
       "      <td>27.2</td>\n",
       "    </tr>\n",
       "    <tr>\n",
       "      <th>195</th>\n",
       "      <td>4.100000</td>\n",
       "      <td>11.600000</td>\n",
       "      <td>5.7</td>\n",
       "    </tr>\n",
       "    <tr>\n",
       "      <th>29</th>\n",
       "      <td>38.200000</td>\n",
       "      <td>3.700000</td>\n",
       "      <td>13.8</td>\n",
       "    </tr>\n",
       "    <tr>\n",
       "      <th>19</th>\n",
       "      <td>147.291457</td>\n",
       "      <td>7.600000</td>\n",
       "      <td>7.2</td>\n",
       "    </tr>\n",
       "    <tr>\n",
       "      <th>143</th>\n",
       "      <td>66.100000</td>\n",
       "      <td>5.800000</td>\n",
       "      <td>24.2</td>\n",
       "    </tr>\n",
       "    <tr>\n",
       "      <th>86</th>\n",
       "      <td>184.900000</td>\n",
       "      <td>21.000000</td>\n",
       "      <td>22.0</td>\n",
       "    </tr>\n",
       "    <tr>\n",
       "      <th>114</th>\n",
       "      <td>206.800000</td>\n",
       "      <td>5.200000</td>\n",
       "      <td>19.4</td>\n",
       "    </tr>\n",
       "    <tr>\n",
       "      <th>173</th>\n",
       "      <td>96.200000</td>\n",
       "      <td>14.800000</td>\n",
       "      <td>38.9</td>\n",
       "    </tr>\n",
       "    <tr>\n",
       "      <th>5</th>\n",
       "      <td>137.900000</td>\n",
       "      <td>46.400000</td>\n",
       "      <td>59.0</td>\n",
       "    </tr>\n",
       "    <tr>\n",
       "      <th>126</th>\n",
       "      <td>209.600000</td>\n",
       "      <td>20.600000</td>\n",
       "      <td>10.7</td>\n",
       "    </tr>\n",
       "    <tr>\n",
       "      <th>117</th>\n",
       "      <td>135.200000</td>\n",
       "      <td>41.700000</td>\n",
       "      <td>45.9</td>\n",
       "    </tr>\n",
       "    <tr>\n",
       "      <th>73</th>\n",
       "      <td>44.700000</td>\n",
       "      <td>25.800000</td>\n",
       "      <td>20.6</td>\n",
       "    </tr>\n",
       "    <tr>\n",
       "      <th>140</th>\n",
       "      <td>75.300000</td>\n",
       "      <td>20.300000</td>\n",
       "      <td>32.5</td>\n",
       "    </tr>\n",
       "    <tr>\n",
       "      <th>98</th>\n",
       "      <td>187.900000</td>\n",
       "      <td>17.200000</td>\n",
       "      <td>17.9</td>\n",
       "    </tr>\n",
       "    <tr>\n",
       "      <th>172</th>\n",
       "      <td>43.000000</td>\n",
       "      <td>25.900000</td>\n",
       "      <td>20.5</td>\n",
       "    </tr>\n",
       "    <tr>\n",
       "      <th>96</th>\n",
       "      <td>182.600000</td>\n",
       "      <td>46.200000</td>\n",
       "      <td>58.7</td>\n",
       "    </tr>\n",
       "  </tbody>\n",
       "</table>\n",
       "</div>"
      ],
      "text/plain": [
       "     avg_shares  avg_comments  avg_expert\n",
       "95    44.500000     39.300000        45.1\n",
       "15   206.900000      8.400000        26.4\n",
       "30    95.700000      1.400000         7.4\n",
       "158  281.400000     39.600000        55.8\n",
       "128   31.500000     24.600000         2.2\n",
       "115  239.800000      4.100000        36.9\n",
       "69    48.300000     47.000000         8.5\n",
       "170    7.300000     28.100000        41.4\n",
       "174   23.800000     35.100000        65.9\n",
       "45    70.600000     23.319388        40.8\n",
       "66    66.900000     11.700000        36.8\n",
       "182  224.000000      2.400000        15.6\n",
       "165  195.400000     47.700000        52.9\n",
       "78   228.300000     16.900000        26.2\n",
       "186   69.200000     20.500000        18.3\n",
       "177  121.000000      8.400000        48.7\n",
       "56   100.400000      9.600000         3.6\n",
       "152  210.700000     29.500000         9.3\n",
       "82   116.000000      7.700000        23.1\n",
       "68   228.000000     37.700000        32.0\n",
       "124  276.900000     48.900000        41.8\n",
       "16   131.100000     42.800000        28.9\n",
       "148  129.400000      5.700000        31.3\n",
       "93   220.500000     33.200000        37.9\n",
       "65   243.200000     49.000000        44.3\n",
       "60    89.700000      9.900000        35.7\n",
       "84   276.700000      2.300000        23.7\n",
       "67   253.800000     21.300000        30.0\n",
       "125  134.300000      4.900000         9.3\n",
       "132  210.800000     49.600000        37.7\n",
       "9     19.400000     16.000000        22.3\n",
       "18   151.500000     41.300000        58.5\n",
       "55   220.300000     49.000000         3.2\n",
       "75   112.900000     17.400000        38.6\n",
       "150   75.500000     10.800000         6.0\n",
       "104  131.700000     18.400000        34.6\n",
       "135  213.500000     43.000000        33.8\n",
       "137  187.800000     21.100000         9.5\n",
       "164  204.100000     32.900000        46.0\n",
       "76   262.700000     28.800000        15.9\n",
       "79   139.500000      2.100000        26.6\n",
       "197  218.500000      5.400000        27.4\n",
       "38   240.100000      7.300000         8.7\n",
       "24    74.700000     49.400000        45.7\n",
       "122  216.800000     43.900000        27.2\n",
       "195    4.100000     11.600000         5.7\n",
       "29    38.200000      3.700000        13.8\n",
       "19   147.291457      7.600000         7.2\n",
       "143   66.100000      5.800000        24.2\n",
       "86   184.900000     21.000000        22.0\n",
       "114  206.800000      5.200000        19.4\n",
       "173   96.200000     14.800000        38.9\n",
       "5    137.900000     46.400000        59.0\n",
       "126  209.600000     20.600000        10.7\n",
       "117  135.200000     41.700000        45.9\n",
       "73    44.700000     25.800000        20.6\n",
       "140   75.300000     20.300000        32.5\n",
       "98   187.900000     17.200000        17.9\n",
       "172   43.000000     25.900000        20.5\n",
       "96   182.600000     46.200000        58.7"
      ]
     },
     "execution_count": 24,
     "metadata": {
      "tags": []
     },
     "output_type": "execute_result"
    }
   ],
   "source": [
    "X_test"
   ]
  },
  {
   "cell_type": "markdown",
   "metadata": {
    "id": "9Pk6VHxtpuzt"
   },
   "source": [
    "## 4. Train the linear regression model and print the coefficients (parameters) learned by the final model. [1 pt]"
   ]
  },
  {
   "cell_type": "code",
   "execution_count": null,
   "metadata": {
    "colab": {
     "base_uri": "https://localhost:8080/"
    },
    "id": "oFT5AzDipuzt",
    "outputId": "1a80b19c-b8a8-4b91-aa0a-9c0b2769d447"
   },
   "outputs": [
    {
     "data": {
      "text/plain": [
       "LinearRegression()"
      ]
     },
     "execution_count": 30,
     "metadata": {
      "tags": []
     },
     "output_type": "execute_result"
    }
   ],
   "source": [
    "from sklearn.linear_model import LinearRegression\n",
    " \n",
    "linreg = LinearRegression()\n",
    " \n",
    "linreg.fit(X_train,y_train)"
   ]
  },
  {
   "cell_type": "code",
   "execution_count": null,
   "metadata": {
    "colab": {
     "base_uri": "https://localhost:8080/"
    },
    "id": "-g3kW22qpuzt",
    "outputId": "5924b9d3-7071-4616-8d35-b77e2763a6c8"
   },
   "outputs": [
    {
     "name": "stdout",
     "output_type": "stream",
     "text": [
      "3.010123993831364\n",
      "[ 0.04598291  0.17741631 -0.00018107]\n"
     ]
    }
   ],
   "source": [
    "print(linreg.intercept_)\n",
    "print(linreg.coef_)"
   ]
  },
  {
   "cell_type": "code",
   "execution_count": null,
   "metadata": {
    "id": "HbE3QLfVpuzu"
   },
   "outputs": [],
   "source": [
    "y_pred = linreg.predict(X_test)"
   ]
  },
  {
   "cell_type": "code",
   "execution_count": null,
   "metadata": {
    "colab": {
     "base_uri": "https://localhost:8080/"
    },
    "id": "0bKrkJUxpuzu",
    "outputId": "b53911f1-ca1e-4d5a-da7e-a826ced10f8f"
   },
   "outputs": [
    {
     "data": {
      "text/plain": [
       "array([12.02065792, 14.00950403,  7.65773104, 22.96529586,  8.82262833,\n",
       "       14.75755029, 13.56812569,  8.32370113, 10.31989701, 10.38636917,\n",
       "        8.15548783, 13.73326944, 20.44836311, 16.50161305,  9.82586181,\n",
       "       10.05553452,  9.32935248, 17.93081945,  9.70606396, 20.17702715,\n",
       "       24.41087941, 16.62666801,  9.96591752, 19.03271366, 22.87854443,\n",
       "        8.88474792, 16.13736031, 18.45412084, 10.05328426, 21.49634311,\n",
       "        6.73681542, 17.29323516, 21.83297786, 11.28164854,  8.39684311,\n",
       "       12.32426777, 20.45025551, 15.3874777 , 18.22390243, 20.19654409,\n",
       "        9.7924972 , 14.01047575, 15.34418352, 15.20113774, 20.76286884,\n",
       "        5.25565097,  5.42061258, 11.1300735 ,  7.07422678, 15.23412227,\n",
       "       13.43844105, 10.05239729, 17.57260027, 16.30097962, 16.6169618 ,\n",
       "        9.63917058, 10.06830309, 14.69863141,  9.57875937, 19.59260724])"
      ]
     },
     "execution_count": 33,
     "metadata": {
      "tags": []
     },
     "output_type": "execute_result"
    }
   ],
   "source": [
    "y_pred"
   ]
  },
  {
   "cell_type": "code",
   "execution_count": null,
   "metadata": {
    "colab": {
     "base_uri": "https://localhost:8080/"
    },
    "id": "Gze7CWoppuzu",
    "outputId": "85d97c8c-cf41-4866-ec87-6804d96995e6"
   },
   "outputs": [
    {
     "data": {
      "text/plain": [
       "(60,)"
      ]
     },
     "execution_count": 29,
     "metadata": {
      "tags": []
     },
     "output_type": "execute_result"
    }
   ],
   "source": [
    "y_pred.shape"
   ]
  },
  {
   "cell_type": "markdown",
   "metadata": {
    "id": "Me65s6Aypuzv"
   },
   "source": [
    "## coefficients (parameters) learned by the final model."
   ]
  },
  {
   "cell_type": "code",
   "execution_count": null,
   "metadata": {
    "colab": {
     "base_uri": "https://localhost:8080/"
    },
    "id": "8g1gF6N2puzv",
    "outputId": "3305f311-6e81-4e5d-e357-d5a30947ad5c"
   },
   "outputs": [
    {
     "data": {
      "text/plain": [
       "[('avg_shares', 0.04598290628161205),\n",
       " ('avg_comments', 0.17741630678576242),\n",
       " ('avg_expert', -0.00018107012183354865)]"
      ]
     },
     "execution_count": 34,
     "metadata": {
      "tags": []
     },
     "output_type": "execute_result"
    }
   ],
   "source": [
    "list(zip(features_col,linreg.coef_))"
   ]
  },
  {
   "cell_type": "markdown",
   "metadata": {
    "id": "k20MqUUYpuzv"
   },
   "source": [
    "## 5. Print the confidence interval and p-value of each of the coefficients, and explain your interpretations. [1 pt]"
   ]
  },
  {
   "cell_type": "code",
   "execution_count": null,
   "metadata": {
    "colab": {
     "base_uri": "https://localhost:8080/"
    },
    "id": "XjbARD8mpuzv",
    "outputId": "8390a1ac-b6e5-4633-a06d-94e432e5304f"
   },
   "outputs": [
    {
     "name": "stdout",
     "output_type": "stream",
     "text": [
      "     avg_shares  avg_comments  avg_expert\n",
      "0         147.3          23.9        19.1\n",
      "1          28.6           1.5        33.0\n",
      "2          17.9          37.6        21.6\n",
      "3          94.2           4.9         8.1\n",
      "4         293.6          27.7         1.8\n",
      "..          ...           ...         ...\n",
      "195         4.1          11.6         5.7\n",
      "196        76.4          26.7        22.3\n",
      "197       218.5           5.4        27.4\n",
      "198       140.3           1.9         9.0\n",
      "199       266.9          43.8         5.0\n",
      "\n",
      "[200 rows x 3 columns]\n",
      "0      14.6\n",
      "1       7.3\n",
      "2       8.0\n",
      "3       9.7\n",
      "4      20.7\n",
      "       ... \n",
      "195     3.2\n",
      "196    11.8\n",
      "197    12.2\n",
      "198    10.3\n",
      "199    25.4\n",
      "Name: popularity_score, Length: 200, dtype: float64\n"
     ]
    }
   ],
   "source": [
    "target_col = \"popularity_score\"\n",
    "\n",
    "X = dataset.loc[:, dataset.columns != target_col]\n",
    "Y = dataset.loc[:, target_col]\n",
    "print(X)\n",
    "print(Y)\n",
    "\n"
   ]
  },
  {
   "cell_type": "code",
   "execution_count": null,
   "metadata": {
    "id": "s3dH1sdFpuzw"
   },
   "outputs": [],
   "source": [
    "X_train, X_test,y_train,y_test  = train_test_split(X,y, test_size=0.3,random_state=42)"
   ]
  },
  {
   "cell_type": "markdown",
   "metadata": {
    "id": "Gm0dVhacpuzw"
   },
   "source": [
    "## Linear Regression using Statsmodels"
   ]
  },
  {
   "cell_type": "code",
   "execution_count": null,
   "metadata": {
    "id": "l_5kxvPbpuzw"
   },
   "outputs": [],
   "source": [
    "import statsmodels.api as sm\n",
    "import statsmodels.formula.api as snf"
   ]
  },
  {
   "cell_type": "markdown",
   "metadata": {
    "id": "gyu1QNMfpuzw"
   },
   "source": [
    "We need to add a constant term to allow statsmodels.api to calculate the bias/ intercepts"
   ]
  },
  {
   "cell_type": "code",
   "execution_count": null,
   "metadata": {
    "id": "V7y2PdDlpuzx"
   },
   "outputs": [],
   "source": [
    "X_with_constant = sm.add_constant(X_train)"
   ]
  },
  {
   "cell_type": "code",
   "execution_count": null,
   "metadata": {
    "colab": {
     "base_uri": "https://localhost:8080/",
     "height": 407
    },
    "id": "a0k2Zewlpuzx",
    "outputId": "158cd3b7-9956-4747-f68a-f732722a00d3"
   },
   "outputs": [
    {
     "data": {
      "text/html": [
       "<div>\n",
       "<style scoped>\n",
       "    .dataframe tbody tr th:only-of-type {\n",
       "        vertical-align: middle;\n",
       "    }\n",
       "\n",
       "    .dataframe tbody tr th {\n",
       "        vertical-align: top;\n",
       "    }\n",
       "\n",
       "    .dataframe thead th {\n",
       "        text-align: right;\n",
       "    }\n",
       "</style>\n",
       "<table border=\"1\" class=\"dataframe\">\n",
       "  <thead>\n",
       "    <tr style=\"text-align: right;\">\n",
       "      <th></th>\n",
       "      <th>const</th>\n",
       "      <th>avg_shares</th>\n",
       "      <th>avg_comments</th>\n",
       "      <th>avg_expert</th>\n",
       "    </tr>\n",
       "  </thead>\n",
       "  <tbody>\n",
       "    <tr>\n",
       "      <th>169</th>\n",
       "      <td>1.0</td>\n",
       "      <td>184.9</td>\n",
       "      <td>43.9</td>\n",
       "      <td>1.7</td>\n",
       "    </tr>\n",
       "    <tr>\n",
       "      <th>97</th>\n",
       "      <td>1.0</td>\n",
       "      <td>142.9</td>\n",
       "      <td>29.3</td>\n",
       "      <td>12.6</td>\n",
       "    </tr>\n",
       "    <tr>\n",
       "      <th>31</th>\n",
       "      <td>1.0</td>\n",
       "      <td>248.4</td>\n",
       "      <td>30.2</td>\n",
       "      <td>20.3</td>\n",
       "    </tr>\n",
       "    <tr>\n",
       "      <th>12</th>\n",
       "      <td>1.0</td>\n",
       "      <td>296.4</td>\n",
       "      <td>36.3</td>\n",
       "      <td>100.9</td>\n",
       "    </tr>\n",
       "    <tr>\n",
       "      <th>35</th>\n",
       "      <td>1.0</td>\n",
       "      <td>117.2</td>\n",
       "      <td>14.7</td>\n",
       "      <td>5.4</td>\n",
       "    </tr>\n",
       "    <tr>\n",
       "      <th>...</th>\n",
       "      <td>...</td>\n",
       "      <td>...</td>\n",
       "      <td>...</td>\n",
       "      <td>...</td>\n",
       "    </tr>\n",
       "    <tr>\n",
       "      <th>106</th>\n",
       "      <td>1.0</td>\n",
       "      <td>8.6</td>\n",
       "      <td>2.1</td>\n",
       "      <td>1.0</td>\n",
       "    </tr>\n",
       "    <tr>\n",
       "      <th>14</th>\n",
       "      <td>1.0</td>\n",
       "      <td>232.1</td>\n",
       "      <td>8.6</td>\n",
       "      <td>8.7</td>\n",
       "    </tr>\n",
       "    <tr>\n",
       "      <th>92</th>\n",
       "      <td>1.0</td>\n",
       "      <td>199.1</td>\n",
       "      <td>30.6</td>\n",
       "      <td>38.7</td>\n",
       "    </tr>\n",
       "    <tr>\n",
       "      <th>179</th>\n",
       "      <td>1.0</td>\n",
       "      <td>76.4</td>\n",
       "      <td>0.8</td>\n",
       "      <td>14.8</td>\n",
       "    </tr>\n",
       "    <tr>\n",
       "      <th>102</th>\n",
       "      <td>1.0</td>\n",
       "      <td>280.7</td>\n",
       "      <td>13.9</td>\n",
       "      <td>37.0</td>\n",
       "    </tr>\n",
       "  </tbody>\n",
       "</table>\n",
       "<p>140 rows × 4 columns</p>\n",
       "</div>"
      ],
      "text/plain": [
       "     const  avg_shares  avg_comments  avg_expert\n",
       "169    1.0       184.9          43.9         1.7\n",
       "97     1.0       142.9          29.3        12.6\n",
       "31     1.0       248.4          30.2        20.3\n",
       "12     1.0       296.4          36.3       100.9\n",
       "35     1.0       117.2          14.7         5.4\n",
       "..     ...         ...           ...         ...\n",
       "106    1.0         8.6           2.1         1.0\n",
       "14     1.0       232.1           8.6         8.7\n",
       "92     1.0       199.1          30.6        38.7\n",
       "179    1.0        76.4           0.8        14.8\n",
       "102    1.0       280.7          13.9        37.0\n",
       "\n",
       "[140 rows x 4 columns]"
      ]
     },
     "execution_count": 38,
     "metadata": {
      "tags": []
     },
     "output_type": "execute_result"
    }
   ],
   "source": [
    "pd.DataFrame(X_with_constant)"
   ]
  },
  {
   "cell_type": "code",
   "execution_count": null,
   "metadata": {
    "id": "L5EIpLw_puzx"
   },
   "outputs": [],
   "source": [
    "model = sm.OLS(y_train, X_with_constant)"
   ]
  },
  {
   "cell_type": "code",
   "execution_count": null,
   "metadata": {
    "id": "tULQIolQpuzy"
   },
   "outputs": [],
   "source": [
    "results = model.fit()"
   ]
  },
  {
   "cell_type": "code",
   "execution_count": null,
   "metadata": {
    "colab": {
     "base_uri": "https://localhost:8080/"
    },
    "id": "EixaiXQypuzy",
    "outputId": "fb26cef4-7dd8-4c8a-c2f3-575753c15d3e"
   },
   "outputs": [
    {
     "data": {
      "text/plain": [
       "const           3.010124\n",
       "avg_shares      0.045983\n",
       "avg_comments    0.177416\n",
       "avg_expert     -0.000181\n",
       "dtype: float64"
      ]
     },
     "execution_count": 42,
     "metadata": {
      "tags": []
     },
     "output_type": "execute_result"
    }
   ],
   "source": [
    "results.params"
   ]
  },
  {
   "cell_type": "code",
   "execution_count": null,
   "metadata": {
    "colab": {
     "base_uri": "https://localhost:8080/",
     "height": 485
    },
    "id": "4jhpuFL7puzy",
    "outputId": "4dcda070-7762-4450-f3b2-733b50691b6b"
   },
   "outputs": [
    {
     "data": {
      "text/html": [
       "<table class=\"simpletable\">\n",
       "<caption>OLS Regression Results</caption>\n",
       "<tr>\n",
       "  <th>Dep. Variable:</th>    <td>popularity_score</td> <th>  R-squared:         </th> <td>   0.880</td>\n",
       "</tr>\n",
       "<tr>\n",
       "  <th>Model:</th>                   <td>OLS</td>       <th>  Adj. R-squared:    </th> <td>   0.878</td>\n",
       "</tr>\n",
       "<tr>\n",
       "  <th>Method:</th>             <td>Least Squares</td>  <th>  F-statistic:       </th> <td>   333.6</td>\n",
       "</tr>\n",
       "<tr>\n",
       "  <th>Date:</th>             <td>Wed, 10 Feb 2021</td> <th>  Prob (F-statistic):</th> <td>1.73e-62</td>\n",
       "</tr>\n",
       "<tr>\n",
       "  <th>Time:</th>                 <td>04:01:20</td>     <th>  Log-Likelihood:    </th> <td> -278.48</td>\n",
       "</tr>\n",
       "<tr>\n",
       "  <th>No. Observations:</th>      <td>   140</td>      <th>  AIC:               </th> <td>   565.0</td>\n",
       "</tr>\n",
       "<tr>\n",
       "  <th>Df Residuals:</th>          <td>   136</td>      <th>  BIC:               </th> <td>   576.7</td>\n",
       "</tr>\n",
       "<tr>\n",
       "  <th>Df Model:</th>              <td>     3</td>      <th>                     </th>     <td> </td>   \n",
       "</tr>\n",
       "<tr>\n",
       "  <th>Covariance Type:</th>      <td>nonrobust</td>    <th>                     </th>     <td> </td>   \n",
       "</tr>\n",
       "</table>\n",
       "<table class=\"simpletable\">\n",
       "<tr>\n",
       "        <td></td>          <th>coef</th>     <th>std err</th>      <th>t</th>      <th>P>|t|</th>  <th>[0.025</th>    <th>0.975]</th>  \n",
       "</tr>\n",
       "<tr>\n",
       "  <th>const</th>        <td>    3.0101</td> <td>    0.401</td> <td>    7.513</td> <td> 0.000</td> <td>    2.218</td> <td>    3.802</td>\n",
       "</tr>\n",
       "<tr>\n",
       "  <th>avg_shares</th>   <td>    0.0460</td> <td>    0.002</td> <td>   26.758</td> <td> 0.000</td> <td>    0.043</td> <td>    0.049</td>\n",
       "</tr>\n",
       "<tr>\n",
       "  <th>avg_comments</th> <td>    0.1774</td> <td>    0.011</td> <td>   15.702</td> <td> 0.000</td> <td>    0.155</td> <td>    0.200</td>\n",
       "</tr>\n",
       "<tr>\n",
       "  <th>avg_expert</th>   <td>   -0.0002</td> <td>    0.007</td> <td>   -0.027</td> <td> 0.979</td> <td>   -0.014</td> <td>    0.013</td>\n",
       "</tr>\n",
       "</table>\n",
       "<table class=\"simpletable\">\n",
       "<tr>\n",
       "  <th>Omnibus:</th>       <td>40.591</td> <th>  Durbin-Watson:     </th> <td>   2.206</td>\n",
       "</tr>\n",
       "<tr>\n",
       "  <th>Prob(Omnibus):</th> <td> 0.000</td> <th>  Jarque-Bera (JB):  </th> <td>  84.652</td>\n",
       "</tr>\n",
       "<tr>\n",
       "  <th>Skew:</th>          <td>-1.249</td> <th>  Prob(JB):          </th> <td>4.15e-19</td>\n",
       "</tr>\n",
       "<tr>\n",
       "  <th>Kurtosis:</th>      <td> 5.876</td> <th>  Cond. No.          </th> <td>    463.</td>\n",
       "</tr>\n",
       "</table><br/><br/>Warnings:<br/>[1] Standard Errors assume that the covariance matrix of the errors is correctly specified."
      ],
      "text/plain": [
       "<class 'statsmodels.iolib.summary.Summary'>\n",
       "\"\"\"\n",
       "                            OLS Regression Results                            \n",
       "==============================================================================\n",
       "Dep. Variable:       popularity_score   R-squared:                       0.880\n",
       "Model:                            OLS   Adj. R-squared:                  0.878\n",
       "Method:                 Least Squares   F-statistic:                     333.6\n",
       "Date:                Wed, 10 Feb 2021   Prob (F-statistic):           1.73e-62\n",
       "Time:                        04:01:20   Log-Likelihood:                -278.48\n",
       "No. Observations:                 140   AIC:                             565.0\n",
       "Df Residuals:                     136   BIC:                             576.7\n",
       "Df Model:                           3                                         \n",
       "Covariance Type:            nonrobust                                         \n",
       "================================================================================\n",
       "                   coef    std err          t      P>|t|      [0.025      0.975]\n",
       "--------------------------------------------------------------------------------\n",
       "const            3.0101      0.401      7.513      0.000       2.218       3.802\n",
       "avg_shares       0.0460      0.002     26.758      0.000       0.043       0.049\n",
       "avg_comments     0.1774      0.011     15.702      0.000       0.155       0.200\n",
       "avg_expert      -0.0002      0.007     -0.027      0.979      -0.014       0.013\n",
       "==============================================================================\n",
       "Omnibus:                       40.591   Durbin-Watson:                   2.206\n",
       "Prob(Omnibus):                  0.000   Jarque-Bera (JB):               84.652\n",
       "Skew:                          -1.249   Prob(JB):                     4.15e-19\n",
       "Kurtosis:                       5.876   Cond. No.                         463.\n",
       "==============================================================================\n",
       "\n",
       "Warnings:\n",
       "[1] Standard Errors assume that the covariance matrix of the errors is correctly specified.\n",
       "\"\"\""
      ]
     },
     "execution_count": 43,
     "metadata": {
      "tags": []
     },
     "output_type": "execute_result"
    }
   ],
   "source": [
    "results.summary()"
   ]
  },
  {
   "cell_type": "markdown",
   "metadata": {
    "id": "M4H2NuM9puzz"
   },
   "source": [
    "## p-values of each Coefficient \n"
   ]
  },
  {
   "cell_type": "code",
   "execution_count": null,
   "metadata": {
    "colab": {
     "base_uri": "https://localhost:8080/"
    },
    "id": "ky4ygdCipuzz",
    "outputId": "ace6a5bb-9351-41d8-bd5f-15791359449f"
   },
   "outputs": [
    {
     "data": {
      "text/plain": [
       "const           6.950311e-12\n",
       "avg_shares      4.822653e-56\n",
       "avg_comments    2.436480e-32\n",
       "avg_expert      9.788021e-01\n",
       "dtype: float64"
      ]
     },
     "execution_count": 45,
     "metadata": {
      "tags": []
     },
     "output_type": "execute_result"
    }
   ],
   "source": [
    "results.pvalues"
   ]
  },
  {
   "cell_type": "markdown",
   "metadata": {
    "id": "Cwz7siYjpuzz"
   },
   "source": [
    "### Interpretation "
   ]
  },
  {
   "cell_type": "markdown",
   "metadata": {
    "id": "WosYusBkNkAO"
   },
   "source": [
    "NOTE: If p-value(Xi) < 0.05, then Y depends on Xi.\n",
    "1. As p-value(avg_shares) = 4.822653e-56 < 0.05, hence \"popularity_score\" depends on \"avg_shares\".\n",
    "\n",
    "2. As p-value(avg_comments) = 2.436480e-32 < 0.05, hence \"popularity_score\" depends on \"avg_comments\".\n",
    "\n",
    "3. As p-value(avg_expert) = 9.788021e-01 > 0.05, hence \"avg_expert\" does not play significant role in pridicting the \"popularity_score\"."
   ]
  },
  {
   "cell_type": "markdown",
   "metadata": {
    "id": "2j_Crqnbpuz0"
   },
   "source": [
    "## Confidence interval of each Coefficient \n"
   ]
  },
  {
   "cell_type": "code",
   "execution_count": null,
   "metadata": {
    "colab": {
     "base_uri": "https://localhost:8080/",
     "height": 168
    },
    "id": "nKtSH6Fppuz0",
    "outputId": "3dd51bd9-6870-4fa5-9c3d-409c8bad740f"
   },
   "outputs": [
    {
     "data": {
      "text/html": [
       "<div>\n",
       "<style scoped>\n",
       "    .dataframe tbody tr th:only-of-type {\n",
       "        vertical-align: middle;\n",
       "    }\n",
       "\n",
       "    .dataframe tbody tr th {\n",
       "        vertical-align: top;\n",
       "    }\n",
       "\n",
       "    .dataframe thead th {\n",
       "        text-align: right;\n",
       "    }\n",
       "</style>\n",
       "<table border=\"1\" class=\"dataframe\">\n",
       "  <thead>\n",
       "    <tr style=\"text-align: right;\">\n",
       "      <th></th>\n",
       "      <th>0</th>\n",
       "      <th>1</th>\n",
       "    </tr>\n",
       "  </thead>\n",
       "  <tbody>\n",
       "    <tr>\n",
       "      <th>const</th>\n",
       "      <td>2.217767</td>\n",
       "      <td>3.802481</td>\n",
       "    </tr>\n",
       "    <tr>\n",
       "      <th>avg_shares</th>\n",
       "      <td>0.042584</td>\n",
       "      <td>0.049381</td>\n",
       "    </tr>\n",
       "    <tr>\n",
       "      <th>avg_comments</th>\n",
       "      <td>0.155071</td>\n",
       "      <td>0.199761</td>\n",
       "    </tr>\n",
       "    <tr>\n",
       "      <th>avg_expert</th>\n",
       "      <td>-0.013633</td>\n",
       "      <td>0.013271</td>\n",
       "    </tr>\n",
       "  </tbody>\n",
       "</table>\n",
       "</div>"
      ],
      "text/plain": [
       "                     0         1\n",
       "const         2.217767  3.802481\n",
       "avg_shares    0.042584  0.049381\n",
       "avg_comments  0.155071  0.199761\n",
       "avg_expert   -0.013633  0.013271"
      ]
     },
     "execution_count": 46,
     "metadata": {
      "tags": []
     },
     "output_type": "execute_result"
    }
   ],
   "source": [
    "results.conf_int(alpha=0.05, cols=None)"
   ]
  },
  {
   "cell_type": "markdown",
   "metadata": {
    "id": "9RUkPwuUpuz0"
   },
   "source": [
    "## 6. Evaluate the linear regression model and print the values of RMSE, MAE, and MSE. [1 pt]\n"
   ]
  },
  {
   "cell_type": "code",
   "execution_count": null,
   "metadata": {
    "colab": {
     "base_uri": "https://localhost:8080/"
    },
    "id": "5Tdk5Xu9puz0",
    "outputId": "e3a1bcbe-b12c-4d56-f8b9-d4f034d3375e"
   },
   "outputs": [
    {
     "name": "stdout",
     "output_type": "stream",
     "text": [
      "Mean Absolute Error:  1.3307168895533528\n",
      "Mean Square Error:  2.4478381701813543\n",
      "Root Mean Absolute Error:  1.5645568606418094\n"
     ]
    }
   ],
   "source": [
    "from sklearn import metrics\n",
    "import math\n",
    "\n",
    "print('Mean Absolute Error: ', metrics.mean_absolute_error(y_test,y_pred))\n",
    "print('Mean Square Error: ', metrics.mean_squared_error(y_test,y_pred))\n",
    "print('Root Mean Absolute Error: ', math.sqrt(metrics.mean_squared_error(y_test,y_pred)))"
   ]
  },
  {
   "cell_type": "markdown",
   "metadata": {
    "id": "5bkfMWZLpuz1"
   },
   "source": [
    "## 7. Plot residual curve and Q-Q plot. [1 pt] \n"
   ]
  },
  {
   "cell_type": "code",
   "execution_count": null,
   "metadata": {
    "id": "Ah06fUO9puz1"
   },
   "outputs": [],
   "source": [
    "X_test = sm.add_constant(X_test)"
   ]
  },
  {
   "cell_type": "code",
   "execution_count": null,
   "metadata": {
    "id": "AuBKg7JYpuz1"
   },
   "outputs": [],
   "source": [
    "y_pred = results.predict(X_test)"
   ]
  },
  {
   "cell_type": "code",
   "execution_count": null,
   "metadata": {
    "id": "Y7gtGq7Mpuz1"
   },
   "outputs": [],
   "source": [
    "residual = y_test - y_pred"
   ]
  },
  {
   "cell_type": "markdown",
   "metadata": {
    "id": "uaCL3DiQpuz2"
   },
   "source": [
    "## Residual Plot"
   ]
  },
  {
   "cell_type": "code",
   "execution_count": null,
   "metadata": {
    "colab": {
     "base_uri": "https://localhost:8080/",
     "height": 298
    },
    "id": "xtTib0MMpuz2",
    "outputId": "b6511cfc-48ae-4715-9aa7-6809c29172b7"
   },
   "outputs": [
    {
     "data": {
      "text/plain": [
       "<matplotlib.axes._subplots.AxesSubplot at 0x7f338107e0f0>"
      ]
     },
     "execution_count": 51,
     "metadata": {
      "tags": []
     },
     "output_type": "execute_result"
    },
    {
     "data": {
      "image/png": "[encoded data removed]",
      "text/plain": [
       "<Figure size 432x288 with 1 Axes>"
      ]
     },
     "metadata": {
      "needs_background": "light",
      "tags": []
     },
     "output_type": "display_data"
    }
   ],
   "source": [
    "sn.residplot(x=y_test, y=y_pred, lowess=True, color=\"g\")"
   ]
  },
  {
   "cell_type": "markdown",
   "metadata": {
    "id": "D20DnMPQpuz2"
   },
   "source": [
    "## Q-Q plot"
   ]
  },
  {
   "cell_type": "code",
   "execution_count": null,
   "metadata": {
    "colab": {
     "base_uri": "https://localhost:8080/",
     "height": 279
    },
    "id": "-TXrjXjipuz3",
    "outputId": "48925f40-bd5f-4ae6-8d8e-69bbf95a51c4"
   },
   "outputs": [
    {
     "data": {
      "image/png": "[encoded data removed]",
      "text/plain": [
       "<Figure size 432x288 with 1 Axes>"
      ]
     },
     "metadata": {
      "needs_background": "light",
      "tags": []
     },
     "output_type": "display_data"
    }
   ],
   "source": [
    "import matplotlib.pyplot as plt\n",
    "\n",
    "res = results.resid\n",
    "fig = sm.qqplot(res)\n",
    "plt.show()"
   ]
  }
 ],
 "metadata": {
  "colab": {
   "name": "4_Kanika.ipynb",
   "provenance": []
  },
  "kernelspec": {
   "display_name": "Python 3",
   "language": "python",
   "name": "python3"
  },
  "language_info": {
   "codemirror_mode": {
    "name": "ipython",
    "version": 3
   },
   "file_extension": ".py",
   "mimetype": "text/x-python",
   "name": "python",
   "nbconvert_exporter": "python",
   "pygments_lexer": "ipython3",
   "version": "3.7.2"
  }
 },
 "nbformat": 4,
 "nbformat_minor": 1
}
