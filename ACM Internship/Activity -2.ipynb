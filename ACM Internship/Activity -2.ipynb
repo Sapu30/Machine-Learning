{
 "cells": [
  {
   "cell_type": "markdown",
   "metadata": {},
   "source": [
    "# <center><h2>Activity 2\n",
    "<center><h2>Data Collection and Web Scraping"
   ]
  },
  {
   "cell_type": "markdown",
   "metadata": {},
   "source": [
    "<h3>1. Create your Twitter developer account*. Write python code (use twython / tweepy library) to collect last 1000 tweets posted by ‘narendra modi’ and collect 2000 tweets containing keyword ‘covid’. [5 pt] https://towardsdatascience.com/twitter-data-collection-tutorial-using-python-3267d7cfa93e\n"
   ]
  },
  {
   "cell_type": "code",
   "execution_count": 1,
   "metadata": {},
   "outputs": [
    {
     "name": "stdout",
     "output_type": "stream",
     "text": [
      "Requirement already satisfied: tweepy in c:\\users\\lenovo\\appdata\\local\\programs\\python\\python37\\lib\\site-packages (3.10.0)"
     ]
    },
    {
     "name": "stderr",
     "output_type": "stream",
     "text": [
      "You are using pip version 18.1, however version 21.1.2 is available.\n",
      "You should consider upgrading via the 'python -m pip install --upgrade pip' command.\n"
     ]
    },
    {
     "name": "stdout",
     "output_type": "stream",
     "text": [
      "\n",
      "Requirement already satisfied: six>=1.10.0 in c:\\users\\lenovo\\appdata\\local\\programs\\python\\python37\\lib\\site-packages (from tweepy) (1.15.0)\n",
      "Requirement already satisfied: requests[socks]>=2.11.1 in c:\\users\\lenovo\\appdata\\local\\programs\\python\\python37\\lib\\site-packages (from tweepy) (2.25.1)\n",
      "Requirement already satisfied: requests-oauthlib>=0.7.0 in c:\\users\\lenovo\\appdata\\local\\programs\\python\\python37\\lib\\site-packages (from tweepy) (1.3.0)\n",
      "Requirement already satisfied: certifi>=2017.4.17 in c:\\users\\lenovo\\appdata\\local\\programs\\python\\python37\\lib\\site-packages (from requests[socks]>=2.11.1->tweepy) (2020.12.5)\n",
      "Requirement already satisfied: idna<3,>=2.5 in c:\\users\\lenovo\\appdata\\local\\programs\\python\\python37\\lib\\site-packages (from requests[socks]>=2.11.1->tweepy) (2.10)\n",
      "Requirement already satisfied: chardet<5,>=3.0.2 in c:\\users\\lenovo\\appdata\\local\\programs\\python\\python37\\lib\\site-packages (from requests[socks]>=2.11.1->tweepy) (4.0.0)\n",
      "Requirement already satisfied: urllib3<1.27,>=1.21.1 in c:\\users\\lenovo\\appdata\\local\\programs\\python\\python37\\lib\\site-packages (from requests[socks]>=2.11.1->tweepy) (1.26.3)\n",
      "Requirement already satisfied: PySocks!=1.5.7,>=1.5.6; extra == \"socks\" in c:\\users\\lenovo\\appdata\\local\\programs\\python\\python37\\lib\\site-packages (from requests[socks]>=2.11.1->tweepy) (1.7.1)\n",
      "Requirement already satisfied: oauthlib>=3.0.0 in c:\\users\\lenovo\\appdata\\local\\programs\\python\\python37\\lib\\site-packages (from requests-oauthlib>=0.7.0->tweepy) (3.1.1)\n"
     ]
    }
   ],
   "source": [
    "!pip install tweepy"
   ]
  },
  {
   "cell_type": "code",
   "execution_count": 2,
   "metadata": {},
   "outputs": [],
   "source": [
    "# Import all needed libraries\n",
    "import tweepy\n",
    "import json\n",
    "import csv\n",
    "from datetime import date\n",
    "from datetime import datetime\n",
    "import time\n",
    "import pandas as pd"
   ]
  },
  {
   "cell_type": "code",
   "execution_count": 3,
   "metadata": {},
   "outputs": [],
   "source": [
    "# Load Twitter API secrets from an external file\n",
    "%run ./keys.ipynb"
   ]
  },
  {
   "cell_type": "code",
   "execution_count": 8,
   "metadata": {},
   "outputs": [],
   "source": [
    "# Connect to Twitter API using the secrets\n",
    "auth = tweepy.OAuthHandler(api_key, api_secret_key)\n",
    "auth.set_access_token(access_token, access_token_secret)\n",
    "api = tweepy.API(auth)"
   ]
  },
  {
   "cell_type": "markdown",
   "metadata": {},
   "source": [
    "<h3>Last 1000 tweets posted by ‘narendra modi’:"
   ]
  },
  {
   "cell_type": "code",
   "execution_count": 9,
   "metadata": {},
   "outputs": [],
   "source": [
    "# Helper function to get all tweets of a specified user\n",
    "number_of_tweets = 1000\n",
    "tweets = []\n",
    "likes = []\n",
    "time = []\n",
    "for i in tweepy.Cursor(api.user_timeline, id = 'narendramodi', tweet_mode=\"extended\").items(number_of_tweets):\n",
    "    tweets.append(i.full_text)\n",
    "    likes.append(i.favorite_count)\n",
    "    time.append(i.created_at)  "
   ]
  },
  {
   "cell_type": "code",
   "execution_count": 10,
   "metadata": {},
   "outputs": [],
   "source": [
    "df = pd.DataFrame({'Tweets':tweets,'Likes': likes, 'Time':time})"
   ]
  },
  {
   "cell_type": "code",
   "execution_count": 11,
   "metadata": {},
   "outputs": [
    {
     "data": {
      "text/html": [
       "<div>\n",
       "<style scoped>\n",
       "    .dataframe tbody tr th:only-of-type {\n",
       "        vertical-align: middle;\n",
       "    }\n",
       "\n",
       "    .dataframe tbody tr th {\n",
       "        vertical-align: top;\n",
       "    }\n",
       "\n",
       "    .dataframe thead th {\n",
       "        text-align: right;\n",
       "    }\n",
       "</style>\n",
       "<table border=\"1\" class=\"dataframe\">\n",
       "  <thead>\n",
       "    <tr style=\"text-align: right;\">\n",
       "      <th></th>\n",
       "      <th>Tweets</th>\n",
       "      <th>Likes</th>\n",
       "      <th>Time</th>\n",
       "    </tr>\n",
       "  </thead>\n",
       "  <tbody>\n",
       "    <tr>\n",
       "      <th>0</th>\n",
       "      <td>विकास और पर्यावरण में संतुलन हमारी पुरातन परंप...</td>\n",
       "      <td>19946</td>\n",
       "      <td>2021-06-05 08:51:39</td>\n",
       "    </tr>\n",
       "    <tr>\n",
       "      <th>1</th>\n",
       "      <td>जलवायु परिवर्तन के खतरे से निपटने के लिए जो वै...</td>\n",
       "      <td>12836</td>\n",
       "      <td>2021-06-05 08:51:25</td>\n",
       "    </tr>\n",
       "    <tr>\n",
       "      <th>2</th>\n",
       "      <td>आज से 7-8 साल पहले देश में इथेनॉल की कभी उतनी ...</td>\n",
       "      <td>12320</td>\n",
       "      <td>2021-06-05 08:51:02</td>\n",
       "    </tr>\n",
       "    <tr>\n",
       "      <th>3</th>\n",
       "      <td>हरदोई के अरविंद कुमार जी ने बताया कि वैज्ञानिक...</td>\n",
       "      <td>12450</td>\n",
       "      <td>2021-06-05 08:49:37</td>\n",
       "    </tr>\n",
       "    <tr>\n",
       "      <th>4</th>\n",
       "      <td>आणंद के अमित कुमार प्रजापति जी को बायोगैस प्ला...</td>\n",
       "      <td>9413</td>\n",
       "      <td>2021-06-05 08:49:20</td>\n",
       "    </tr>\n",
       "    <tr>\n",
       "      <th>...</th>\n",
       "      <td>...</td>\n",
       "      <td>...</td>\n",
       "      <td>...</td>\n",
       "    </tr>\n",
       "    <tr>\n",
       "      <th>995</th>\n",
       "      <td>अब हमारी Forces के हर फ्रंट को Girls Cadets के...</td>\n",
       "      <td>16767</td>\n",
       "      <td>2021-01-28 11:44:52</td>\n",
       "    </tr>\n",
       "    <tr>\n",
       "      <th>996</th>\n",
       "      <td>दुनिया के सबसे बड़े Uniformed Youth Organizati...</td>\n",
       "      <td>16147</td>\n",
       "      <td>2021-01-28 11:44:33</td>\n",
       "    </tr>\n",
       "    <tr>\n",
       "      <th>997</th>\n",
       "      <td>Addressing the NCC Rally. Watch. https://t.co/...</td>\n",
       "      <td>41731</td>\n",
       "      <td>2021-01-28 07:15:02</td>\n",
       "    </tr>\n",
       "    <tr>\n",
       "      <th>998</th>\n",
       "      <td>महान स्वतंत्रता सेनानी पंजाब केसरी लाला लाजपत ...</td>\n",
       "      <td>64678</td>\n",
       "      <td>2021-01-28 03:29:07</td>\n",
       "    </tr>\n",
       "    <tr>\n",
       "      <th>999</th>\n",
       "      <td>During today’s PRAGATI session, extensive revi...</td>\n",
       "      <td>29678</td>\n",
       "      <td>2021-01-27 16:20:46</td>\n",
       "    </tr>\n",
       "  </tbody>\n",
       "</table>\n",
       "<p>1000 rows × 3 columns</p>\n",
       "</div>"
      ],
      "text/plain": [
       "                                                Tweets  Likes  \\\n",
       "0    विकास और पर्यावरण में संतुलन हमारी पुरातन परंप...  19946   \n",
       "1    जलवायु परिवर्तन के खतरे से निपटने के लिए जो वै...  12836   \n",
       "2    आज से 7-8 साल पहले देश में इथेनॉल की कभी उतनी ...  12320   \n",
       "3    हरदोई के अरविंद कुमार जी ने बताया कि वैज्ञानिक...  12450   \n",
       "4    आणंद के अमित कुमार प्रजापति जी को बायोगैस प्ला...   9413   \n",
       "..                                                 ...    ...   \n",
       "995  अब हमारी Forces के हर फ्रंट को Girls Cadets के...  16767   \n",
       "996  दुनिया के सबसे बड़े Uniformed Youth Organizati...  16147   \n",
       "997  Addressing the NCC Rally. Watch. https://t.co/...  41731   \n",
       "998  महान स्वतंत्रता सेनानी पंजाब केसरी लाला लाजपत ...  64678   \n",
       "999  During today’s PRAGATI session, extensive revi...  29678   \n",
       "\n",
       "                   Time  \n",
       "0   2021-06-05 08:51:39  \n",
       "1   2021-06-05 08:51:25  \n",
       "2   2021-06-05 08:51:02  \n",
       "3   2021-06-05 08:49:37  \n",
       "4   2021-06-05 08:49:20  \n",
       "..                  ...  \n",
       "995 2021-01-28 11:44:52  \n",
       "996 2021-01-28 11:44:33  \n",
       "997 2021-01-28 07:15:02  \n",
       "998 2021-01-28 03:29:07  \n",
       "999 2021-01-27 16:20:46  \n",
       "\n",
       "[1000 rows x 3 columns]"
      ]
     },
     "execution_count": 11,
     "metadata": {},
     "output_type": "execute_result"
    }
   ],
   "source": [
    "df"
   ]
  },
  {
   "cell_type": "markdown",
   "metadata": {},
   "source": [
    "<h3>2000 tweets containing keyword ‘covid’:"
   ]
  },
  {
   "cell_type": "code",
   "execution_count": 12,
   "metadata": {},
   "outputs": [],
   "source": [
    "number_of_tweets = 2000\n",
    "tweets = []\n",
    "author = []\n",
    "likes = []\n",
    "time = []\n",
    "for i in tweepy.Cursor(api.search, q = 'covid', tweet_mode=\"extended\").items(number_of_tweets):\n",
    "    tweets.append(i.full_text)\n",
    "    author.append(i.author)\n",
    "    likes.append(i.favorite_count)\n",
    "    time.append(i.created_at)  "
   ]
  },
  {
   "cell_type": "code",
   "execution_count": 13,
   "metadata": {},
   "outputs": [],
   "source": [
    "df1 = pd.DataFrame({'Tweets':tweets,'Likes': likes, 'Time':time})"
   ]
  },
  {
   "cell_type": "code",
   "execution_count": 14,
   "metadata": {},
   "outputs": [
    {
     "data": {
      "text/html": [
       "<div>\n",
       "<style scoped>\n",
       "    .dataframe tbody tr th:only-of-type {\n",
       "        vertical-align: middle;\n",
       "    }\n",
       "\n",
       "    .dataframe tbody tr th {\n",
       "        vertical-align: top;\n",
       "    }\n",
       "\n",
       "    .dataframe thead th {\n",
       "        text-align: right;\n",
       "    }\n",
       "</style>\n",
       "<table border=\"1\" class=\"dataframe\">\n",
       "  <thead>\n",
       "    <tr style=\"text-align: right;\">\n",
       "      <th></th>\n",
       "      <th>Tweets</th>\n",
       "      <th>Likes</th>\n",
       "      <th>Time</th>\n",
       "    </tr>\n",
       "  </thead>\n",
       "  <tbody>\n",
       "    <tr>\n",
       "      <th>0</th>\n",
       "      <td>RT @Susheel98730943: We are risking our lives ...</td>\n",
       "      <td>0</td>\n",
       "      <td>2021-06-06 14:33:07</td>\n",
       "    </tr>\n",
       "    <tr>\n",
       "      <th>1</th>\n",
       "      <td>RT @alan_ha11: If we are to protect an educati...</td>\n",
       "      <td>0</td>\n",
       "      <td>2021-06-06 14:33:07</td>\n",
       "    </tr>\n",
       "    <tr>\n",
       "      <th>2</th>\n",
       "      <td>RT @duckpabo: เนื่องจากสถานการณ์ Covid-19 ทำให...</td>\n",
       "      <td>0</td>\n",
       "      <td>2021-06-06 14:33:07</td>\n",
       "    </tr>\n",
       "    <tr>\n",
       "      <th>3</th>\n",
       "      <td>RT @jrguzzofatos: O Brasil é o único país do m...</td>\n",
       "      <td>0</td>\n",
       "      <td>2021-06-06 14:33:07</td>\n",
       "    </tr>\n",
       "    <tr>\n",
       "      <th>4</th>\n",
       "      <td>RT @Selvakumar_IN: Central govt announced budg...</td>\n",
       "      <td>0</td>\n",
       "      <td>2021-06-06 14:33:07</td>\n",
       "    </tr>\n",
       "    <tr>\n",
       "      <th>...</th>\n",
       "      <td>...</td>\n",
       "      <td>...</td>\n",
       "      <td>...</td>\n",
       "    </tr>\n",
       "    <tr>\n",
       "      <th>1995</th>\n",
       "      <td>@PaulZauch When here in SG, a quite risk avers...</td>\n",
       "      <td>0</td>\n",
       "      <td>2021-06-06 14:31:14</td>\n",
       "    </tr>\n",
       "    <tr>\n",
       "      <th>1996</th>\n",
       "      <td>RT @DavidAnber: To everyone who got a ticket f...</td>\n",
       "      <td>0</td>\n",
       "      <td>2021-06-06 14:31:14</td>\n",
       "    </tr>\n",
       "    <tr>\n",
       "      <th>1997</th>\n",
       "      <td>RT @davidfrawleyved: India's current covid wav...</td>\n",
       "      <td>0</td>\n",
       "      <td>2021-06-06 14:31:14</td>\n",
       "    </tr>\n",
       "    <tr>\n",
       "      <th>1998</th>\n",
       "      <td>RT @outiowill: eai covid, ta chatão já em</td>\n",
       "      <td>0</td>\n",
       "      <td>2021-06-06 14:31:14</td>\n",
       "    </tr>\n",
       "    <tr>\n",
       "      <th>1999</th>\n",
       "      <td>RT @ramthefoodlover: @FarisNazrin18 @Azfarheri...</td>\n",
       "      <td>0</td>\n",
       "      <td>2021-06-06 14:31:14</td>\n",
       "    </tr>\n",
       "  </tbody>\n",
       "</table>\n",
       "<p>2000 rows × 3 columns</p>\n",
       "</div>"
      ],
      "text/plain": [
       "                                                 Tweets  Likes  \\\n",
       "0     RT @Susheel98730943: We are risking our lives ...      0   \n",
       "1     RT @alan_ha11: If we are to protect an educati...      0   \n",
       "2     RT @duckpabo: เนื่องจากสถานการณ์ Covid-19 ทำให...      0   \n",
       "3     RT @jrguzzofatos: O Brasil é o único país do m...      0   \n",
       "4     RT @Selvakumar_IN: Central govt announced budg...      0   \n",
       "...                                                 ...    ...   \n",
       "1995  @PaulZauch When here in SG, a quite risk avers...      0   \n",
       "1996  RT @DavidAnber: To everyone who got a ticket f...      0   \n",
       "1997  RT @davidfrawleyved: India's current covid wav...      0   \n",
       "1998          RT @outiowill: eai covid, ta chatão já em      0   \n",
       "1999  RT @ramthefoodlover: @FarisNazrin18 @Azfarheri...      0   \n",
       "\n",
       "                    Time  \n",
       "0    2021-06-06 14:33:07  \n",
       "1    2021-06-06 14:33:07  \n",
       "2    2021-06-06 14:33:07  \n",
       "3    2021-06-06 14:33:07  \n",
       "4    2021-06-06 14:33:07  \n",
       "...                  ...  \n",
       "1995 2021-06-06 14:31:14  \n",
       "1996 2021-06-06 14:31:14  \n",
       "1997 2021-06-06 14:31:14  \n",
       "1998 2021-06-06 14:31:14  \n",
       "1999 2021-06-06 14:31:14  \n",
       "\n",
       "[2000 rows x 3 columns]"
      ]
     },
     "execution_count": 14,
     "metadata": {},
     "output_type": "execute_result"
    }
   ],
   "source": [
    "df1"
   ]
  },
  {
   "cell_type": "code",
   "execution_count": null,
   "metadata": {},
   "outputs": [],
   "source": []
  }
 ],
 "metadata": {
  "kernelspec": {
   "display_name": "Python 3",
   "language": "python",
   "name": "python3"
  },
  "language_info": {
   "codemirror_mode": {
    "name": "ipython",
    "version": 3
   },
   "file_extension": ".py",
   "mimetype": "text/x-python",
   "name": "python",
   "nbconvert_exporter": "python",
   "pygments_lexer": "ipython3",
   "version": "3.7.2"
  }
 },
 "nbformat": 4,
 "nbformat_minor": 4
}
