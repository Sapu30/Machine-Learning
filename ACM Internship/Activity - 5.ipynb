{
 "cells": [
  {
   "cell_type": "markdown",
   "metadata": {},
   "source": [
    "<center><h1>Activity - 5 </h1>\n",
    "<center><h2>Linear Regression"
   ]
  },
  {
   "cell_type": "markdown",
   "metadata": {},
   "source": [
    "<h2>1. Load the dataset and perform following pre-processing tasks: [4 pts]"
   ]
  },
  {
   "cell_type": "code",
   "execution_count": 1,
   "metadata": {
    "id": "SnDUTrH0puzc"
   },
   "outputs": [],
   "source": [
    "# Importing libraries\n",
    "import numpy as np     # used for handling number\n",
    "import pandas as pd    # used for handling dataset\n",
    " \n",
    "import warnings as wg         # To ignore the warnings\n",
    "wg.filterwarnings('ignore')"
   ]
  },
  {
   "cell_type": "code",
   "execution_count": 3,
   "metadata": {},
   "outputs": [
    {
     "data": {
      "text/html": [
       "<div>\n",
       "<style scoped>\n",
       "    .dataframe tbody tr th:only-of-type {\n",
       "        vertical-align: middle;\n",
       "    }\n",
       "\n",
       "    .dataframe tbody tr th {\n",
       "        vertical-align: top;\n",
       "    }\n",
       "\n",
       "    .dataframe thead th {\n",
       "        text-align: right;\n",
       "    }\n",
       "</style>\n",
       "<table border=\"1\" class=\"dataframe\">\n",
       "  <thead>\n",
       "    <tr style=\"text-align: right;\">\n",
       "      <th></th>\n",
       "      <th>Unnamed: 0</th>\n",
       "      <th>avg_shares</th>\n",
       "      <th>avg_comments</th>\n",
       "      <th>avg_expert</th>\n",
       "      <th>popularity_score</th>\n",
       "    </tr>\n",
       "  </thead>\n",
       "  <tbody>\n",
       "    <tr>\n",
       "      <th>0</th>\n",
       "      <td>19</td>\n",
       "      <td>147.3</td>\n",
       "      <td>23.9</td>\n",
       "      <td>19.1</td>\n",
       "      <td>14.6</td>\n",
       "    </tr>\n",
       "    <tr>\n",
       "      <th>1</th>\n",
       "      <td>91</td>\n",
       "      <td>28.6</td>\n",
       "      <td>1.5</td>\n",
       "      <td>33.0</td>\n",
       "      <td>7.3</td>\n",
       "    </tr>\n",
       "    <tr>\n",
       "      <th>2</th>\n",
       "      <td>166</td>\n",
       "      <td>17.9</td>\n",
       "      <td>37.6</td>\n",
       "      <td>21.6</td>\n",
       "      <td>8.0</td>\n",
       "    </tr>\n",
       "    <tr>\n",
       "      <th>3</th>\n",
       "      <td>196</td>\n",
       "      <td>94.2</td>\n",
       "      <td>4.9</td>\n",
       "      <td>8.1</td>\n",
       "      <td>9.7</td>\n",
       "    </tr>\n",
       "    <tr>\n",
       "      <th>4</th>\n",
       "      <td>42</td>\n",
       "      <td>293.6</td>\n",
       "      <td>27.7</td>\n",
       "      <td>1.8</td>\n",
       "      <td>20.7</td>\n",
       "    </tr>\n",
       "    <tr>\n",
       "      <th>...</th>\n",
       "      <td>...</td>\n",
       "      <td>...</td>\n",
       "      <td>...</td>\n",
       "      <td>...</td>\n",
       "      <td>...</td>\n",
       "    </tr>\n",
       "    <tr>\n",
       "      <th>195</th>\n",
       "      <td>155</td>\n",
       "      <td>4.1</td>\n",
       "      <td>11.6</td>\n",
       "      <td>5.7</td>\n",
       "      <td>3.2</td>\n",
       "    </tr>\n",
       "    <tr>\n",
       "      <th>196</th>\n",
       "      <td>80</td>\n",
       "      <td>76.4</td>\n",
       "      <td>26.7</td>\n",
       "      <td>22.3</td>\n",
       "      <td>11.8</td>\n",
       "    </tr>\n",
       "    <tr>\n",
       "      <th>197</th>\n",
       "      <td>181</td>\n",
       "      <td>218.5</td>\n",
       "      <td>5.4</td>\n",
       "      <td>27.4</td>\n",
       "      <td>12.2</td>\n",
       "    </tr>\n",
       "    <tr>\n",
       "      <th>198</th>\n",
       "      <td>145</td>\n",
       "      <td>140.3</td>\n",
       "      <td>1.9</td>\n",
       "      <td>9.0</td>\n",
       "      <td>10.3</td>\n",
       "    </tr>\n",
       "    <tr>\n",
       "      <th>199</th>\n",
       "      <td>36</td>\n",
       "      <td>266.9</td>\n",
       "      <td>43.8</td>\n",
       "      <td>5.0</td>\n",
       "      <td>25.4</td>\n",
       "    </tr>\n",
       "  </tbody>\n",
       "</table>\n",
       "<p>200 rows × 5 columns</p>\n",
       "</div>"
      ],
      "text/plain": [
       "     Unnamed: 0  avg_shares  avg_comments  avg_expert  popularity_score\n",
       "0            19       147.3          23.9        19.1              14.6\n",
       "1            91        28.6           1.5        33.0               7.3\n",
       "2           166        17.9          37.6        21.6               8.0\n",
       "3           196        94.2           4.9         8.1               9.7\n",
       "4            42       293.6          27.7         1.8              20.7\n",
       "..          ...         ...           ...         ...               ...\n",
       "195         155         4.1          11.6         5.7               3.2\n",
       "196          80        76.4          26.7        22.3              11.8\n",
       "197         181       218.5           5.4        27.4              12.2\n",
       "198         145       140.3           1.9         9.0              10.3\n",
       "199          36       266.9          43.8         5.0              25.4\n",
       "\n",
       "[200 rows x 5 columns]"
      ]
     },
     "execution_count": 3,
     "metadata": {},
     "output_type": "execute_result"
    }
   ],
   "source": [
    "#Loading the dataset\n",
    "df = pd.read_csv('popularity.csv')\n",
    "df"
   ]
  },
  {
   "cell_type": "markdown",
   "metadata": {},
   "source": [
    "<h2>1.1 Remove the first column of ‘Unnamed: 0’"
   ]
  },
  {
   "cell_type": "code",
   "execution_count": 4,
   "metadata": {
    "colab": {
     "base_uri": "https://localhost:8080/",
     "height": 407
    },
    "id": "8CeuGIVhpuzg",
    "outputId": "74cc4ed0-cab5-4555-e009-1c235cc43a89"
   },
   "outputs": [
    {
     "data": {
      "text/html": [
       "<div>\n",
       "<style scoped>\n",
       "    .dataframe tbody tr th:only-of-type {\n",
       "        vertical-align: middle;\n",
       "    }\n",
       "\n",
       "    .dataframe tbody tr th {\n",
       "        vertical-align: top;\n",
       "    }\n",
       "\n",
       "    .dataframe thead th {\n",
       "        text-align: right;\n",
       "    }\n",
       "</style>\n",
       "<table border=\"1\" class=\"dataframe\">\n",
       "  <thead>\n",
       "    <tr style=\"text-align: right;\">\n",
       "      <th></th>\n",
       "      <th>avg_shares</th>\n",
       "      <th>avg_comments</th>\n",
       "      <th>avg_expert</th>\n",
       "      <th>popularity_score</th>\n",
       "    </tr>\n",
       "  </thead>\n",
       "  <tbody>\n",
       "    <tr>\n",
       "      <th>0</th>\n",
       "      <td>147.3</td>\n",
       "      <td>23.9</td>\n",
       "      <td>19.1</td>\n",
       "      <td>14.6</td>\n",
       "    </tr>\n",
       "    <tr>\n",
       "      <th>1</th>\n",
       "      <td>28.6</td>\n",
       "      <td>1.5</td>\n",
       "      <td>33.0</td>\n",
       "      <td>7.3</td>\n",
       "    </tr>\n",
       "    <tr>\n",
       "      <th>2</th>\n",
       "      <td>17.9</td>\n",
       "      <td>37.6</td>\n",
       "      <td>21.6</td>\n",
       "      <td>8.0</td>\n",
       "    </tr>\n",
       "    <tr>\n",
       "      <th>3</th>\n",
       "      <td>94.2</td>\n",
       "      <td>4.9</td>\n",
       "      <td>8.1</td>\n",
       "      <td>9.7</td>\n",
       "    </tr>\n",
       "    <tr>\n",
       "      <th>4</th>\n",
       "      <td>293.6</td>\n",
       "      <td>27.7</td>\n",
       "      <td>1.8</td>\n",
       "      <td>20.7</td>\n",
       "    </tr>\n",
       "    <tr>\n",
       "      <th>...</th>\n",
       "      <td>...</td>\n",
       "      <td>...</td>\n",
       "      <td>...</td>\n",
       "      <td>...</td>\n",
       "    </tr>\n",
       "    <tr>\n",
       "      <th>195</th>\n",
       "      <td>4.1</td>\n",
       "      <td>11.6</td>\n",
       "      <td>5.7</td>\n",
       "      <td>3.2</td>\n",
       "    </tr>\n",
       "    <tr>\n",
       "      <th>196</th>\n",
       "      <td>76.4</td>\n",
       "      <td>26.7</td>\n",
       "      <td>22.3</td>\n",
       "      <td>11.8</td>\n",
       "    </tr>\n",
       "    <tr>\n",
       "      <th>197</th>\n",
       "      <td>218.5</td>\n",
       "      <td>5.4</td>\n",
       "      <td>27.4</td>\n",
       "      <td>12.2</td>\n",
       "    </tr>\n",
       "    <tr>\n",
       "      <th>198</th>\n",
       "      <td>140.3</td>\n",
       "      <td>1.9</td>\n",
       "      <td>9.0</td>\n",
       "      <td>10.3</td>\n",
       "    </tr>\n",
       "    <tr>\n",
       "      <th>199</th>\n",
       "      <td>266.9</td>\n",
       "      <td>43.8</td>\n",
       "      <td>5.0</td>\n",
       "      <td>25.4</td>\n",
       "    </tr>\n",
       "  </tbody>\n",
       "</table>\n",
       "<p>200 rows × 4 columns</p>\n",
       "</div>"
      ],
      "text/plain": [
       "     avg_shares  avg_comments  avg_expert  popularity_score\n",
       "0         147.3          23.9        19.1              14.6\n",
       "1          28.6           1.5        33.0               7.3\n",
       "2          17.9          37.6        21.6               8.0\n",
       "3          94.2           4.9         8.1               9.7\n",
       "4         293.6          27.7         1.8              20.7\n",
       "..          ...           ...         ...               ...\n",
       "195         4.1          11.6         5.7               3.2\n",
       "196        76.4          26.7        22.3              11.8\n",
       "197       218.5           5.4        27.4              12.2\n",
       "198       140.3           1.9         9.0              10.3\n",
       "199       266.9          43.8         5.0              25.4\n",
       "\n",
       "[200 rows x 4 columns]"
      ]
     },
     "execution_count": 4,
     "metadata": {},
     "output_type": "execute_result"
    }
   ],
   "source": [
    "del df['Unnamed: 0']\n",
    "df"
   ]
  },
  {
   "cell_type": "markdown",
   "metadata": {
    "id": "r9tlrfTRpuzh"
   },
   "source": [
    "## 1.2 Detect missing values, and replace them with the mean."
   ]
  },
  {
   "cell_type": "code",
   "execution_count": 5,
   "metadata": {
    "colab": {
     "base_uri": "https://localhost:8080/",
     "height": 407
    },
    "id": "NdcsNyxmpuzh",
    "outputId": "dd3c72b1-5232-44dd-b951-7fe5a9fedbab"
   },
   "outputs": [
    {
     "data": {
      "text/html": [
       "<div>\n",
       "<style scoped>\n",
       "    .dataframe tbody tr th:only-of-type {\n",
       "        vertical-align: middle;\n",
       "    }\n",
       "\n",
       "    .dataframe tbody tr th {\n",
       "        vertical-align: top;\n",
       "    }\n",
       "\n",
       "    .dataframe thead th {\n",
       "        text-align: right;\n",
       "    }\n",
       "</style>\n",
       "<table border=\"1\" class=\"dataframe\">\n",
       "  <thead>\n",
       "    <tr style=\"text-align: right;\">\n",
       "      <th></th>\n",
       "      <th>avg_shares</th>\n",
       "      <th>avg_comments</th>\n",
       "      <th>avg_expert</th>\n",
       "      <th>popularity_score</th>\n",
       "    </tr>\n",
       "  </thead>\n",
       "  <tbody>\n",
       "    <tr>\n",
       "      <th>0</th>\n",
       "      <td>False</td>\n",
       "      <td>False</td>\n",
       "      <td>False</td>\n",
       "      <td>False</td>\n",
       "    </tr>\n",
       "    <tr>\n",
       "      <th>1</th>\n",
       "      <td>False</td>\n",
       "      <td>False</td>\n",
       "      <td>False</td>\n",
       "      <td>False</td>\n",
       "    </tr>\n",
       "    <tr>\n",
       "      <th>2</th>\n",
       "      <td>False</td>\n",
       "      <td>False</td>\n",
       "      <td>False</td>\n",
       "      <td>False</td>\n",
       "    </tr>\n",
       "    <tr>\n",
       "      <th>3</th>\n",
       "      <td>False</td>\n",
       "      <td>False</td>\n",
       "      <td>False</td>\n",
       "      <td>False</td>\n",
       "    </tr>\n",
       "    <tr>\n",
       "      <th>4</th>\n",
       "      <td>False</td>\n",
       "      <td>False</td>\n",
       "      <td>False</td>\n",
       "      <td>False</td>\n",
       "    </tr>\n",
       "    <tr>\n",
       "      <th>...</th>\n",
       "      <td>...</td>\n",
       "      <td>...</td>\n",
       "      <td>...</td>\n",
       "      <td>...</td>\n",
       "    </tr>\n",
       "    <tr>\n",
       "      <th>195</th>\n",
       "      <td>False</td>\n",
       "      <td>False</td>\n",
       "      <td>False</td>\n",
       "      <td>False</td>\n",
       "    </tr>\n",
       "    <tr>\n",
       "      <th>196</th>\n",
       "      <td>False</td>\n",
       "      <td>False</td>\n",
       "      <td>False</td>\n",
       "      <td>False</td>\n",
       "    </tr>\n",
       "    <tr>\n",
       "      <th>197</th>\n",
       "      <td>False</td>\n",
       "      <td>False</td>\n",
       "      <td>False</td>\n",
       "      <td>False</td>\n",
       "    </tr>\n",
       "    <tr>\n",
       "      <th>198</th>\n",
       "      <td>False</td>\n",
       "      <td>False</td>\n",
       "      <td>False</td>\n",
       "      <td>False</td>\n",
       "    </tr>\n",
       "    <tr>\n",
       "      <th>199</th>\n",
       "      <td>False</td>\n",
       "      <td>False</td>\n",
       "      <td>False</td>\n",
       "      <td>False</td>\n",
       "    </tr>\n",
       "  </tbody>\n",
       "</table>\n",
       "<p>200 rows × 4 columns</p>\n",
       "</div>"
      ],
      "text/plain": [
       "     avg_shares  avg_comments  avg_expert  popularity_score\n",
       "0         False         False       False             False\n",
       "1         False         False       False             False\n",
       "2         False         False       False             False\n",
       "3         False         False       False             False\n",
       "4         False         False       False             False\n",
       "..          ...           ...         ...               ...\n",
       "195       False         False       False             False\n",
       "196       False         False       False             False\n",
       "197       False         False       False             False\n",
       "198       False         False       False             False\n",
       "199       False         False       False             False\n",
       "\n",
       "[200 rows x 4 columns]"
      ]
     },
     "execution_count": 5,
     "metadata": {},
     "output_type": "execute_result"
    }
   ],
   "source": [
    "# checking for missing values\n",
    "df.isnull()"
   ]
  },
  {
   "cell_type": "code",
   "execution_count": 6,
   "metadata": {
    "colab": {
     "base_uri": "https://localhost:8080/",
     "height": 498
    },
    "id": "guijxpF8puzi",
    "outputId": "c64fcbaa-6e9f-407a-8ca8-79914eca0d58"
   },
   "outputs": [
    {
     "data": {
      "text/html": [
       "<div>\n",
       "<style scoped>\n",
       "    .dataframe tbody tr th:only-of-type {\n",
       "        vertical-align: middle;\n",
       "    }\n",
       "\n",
       "    .dataframe tbody tr th {\n",
       "        vertical-align: top;\n",
       "    }\n",
       "\n",
       "    .dataframe thead th {\n",
       "        text-align: right;\n",
       "    }\n",
       "</style>\n",
       "<table border=\"1\" class=\"dataframe\">\n",
       "  <thead>\n",
       "    <tr style=\"text-align: right;\">\n",
       "      <th></th>\n",
       "      <th>avg_shares</th>\n",
       "      <th>avg_comments</th>\n",
       "      <th>avg_expert</th>\n",
       "      <th>popularity_score</th>\n",
       "    </tr>\n",
       "  </thead>\n",
       "  <tbody>\n",
       "    <tr>\n",
       "      <th>7</th>\n",
       "      <td>168.4</td>\n",
       "      <td>NaN</td>\n",
       "      <td>12.8</td>\n",
       "      <td>11.7</td>\n",
       "    </tr>\n",
       "    <tr>\n",
       "      <th>8</th>\n",
       "      <td>280.2</td>\n",
       "      <td>10.1</td>\n",
       "      <td>21.4</td>\n",
       "      <td>14.8</td>\n",
       "    </tr>\n",
       "    <tr>\n",
       "      <th>9</th>\n",
       "      <td>19.4</td>\n",
       "      <td>16.0</td>\n",
       "      <td>22.3</td>\n",
       "      <td>6.6</td>\n",
       "    </tr>\n",
       "    <tr>\n",
       "      <th>10</th>\n",
       "      <td>107.4</td>\n",
       "      <td>14.0</td>\n",
       "      <td>10.9</td>\n",
       "      <td>11.5</td>\n",
       "    </tr>\n",
       "    <tr>\n",
       "      <th>11</th>\n",
       "      <td>177.0</td>\n",
       "      <td>9.3</td>\n",
       "      <td>6.4</td>\n",
       "      <td>12.8</td>\n",
       "    </tr>\n",
       "    <tr>\n",
       "      <th>12</th>\n",
       "      <td>296.4</td>\n",
       "      <td>36.3</td>\n",
       "      <td>100.9</td>\n",
       "      <td>23.8</td>\n",
       "    </tr>\n",
       "    <tr>\n",
       "      <th>13</th>\n",
       "      <td>237.4</td>\n",
       "      <td>27.5</td>\n",
       "      <td>11.0</td>\n",
       "      <td>18.9</td>\n",
       "    </tr>\n",
       "    <tr>\n",
       "      <th>14</th>\n",
       "      <td>232.1</td>\n",
       "      <td>8.6</td>\n",
       "      <td>8.7</td>\n",
       "      <td>13.4</td>\n",
       "    </tr>\n",
       "    <tr>\n",
       "      <th>15</th>\n",
       "      <td>206.9</td>\n",
       "      <td>8.4</td>\n",
       "      <td>26.4</td>\n",
       "      <td>12.9</td>\n",
       "    </tr>\n",
       "    <tr>\n",
       "      <th>16</th>\n",
       "      <td>131.1</td>\n",
       "      <td>42.8</td>\n",
       "      <td>28.9</td>\n",
       "      <td>18.0</td>\n",
       "    </tr>\n",
       "    <tr>\n",
       "      <th>17</th>\n",
       "      <td>191.1</td>\n",
       "      <td>28.7</td>\n",
       "      <td>18.2</td>\n",
       "      <td>17.3</td>\n",
       "    </tr>\n",
       "    <tr>\n",
       "      <th>18</th>\n",
       "      <td>151.5</td>\n",
       "      <td>41.3</td>\n",
       "      <td>58.5</td>\n",
       "      <td>18.5</td>\n",
       "    </tr>\n",
       "    <tr>\n",
       "      <th>19</th>\n",
       "      <td>NaN</td>\n",
       "      <td>7.6</td>\n",
       "      <td>7.2</td>\n",
       "      <td>9.7</td>\n",
       "    </tr>\n",
       "    <tr>\n",
       "      <th>20</th>\n",
       "      <td>120.2</td>\n",
       "      <td>19.6</td>\n",
       "      <td>11.6</td>\n",
       "      <td>13.2</td>\n",
       "    </tr>\n",
       "    <tr>\n",
       "      <th>21</th>\n",
       "      <td>43.1</td>\n",
       "      <td>26.7</td>\n",
       "      <td>35.1</td>\n",
       "      <td>10.1</td>\n",
       "    </tr>\n",
       "  </tbody>\n",
       "</table>\n",
       "</div>"
      ],
      "text/plain": [
       "    avg_shares  avg_comments  avg_expert  popularity_score\n",
       "7        168.4           NaN        12.8              11.7\n",
       "8        280.2          10.1        21.4              14.8\n",
       "9         19.4          16.0        22.3               6.6\n",
       "10       107.4          14.0        10.9              11.5\n",
       "11       177.0           9.3         6.4              12.8\n",
       "12       296.4          36.3       100.9              23.8\n",
       "13       237.4          27.5        11.0              18.9\n",
       "14       232.1           8.6         8.7              13.4\n",
       "15       206.9           8.4        26.4              12.9\n",
       "16       131.1          42.8        28.9              18.0\n",
       "17       191.1          28.7        18.2              17.3\n",
       "18       151.5          41.3        58.5              18.5\n",
       "19         NaN           7.6         7.2               9.7\n",
       "20       120.2          19.6        11.6              13.2\n",
       "21        43.1          26.7        35.1              10.1"
      ]
     },
     "execution_count": 6,
     "metadata": {},
     "output_type": "execute_result"
    }
   ],
   "source": [
    "df[7:22]  # observe Nan in 7th entry and 19th entry"
   ]
  },
  {
   "cell_type": "code",
   "execution_count": 9,
   "metadata": {},
   "outputs": [],
   "source": [
    "from sklearn.impute import SimpleImputer   # used for handling missing data\n",
    "from sklearn.model_selection import train_test_split  # used for spliting training and testing data\n",
    "from sklearn.preprocessing import StandardScaler # used for feature scalling"
   ]
  },
  {
   "cell_type": "code",
   "execution_count": 10,
   "metadata": {
    "id": "CPtT4oXlpuzi"
   },
   "outputs": [],
   "source": [
    "imputer = SimpleImputer(missing_values = np.nan, strategy = 'mean')\n",
    "X = df.iloc[:, 0:4].values   \n",
    "imputer = imputer.fit(X[:, 0:4])\n",
    "X[:, 0:4] = imputer.transform(X[:, 0:4])"
   ]
  },
  {
   "cell_type": "code",
   "execution_count": 11,
   "metadata": {
    "colab": {
     "base_uri": "https://localhost:8080/",
     "height": 438
    },
    "id": "ElImA6Xcpuzj",
    "outputId": "37c337fd-6a52-483d-82cc-9f74e125e89e"
   },
   "outputs": [
    {
     "data": {
      "text/html": [
       "<div>\n",
       "<style scoped>\n",
       "    .dataframe tbody tr th:only-of-type {\n",
       "        vertical-align: middle;\n",
       "    }\n",
       "\n",
       "    .dataframe tbody tr th {\n",
       "        vertical-align: top;\n",
       "    }\n",
       "\n",
       "    .dataframe thead th {\n",
       "        text-align: right;\n",
       "    }\n",
       "</style>\n",
       "<table border=\"1\" class=\"dataframe\">\n",
       "  <thead>\n",
       "    <tr style=\"text-align: right;\">\n",
       "      <th></th>\n",
       "      <th>avg_shares</th>\n",
       "      <th>avg_comments</th>\n",
       "      <th>avg_expert</th>\n",
       "      <th>popularity_score</th>\n",
       "    </tr>\n",
       "  </thead>\n",
       "  <tbody>\n",
       "    <tr>\n",
       "      <th>7</th>\n",
       "      <td>168.400000</td>\n",
       "      <td>23.319388</td>\n",
       "      <td>12.8</td>\n",
       "      <td>11.7</td>\n",
       "    </tr>\n",
       "    <tr>\n",
       "      <th>8</th>\n",
       "      <td>280.200000</td>\n",
       "      <td>10.100000</td>\n",
       "      <td>21.4</td>\n",
       "      <td>14.8</td>\n",
       "    </tr>\n",
       "    <tr>\n",
       "      <th>9</th>\n",
       "      <td>19.400000</td>\n",
       "      <td>16.000000</td>\n",
       "      <td>22.3</td>\n",
       "      <td>6.6</td>\n",
       "    </tr>\n",
       "    <tr>\n",
       "      <th>10</th>\n",
       "      <td>107.400000</td>\n",
       "      <td>14.000000</td>\n",
       "      <td>10.9</td>\n",
       "      <td>11.5</td>\n",
       "    </tr>\n",
       "    <tr>\n",
       "      <th>11</th>\n",
       "      <td>177.000000</td>\n",
       "      <td>9.300000</td>\n",
       "      <td>6.4</td>\n",
       "      <td>12.8</td>\n",
       "    </tr>\n",
       "    <tr>\n",
       "      <th>12</th>\n",
       "      <td>296.400000</td>\n",
       "      <td>36.300000</td>\n",
       "      <td>100.9</td>\n",
       "      <td>23.8</td>\n",
       "    </tr>\n",
       "    <tr>\n",
       "      <th>13</th>\n",
       "      <td>237.400000</td>\n",
       "      <td>27.500000</td>\n",
       "      <td>11.0</td>\n",
       "      <td>18.9</td>\n",
       "    </tr>\n",
       "    <tr>\n",
       "      <th>14</th>\n",
       "      <td>232.100000</td>\n",
       "      <td>8.600000</td>\n",
       "      <td>8.7</td>\n",
       "      <td>13.4</td>\n",
       "    </tr>\n",
       "    <tr>\n",
       "      <th>15</th>\n",
       "      <td>206.900000</td>\n",
       "      <td>8.400000</td>\n",
       "      <td>26.4</td>\n",
       "      <td>12.9</td>\n",
       "    </tr>\n",
       "    <tr>\n",
       "      <th>16</th>\n",
       "      <td>131.100000</td>\n",
       "      <td>42.800000</td>\n",
       "      <td>28.9</td>\n",
       "      <td>18.0</td>\n",
       "    </tr>\n",
       "    <tr>\n",
       "      <th>17</th>\n",
       "      <td>191.100000</td>\n",
       "      <td>28.700000</td>\n",
       "      <td>18.2</td>\n",
       "      <td>17.3</td>\n",
       "    </tr>\n",
       "    <tr>\n",
       "      <th>18</th>\n",
       "      <td>151.500000</td>\n",
       "      <td>41.300000</td>\n",
       "      <td>58.5</td>\n",
       "      <td>18.5</td>\n",
       "    </tr>\n",
       "    <tr>\n",
       "      <th>19</th>\n",
       "      <td>147.291457</td>\n",
       "      <td>7.600000</td>\n",
       "      <td>7.2</td>\n",
       "      <td>9.7</td>\n",
       "    </tr>\n",
       "  </tbody>\n",
       "</table>\n",
       "</div>"
      ],
      "text/plain": [
       "    avg_shares  avg_comments  avg_expert  popularity_score\n",
       "7   168.400000     23.319388        12.8              11.7\n",
       "8   280.200000     10.100000        21.4              14.8\n",
       "9    19.400000     16.000000        22.3               6.6\n",
       "10  107.400000     14.000000        10.9              11.5\n",
       "11  177.000000      9.300000         6.4              12.8\n",
       "12  296.400000     36.300000       100.9              23.8\n",
       "13  237.400000     27.500000        11.0              18.9\n",
       "14  232.100000      8.600000         8.7              13.4\n",
       "15  206.900000      8.400000        26.4              12.9\n",
       "16  131.100000     42.800000        28.9              18.0\n",
       "17  191.100000     28.700000        18.2              17.3\n",
       "18  151.500000     41.300000        58.5              18.5\n",
       "19  147.291457      7.600000         7.2               9.7"
      ]
     },
     "execution_count": 11,
     "metadata": {},
     "output_type": "execute_result"
    }
   ],
   "source": [
    "df[7:20]          # notice now NaN vales of 7th and 19th row are filled with mean"
   ]
  },
  {
   "cell_type": "markdown",
   "metadata": {
    "id": "4pJUAIsnpuzj"
   },
   "source": [
    "##     1.3 Draw box-plots for each attribute to detect if there are any outliers. If there are outliers, ignore them for now.\n"
   ]
  },
  {
   "cell_type": "code",
   "execution_count": 13,
   "metadata": {
    "colab": {
     "base_uri": "https://localhost:8080/",
     "height": 266
    },
    "id": "CUSZq148puzk",
    "outputId": "d8bab898-d1b1-4463-cbbc-ae9f77b03d55"
   },
   "outputs": [
    {
     "data": {
      "image/png": "[encoded data removed]",
      "text/plain": [
       "<Figure size 432x288 with 1 Axes>"
      ]
     },
     "metadata": {
      "needs_background": "light"
     },
     "output_type": "display_data"
    }
   ],
   "source": [
    "# Boxplot with outliers\n",
    " \n",
    "boxplot = df.boxplot(column = ['avg_shares','avg_comments','avg_expert','popularity_score'],patch_artist = True,\n",
    "                          notch ='True')"
   ]
  },
  {
   "cell_type": "code",
   "execution_count": 14,
   "metadata": {
    "colab": {
     "base_uri": "https://localhost:8080/",
     "height": 266
    },
    "id": "_2RXJNaNpuzk",
    "outputId": "0343e40a-feee-4f57-cb07-4bfae9b1a9d8"
   },
   "outputs": [
    {
     "data": {
      "image/png": "[encoded data removed]",
      "text/plain": [
       "<Figure size 432x288 with 1 Axes>"
      ]
     },
     "metadata": {
      "needs_background": "light"
     },
     "output_type": "display_data"
    }
   ],
   "source": [
    "# Boxplot without outliers\n",
    " \n",
    "boxplot = df.boxplot(column = ['avg_shares','avg_comments','avg_expert','popularity_score'],patch_artist = True,\n",
    "                          notch ='True',showfliers=False)"
   ]
  },
  {
   "cell_type": "markdown",
   "metadata": {
    "id": "czCVZhDPpuzl"
   },
   "source": [
    "## 1.4 Normalize all attributes within the range of 0 to 1."
   ]
  },
  {
   "cell_type": "markdown",
   "metadata": {
    "id": "oZqCFe9Vpuzl"
   },
   "source": [
    "###        The min max feature scaling "
   ]
  },
  {
   "cell_type": "code",
   "execution_count": 16,
   "metadata": {
    "colab": {
     "base_uri": "https://localhost:8080/"
    },
    "id": "zZx1R-EHpuzo",
    "outputId": "791868c4-ddc1-4ff3-e5a3-1cfb69676456"
   },
   "outputs": [
    {
     "data": {
      "text/html": [
       "<div>\n",
       "<style scoped>\n",
       "    .dataframe tbody tr th:only-of-type {\n",
       "        vertical-align: middle;\n",
       "    }\n",
       "\n",
       "    .dataframe tbody tr th {\n",
       "        vertical-align: top;\n",
       "    }\n",
       "\n",
       "    .dataframe thead th {\n",
       "        text-align: right;\n",
       "    }\n",
       "</style>\n",
       "<table border=\"1\" class=\"dataframe\">\n",
       "  <thead>\n",
       "    <tr style=\"text-align: right;\">\n",
       "      <th></th>\n",
       "      <th>avg_shares</th>\n",
       "      <th>avg_comments</th>\n",
       "      <th>avg_expert</th>\n",
       "      <th>popularity_score</th>\n",
       "    </tr>\n",
       "  </thead>\n",
       "  <tbody>\n",
       "    <tr>\n",
       "      <th>0</th>\n",
       "      <td>0.495773</td>\n",
       "      <td>0.481855</td>\n",
       "      <td>0.165347</td>\n",
       "      <td>0.511811</td>\n",
       "    </tr>\n",
       "    <tr>\n",
       "      <th>1</th>\n",
       "      <td>0.094352</td>\n",
       "      <td>0.030242</td>\n",
       "      <td>0.287599</td>\n",
       "      <td>0.224409</td>\n",
       "    </tr>\n",
       "    <tr>\n",
       "      <th>2</th>\n",
       "      <td>0.058167</td>\n",
       "      <td>0.758065</td>\n",
       "      <td>0.187335</td>\n",
       "      <td>0.251969</td>\n",
       "    </tr>\n",
       "    <tr>\n",
       "      <th>3</th>\n",
       "      <td>0.316199</td>\n",
       "      <td>0.098790</td>\n",
       "      <td>0.068602</td>\n",
       "      <td>0.318898</td>\n",
       "    </tr>\n",
       "    <tr>\n",
       "      <th>4</th>\n",
       "      <td>0.990531</td>\n",
       "      <td>0.558468</td>\n",
       "      <td>0.013193</td>\n",
       "      <td>0.751969</td>\n",
       "    </tr>\n",
       "    <tr>\n",
       "      <th>...</th>\n",
       "      <td>...</td>\n",
       "      <td>...</td>\n",
       "      <td>...</td>\n",
       "      <td>...</td>\n",
       "    </tr>\n",
       "    <tr>\n",
       "      <th>195</th>\n",
       "      <td>0.011498</td>\n",
       "      <td>0.233871</td>\n",
       "      <td>0.047493</td>\n",
       "      <td>0.062992</td>\n",
       "    </tr>\n",
       "    <tr>\n",
       "      <th>196</th>\n",
       "      <td>0.256003</td>\n",
       "      <td>0.538306</td>\n",
       "      <td>0.193492</td>\n",
       "      <td>0.401575</td>\n",
       "    </tr>\n",
       "    <tr>\n",
       "      <th>197</th>\n",
       "      <td>0.736557</td>\n",
       "      <td>0.108871</td>\n",
       "      <td>0.238347</td>\n",
       "      <td>0.417323</td>\n",
       "    </tr>\n",
       "    <tr>\n",
       "      <th>198</th>\n",
       "      <td>0.472100</td>\n",
       "      <td>0.038306</td>\n",
       "      <td>0.076517</td>\n",
       "      <td>0.342520</td>\n",
       "    </tr>\n",
       "    <tr>\n",
       "      <th>199</th>\n",
       "      <td>0.900237</td>\n",
       "      <td>0.883065</td>\n",
       "      <td>0.041337</td>\n",
       "      <td>0.937008</td>\n",
       "    </tr>\n",
       "  </tbody>\n",
       "</table>\n",
       "<p>200 rows × 4 columns</p>\n",
       "</div>"
      ],
      "text/plain": [
       "     avg_shares  avg_comments  avg_expert  popularity_score\n",
       "0      0.495773      0.481855    0.165347          0.511811\n",
       "1      0.094352      0.030242    0.287599          0.224409\n",
       "2      0.058167      0.758065    0.187335          0.251969\n",
       "3      0.316199      0.098790    0.068602          0.318898\n",
       "4      0.990531      0.558468    0.013193          0.751969\n",
       "..          ...           ...         ...               ...\n",
       "195    0.011498      0.233871    0.047493          0.062992\n",
       "196    0.256003      0.538306    0.193492          0.401575\n",
       "197    0.736557      0.108871    0.238347          0.417323\n",
       "198    0.472100      0.038306    0.076517          0.342520\n",
       "199    0.900237      0.883065    0.041337          0.937008\n",
       "\n",
       "[200 rows x 4 columns]"
      ]
     },
     "execution_count": 16,
     "metadata": {},
     "output_type": "execute_result"
    }
   ],
   "source": [
    "from sklearn.preprocessing import MinMaxScaler\n",
    "scaler = MinMaxScaler()\n",
    " \n",
    "ndf=pd.DataFrame(scaler.fit_transform(df),\n",
    "            columns=df.columns, index=df.index) \n",
    "ndf"
   ]
  },
  {
   "cell_type": "markdown",
   "metadata": {
    "id": "Tn9fYvWRpuzp"
   },
   "source": [
    "## 2. Visualize through scatter plots the relationship of each attribute with the target attribute."
   ]
  },
  {
   "cell_type": "code",
   "execution_count": 27,
   "metadata": {
    "colab": {
     "base_uri": "https://localhost:8080/",
     "height": 280
    },
    "id": "CcPT2LAUpuzp",
    "outputId": "a6a22b7a-1a5b-41e1-e20c-ed78a8e77d81"
   },
   "outputs": [
    {
     "data": {
      "image/png": "[encoded data removed]",
      "text/plain": [
       "<Figure size 432x288 with 1 Axes>"
      ]
     },
     "metadata": {
      "needs_background": "light"
     },
     "output_type": "display_data"
    }
   ],
   "source": [
    "ax = ndf.plot.scatter(x = 'avg_shares', y = 'popularity_score', c= 'green')"
   ]
  },
  {
   "cell_type": "code",
   "execution_count": 28,
   "metadata": {
    "colab": {
     "base_uri": "https://localhost:8080/",
     "height": 280
    },
    "id": "OE1utAy8puzq",
    "outputId": "bb08a7d0-824d-4101-c24a-46f33332c062"
   },
   "outputs": [
    {
     "data": {
      "image/png": "[encoded data removed]",
      "text/plain": [
       "<Figure size 432x288 with 1 Axes>"
      ]
     },
     "metadata": {
      "needs_background": "light"
     },
     "output_type": "display_data"
    }
   ],
   "source": [
    "ax = ndf.plot.scatter(x = 'avg_comments', y = 'popularity_score', c= 'blue')"
   ]
  },
  {
   "cell_type": "code",
   "execution_count": 29,
   "metadata": {
    "colab": {
     "base_uri": "https://localhost:8080/",
     "height": 280
    },
    "id": "PeEoMa_upuzq",
    "outputId": "e50aec60-cf7b-49ef-d623-149ae4b90a88"
   },
   "outputs": [
    {
     "data": {
      "image/png": "[encoded data removed]",
      "text/plain": [
       "<Figure size 432x288 with 1 Axes>"
      ]
     },
     "metadata": {
      "needs_background": "light"
     },
     "output_type": "display_data"
    }
   ],
   "source": [
    "ax = ndf.plot.scatter(x = 'avg_expert', y = 'popularity_score', c= 'red')"
   ]
  },
  {
   "cell_type": "code",
   "execution_count": 30,
   "metadata": {
    "colab": {
     "base_uri": "https://localhost:8080/",
     "height": 360
    },
    "id": "_GVzGT9npuzq",
    "outputId": "f39fb39a-89c9-4520-feb2-977efadd791d"
   },
   "outputs": [
    {
     "data": {
      "text/plain": [
       "<AxesSubplot:>"
      ]
     },
     "execution_count": 30,
     "metadata": {},
     "output_type": "execute_result"
    },
    {
     "data": {
      "image/png": "[encoded data removed]",
      "text/plain": [
       "<Figure size 432x288 with 2 Axes>"
      ]
     },
     "metadata": {
      "needs_background": "light"
     },
     "output_type": "display_data"
    }
   ],
   "source": [
    "import seaborn as sn\n",
    "corrMatrix = ndf.corr()\n",
    "sn.heatmap(corrMatrix, annot=True)"
   ]
  },
  {
   "cell_type": "code",
   "execution_count": 31,
   "metadata": {
    "colab": {
     "base_uri": "https://localhost:8080/",
     "height": 533
    },
    "id": "BdOQFjlFpuzr",
    "outputId": "87b888d9-6a29-43c8-e488-a92049ca11d5"
   },
   "outputs": [
    {
     "data": {
      "text/plain": [
       "<seaborn.axisgrid.PairGrid at 0x1ef4eed1240>"
      ]
     },
     "execution_count": 31,
     "metadata": {},
     "output_type": "execute_result"
    },
    {
     "data": {
      "image/png": "[encoded data removed]",
      "text/plain": [
       "<Figure size 1058.4x504 with 3 Axes>"
      ]
     },
     "metadata": {
      "needs_background": "light"
     },
     "output_type": "display_data"
    }
   ],
   "source": [
    "sn.pairplot(ndf, x_vars=['avg_shares','avg_comments','avg_expert'],y_vars='popularity_score', size=7, aspect=0.7)"
   ]
  },
  {
   "cell_type": "markdown",
   "metadata": {},
   "source": [
    "<h2>3. Split the dataset into train and test, into 70% and 30% respectively. [1 pt]"
   ]
  },
  {
   "cell_type": "code",
   "execution_count": 32,
   "metadata": {
    "id": "X0y4G7W5puzr"
   },
   "outputs": [],
   "source": [
    "features_col =['avg_shares','avg_comments','avg_expert']\n",
    "\n",
    "X = ndf[features_col]\n",
    "y = ndf.popularity_score"
   ]
  },
  {
   "cell_type": "code",
   "execution_count": 33,
   "metadata": {
    "id": "ubffDy8ypuzs"
   },
   "outputs": [],
   "source": [
    "X_train, X_test,y_train,y_test  = train_test_split(X,y, test_size=0.3,random_state=42)"
   ]
  },
  {
   "cell_type": "code",
   "execution_count": 34,
   "metadata": {
    "colab": {
     "base_uri": "https://localhost:8080/",
     "height": 407
    },
    "id": "PFAzjf6Bpuzs",
    "outputId": "df285f74-58c0-42d1-d271-9196688c93a8"
   },
   "outputs": [
    {
     "data": {
      "text/html": [
       "<div>\n",
       "<style scoped>\n",
       "    .dataframe tbody tr th:only-of-type {\n",
       "        vertical-align: middle;\n",
       "    }\n",
       "\n",
       "    .dataframe tbody tr th {\n",
       "        vertical-align: top;\n",
       "    }\n",
       "\n",
       "    .dataframe thead th {\n",
       "        text-align: right;\n",
       "    }\n",
       "</style>\n",
       "<table border=\"1\" class=\"dataframe\">\n",
       "  <thead>\n",
       "    <tr style=\"text-align: right;\">\n",
       "      <th></th>\n",
       "      <th>avg_shares</th>\n",
       "      <th>avg_comments</th>\n",
       "      <th>avg_expert</th>\n",
       "    </tr>\n",
       "  </thead>\n",
       "  <tbody>\n",
       "    <tr>\n",
       "      <th>169</th>\n",
       "      <td>0.622929</td>\n",
       "      <td>0.885081</td>\n",
       "      <td>0.012313</td>\n",
       "    </tr>\n",
       "    <tr>\n",
       "      <th>97</th>\n",
       "      <td>0.480893</td>\n",
       "      <td>0.590726</td>\n",
       "      <td>0.108179</td>\n",
       "    </tr>\n",
       "    <tr>\n",
       "      <th>31</th>\n",
       "      <td>0.837673</td>\n",
       "      <td>0.608871</td>\n",
       "      <td>0.175901</td>\n",
       "    </tr>\n",
       "    <tr>\n",
       "      <th>12</th>\n",
       "      <td>1.000000</td>\n",
       "      <td>0.731855</td>\n",
       "      <td>0.884785</td>\n",
       "    </tr>\n",
       "    <tr>\n",
       "      <th>35</th>\n",
       "      <td>0.393980</td>\n",
       "      <td>0.296371</td>\n",
       "      <td>0.044855</td>\n",
       "    </tr>\n",
       "    <tr>\n",
       "      <th>...</th>\n",
       "      <td>...</td>\n",
       "      <td>...</td>\n",
       "      <td>...</td>\n",
       "    </tr>\n",
       "    <tr>\n",
       "      <th>106</th>\n",
       "      <td>0.026716</td>\n",
       "      <td>0.042339</td>\n",
       "      <td>0.006157</td>\n",
       "    </tr>\n",
       "    <tr>\n",
       "      <th>14</th>\n",
       "      <td>0.782550</td>\n",
       "      <td>0.173387</td>\n",
       "      <td>0.073879</td>\n",
       "    </tr>\n",
       "    <tr>\n",
       "      <th>92</th>\n",
       "      <td>0.670950</td>\n",
       "      <td>0.616935</td>\n",
       "      <td>0.337731</td>\n",
       "    </tr>\n",
       "    <tr>\n",
       "      <th>179</th>\n",
       "      <td>0.256003</td>\n",
       "      <td>0.016129</td>\n",
       "      <td>0.127529</td>\n",
       "    </tr>\n",
       "    <tr>\n",
       "      <th>102</th>\n",
       "      <td>0.946906</td>\n",
       "      <td>0.280242</td>\n",
       "      <td>0.322779</td>\n",
       "    </tr>\n",
       "  </tbody>\n",
       "</table>\n",
       "<p>140 rows × 3 columns</p>\n",
       "</div>"
      ],
      "text/plain": [
       "     avg_shares  avg_comments  avg_expert\n",
       "169    0.622929      0.885081    0.012313\n",
       "97     0.480893      0.590726    0.108179\n",
       "31     0.837673      0.608871    0.175901\n",
       "12     1.000000      0.731855    0.884785\n",
       "35     0.393980      0.296371    0.044855\n",
       "..          ...           ...         ...\n",
       "106    0.026716      0.042339    0.006157\n",
       "14     0.782550      0.173387    0.073879\n",
       "92     0.670950      0.616935    0.337731\n",
       "179    0.256003      0.016129    0.127529\n",
       "102    0.946906      0.280242    0.322779\n",
       "\n",
       "[140 rows x 3 columns]"
      ]
     },
     "execution_count": 34,
     "metadata": {},
     "output_type": "execute_result"
    }
   ],
   "source": [
    "X_train"
   ]
  },
  {
   "cell_type": "code",
   "execution_count": 35,
   "metadata": {
    "colab": {
     "base_uri": "https://localhost:8080/",
     "height": 1000
    },
    "id": "JRxcZFZ7puzs",
    "outputId": "f434c305-cb74-4dbd-f459-c0bdeb7f22e3"
   },
   "outputs": [
    {
     "data": {
      "text/html": [
       "<div>\n",
       "<style scoped>\n",
       "    .dataframe tbody tr th:only-of-type {\n",
       "        vertical-align: middle;\n",
       "    }\n",
       "\n",
       "    .dataframe tbody tr th {\n",
       "        vertical-align: top;\n",
       "    }\n",
       "\n",
       "    .dataframe thead th {\n",
       "        text-align: right;\n",
       "    }\n",
       "</style>\n",
       "<table border=\"1\" class=\"dataframe\">\n",
       "  <thead>\n",
       "    <tr style=\"text-align: right;\">\n",
       "      <th></th>\n",
       "      <th>avg_shares</th>\n",
       "      <th>avg_comments</th>\n",
       "      <th>avg_expert</th>\n",
       "    </tr>\n",
       "  </thead>\n",
       "  <tbody>\n",
       "    <tr>\n",
       "      <th>95</th>\n",
       "      <td>0.148123</td>\n",
       "      <td>0.792339</td>\n",
       "      <td>0.394019</td>\n",
       "    </tr>\n",
       "    <tr>\n",
       "      <th>15</th>\n",
       "      <td>0.697328</td>\n",
       "      <td>0.169355</td>\n",
       "      <td>0.229551</td>\n",
       "    </tr>\n",
       "    <tr>\n",
       "      <th>30</th>\n",
       "      <td>0.321272</td>\n",
       "      <td>0.028226</td>\n",
       "      <td>0.062445</td>\n",
       "    </tr>\n",
       "    <tr>\n",
       "      <th>158</th>\n",
       "      <td>0.949273</td>\n",
       "      <td>0.798387</td>\n",
       "      <td>0.488127</td>\n",
       "    </tr>\n",
       "    <tr>\n",
       "      <th>128</th>\n",
       "      <td>0.104160</td>\n",
       "      <td>0.495968</td>\n",
       "      <td>0.016711</td>\n",
       "    </tr>\n",
       "    <tr>\n",
       "      <th>115</th>\n",
       "      <td>0.808590</td>\n",
       "      <td>0.082661</td>\n",
       "      <td>0.321900</td>\n",
       "    </tr>\n",
       "    <tr>\n",
       "      <th>69</th>\n",
       "      <td>0.160974</td>\n",
       "      <td>0.947581</td>\n",
       "      <td>0.072120</td>\n",
       "    </tr>\n",
       "    <tr>\n",
       "      <th>170</th>\n",
       "      <td>0.022320</td>\n",
       "      <td>0.566532</td>\n",
       "      <td>0.361478</td>\n",
       "    </tr>\n",
       "    <tr>\n",
       "      <th>174</th>\n",
       "      <td>0.078120</td>\n",
       "      <td>0.707661</td>\n",
       "      <td>0.576957</td>\n",
       "    </tr>\n",
       "    <tr>\n",
       "      <th>45</th>\n",
       "      <td>0.236388</td>\n",
       "      <td>0.470149</td>\n",
       "      <td>0.356201</td>\n",
       "    </tr>\n",
       "    <tr>\n",
       "      <th>66</th>\n",
       "      <td>0.223876</td>\n",
       "      <td>0.235887</td>\n",
       "      <td>0.321020</td>\n",
       "    </tr>\n",
       "    <tr>\n",
       "      <th>182</th>\n",
       "      <td>0.755157</td>\n",
       "      <td>0.048387</td>\n",
       "      <td>0.134565</td>\n",
       "    </tr>\n",
       "    <tr>\n",
       "      <th>165</th>\n",
       "      <td>0.658438</td>\n",
       "      <td>0.961694</td>\n",
       "      <td>0.462621</td>\n",
       "    </tr>\n",
       "    <tr>\n",
       "      <th>78</th>\n",
       "      <td>0.769699</td>\n",
       "      <td>0.340726</td>\n",
       "      <td>0.227792</td>\n",
       "    </tr>\n",
       "    <tr>\n",
       "      <th>186</th>\n",
       "      <td>0.231654</td>\n",
       "      <td>0.413306</td>\n",
       "      <td>0.158311</td>\n",
       "    </tr>\n",
       "    <tr>\n",
       "      <th>177</th>\n",
       "      <td>0.406831</td>\n",
       "      <td>0.169355</td>\n",
       "      <td>0.425682</td>\n",
       "    </tr>\n",
       "    <tr>\n",
       "      <th>56</th>\n",
       "      <td>0.337166</td>\n",
       "      <td>0.193548</td>\n",
       "      <td>0.029024</td>\n",
       "    </tr>\n",
       "    <tr>\n",
       "      <th>152</th>\n",
       "      <td>0.710179</td>\n",
       "      <td>0.594758</td>\n",
       "      <td>0.079156</td>\n",
       "    </tr>\n",
       "    <tr>\n",
       "      <th>82</th>\n",
       "      <td>0.389922</td>\n",
       "      <td>0.155242</td>\n",
       "      <td>0.200528</td>\n",
       "    </tr>\n",
       "    <tr>\n",
       "      <th>68</th>\n",
       "      <td>0.768684</td>\n",
       "      <td>0.760081</td>\n",
       "      <td>0.278804</td>\n",
       "    </tr>\n",
       "    <tr>\n",
       "      <th>124</th>\n",
       "      <td>0.934055</td>\n",
       "      <td>0.985887</td>\n",
       "      <td>0.364996</td>\n",
       "    </tr>\n",
       "    <tr>\n",
       "      <th>16</th>\n",
       "      <td>0.440987</td>\n",
       "      <td>0.862903</td>\n",
       "      <td>0.251539</td>\n",
       "    </tr>\n",
       "    <tr>\n",
       "      <th>148</th>\n",
       "      <td>0.435238</td>\n",
       "      <td>0.114919</td>\n",
       "      <td>0.272647</td>\n",
       "    </tr>\n",
       "    <tr>\n",
       "      <th>93</th>\n",
       "      <td>0.743321</td>\n",
       "      <td>0.669355</td>\n",
       "      <td>0.330695</td>\n",
       "    </tr>\n",
       "    <tr>\n",
       "      <th>65</th>\n",
       "      <td>0.820088</td>\n",
       "      <td>0.987903</td>\n",
       "      <td>0.386983</td>\n",
       "    </tr>\n",
       "    <tr>\n",
       "      <th>60</th>\n",
       "      <td>0.300981</td>\n",
       "      <td>0.199597</td>\n",
       "      <td>0.311346</td>\n",
       "    </tr>\n",
       "    <tr>\n",
       "      <th>84</th>\n",
       "      <td>0.933378</td>\n",
       "      <td>0.046371</td>\n",
       "      <td>0.205805</td>\n",
       "    </tr>\n",
       "    <tr>\n",
       "      <th>67</th>\n",
       "      <td>0.855935</td>\n",
       "      <td>0.429435</td>\n",
       "      <td>0.261214</td>\n",
       "    </tr>\n",
       "    <tr>\n",
       "      <th>125</th>\n",
       "      <td>0.451809</td>\n",
       "      <td>0.098790</td>\n",
       "      <td>0.079156</td>\n",
       "    </tr>\n",
       "    <tr>\n",
       "      <th>132</th>\n",
       "      <td>0.710517</td>\n",
       "      <td>1.000000</td>\n",
       "      <td>0.328936</td>\n",
       "    </tr>\n",
       "    <tr>\n",
       "      <th>9</th>\n",
       "      <td>0.063240</td>\n",
       "      <td>0.322581</td>\n",
       "      <td>0.193492</td>\n",
       "    </tr>\n",
       "    <tr>\n",
       "      <th>18</th>\n",
       "      <td>0.509976</td>\n",
       "      <td>0.832661</td>\n",
       "      <td>0.511873</td>\n",
       "    </tr>\n",
       "    <tr>\n",
       "      <th>55</th>\n",
       "      <td>0.742645</td>\n",
       "      <td>0.987903</td>\n",
       "      <td>0.025506</td>\n",
       "    </tr>\n",
       "    <tr>\n",
       "      <th>75</th>\n",
       "      <td>0.379439</td>\n",
       "      <td>0.350806</td>\n",
       "      <td>0.336851</td>\n",
       "    </tr>\n",
       "    <tr>\n",
       "      <th>150</th>\n",
       "      <td>0.252959</td>\n",
       "      <td>0.217742</td>\n",
       "      <td>0.050132</td>\n",
       "    </tr>\n",
       "    <tr>\n",
       "      <th>104</th>\n",
       "      <td>0.443017</td>\n",
       "      <td>0.370968</td>\n",
       "      <td>0.301671</td>\n",
       "    </tr>\n",
       "    <tr>\n",
       "      <th>135</th>\n",
       "      <td>0.719648</td>\n",
       "      <td>0.866935</td>\n",
       "      <td>0.294635</td>\n",
       "    </tr>\n",
       "    <tr>\n",
       "      <th>137</th>\n",
       "      <td>0.632736</td>\n",
       "      <td>0.425403</td>\n",
       "      <td>0.080915</td>\n",
       "    </tr>\n",
       "    <tr>\n",
       "      <th>164</th>\n",
       "      <td>0.687859</td>\n",
       "      <td>0.663306</td>\n",
       "      <td>0.401935</td>\n",
       "    </tr>\n",
       "    <tr>\n",
       "      <th>76</th>\n",
       "      <td>0.886033</td>\n",
       "      <td>0.580645</td>\n",
       "      <td>0.137203</td>\n",
       "    </tr>\n",
       "    <tr>\n",
       "      <th>79</th>\n",
       "      <td>0.469395</td>\n",
       "      <td>0.042339</td>\n",
       "      <td>0.231310</td>\n",
       "    </tr>\n",
       "    <tr>\n",
       "      <th>197</th>\n",
       "      <td>0.736557</td>\n",
       "      <td>0.108871</td>\n",
       "      <td>0.238347</td>\n",
       "    </tr>\n",
       "    <tr>\n",
       "      <th>38</th>\n",
       "      <td>0.809604</td>\n",
       "      <td>0.147177</td>\n",
       "      <td>0.073879</td>\n",
       "    </tr>\n",
       "    <tr>\n",
       "      <th>24</th>\n",
       "      <td>0.250254</td>\n",
       "      <td>0.995968</td>\n",
       "      <td>0.399296</td>\n",
       "    </tr>\n",
       "    <tr>\n",
       "      <th>122</th>\n",
       "      <td>0.730808</td>\n",
       "      <td>0.885081</td>\n",
       "      <td>0.236588</td>\n",
       "    </tr>\n",
       "    <tr>\n",
       "      <th>195</th>\n",
       "      <td>0.011498</td>\n",
       "      <td>0.233871</td>\n",
       "      <td>0.047493</td>\n",
       "    </tr>\n",
       "    <tr>\n",
       "      <th>29</th>\n",
       "      <td>0.126818</td>\n",
       "      <td>0.074597</td>\n",
       "      <td>0.118734</td>\n",
       "    </tr>\n",
       "    <tr>\n",
       "      <th>19</th>\n",
       "      <td>0.495744</td>\n",
       "      <td>0.153226</td>\n",
       "      <td>0.060686</td>\n",
       "    </tr>\n",
       "    <tr>\n",
       "      <th>143</th>\n",
       "      <td>0.221170</td>\n",
       "      <td>0.116935</td>\n",
       "      <td>0.210202</td>\n",
       "    </tr>\n",
       "    <tr>\n",
       "      <th>86</th>\n",
       "      <td>0.622929</td>\n",
       "      <td>0.423387</td>\n",
       "      <td>0.190853</td>\n",
       "    </tr>\n",
       "    <tr>\n",
       "      <th>114</th>\n",
       "      <td>0.696990</td>\n",
       "      <td>0.104839</td>\n",
       "      <td>0.167986</td>\n",
       "    </tr>\n",
       "    <tr>\n",
       "      <th>173</th>\n",
       "      <td>0.322962</td>\n",
       "      <td>0.298387</td>\n",
       "      <td>0.339490</td>\n",
       "    </tr>\n",
       "    <tr>\n",
       "      <th>5</th>\n",
       "      <td>0.463984</td>\n",
       "      <td>0.935484</td>\n",
       "      <td>0.516271</td>\n",
       "    </tr>\n",
       "    <tr>\n",
       "      <th>126</th>\n",
       "      <td>0.706459</td>\n",
       "      <td>0.415323</td>\n",
       "      <td>0.091469</td>\n",
       "    </tr>\n",
       "    <tr>\n",
       "      <th>117</th>\n",
       "      <td>0.454853</td>\n",
       "      <td>0.840726</td>\n",
       "      <td>0.401055</td>\n",
       "    </tr>\n",
       "    <tr>\n",
       "      <th>73</th>\n",
       "      <td>0.148799</td>\n",
       "      <td>0.520161</td>\n",
       "      <td>0.178540</td>\n",
       "    </tr>\n",
       "    <tr>\n",
       "      <th>140</th>\n",
       "      <td>0.252283</td>\n",
       "      <td>0.409274</td>\n",
       "      <td>0.283201</td>\n",
       "    </tr>\n",
       "    <tr>\n",
       "      <th>98</th>\n",
       "      <td>0.633074</td>\n",
       "      <td>0.346774</td>\n",
       "      <td>0.154793</td>\n",
       "    </tr>\n",
       "    <tr>\n",
       "      <th>172</th>\n",
       "      <td>0.143050</td>\n",
       "      <td>0.522177</td>\n",
       "      <td>0.177661</td>\n",
       "    </tr>\n",
       "    <tr>\n",
       "      <th>96</th>\n",
       "      <td>0.615150</td>\n",
       "      <td>0.931452</td>\n",
       "      <td>0.513632</td>\n",
       "    </tr>\n",
       "  </tbody>\n",
       "</table>\n",
       "</div>"
      ],
      "text/plain": [
       "     avg_shares  avg_comments  avg_expert\n",
       "95     0.148123      0.792339    0.394019\n",
       "15     0.697328      0.169355    0.229551\n",
       "30     0.321272      0.028226    0.062445\n",
       "158    0.949273      0.798387    0.488127\n",
       "128    0.104160      0.495968    0.016711\n",
       "115    0.808590      0.082661    0.321900\n",
       "69     0.160974      0.947581    0.072120\n",
       "170    0.022320      0.566532    0.361478\n",
       "174    0.078120      0.707661    0.576957\n",
       "45     0.236388      0.470149    0.356201\n",
       "66     0.223876      0.235887    0.321020\n",
       "182    0.755157      0.048387    0.134565\n",
       "165    0.658438      0.961694    0.462621\n",
       "78     0.769699      0.340726    0.227792\n",
       "186    0.231654      0.413306    0.158311\n",
       "177    0.406831      0.169355    0.425682\n",
       "56     0.337166      0.193548    0.029024\n",
       "152    0.710179      0.594758    0.079156\n",
       "82     0.389922      0.155242    0.200528\n",
       "68     0.768684      0.760081    0.278804\n",
       "124    0.934055      0.985887    0.364996\n",
       "16     0.440987      0.862903    0.251539\n",
       "148    0.435238      0.114919    0.272647\n",
       "93     0.743321      0.669355    0.330695\n",
       "65     0.820088      0.987903    0.386983\n",
       "60     0.300981      0.199597    0.311346\n",
       "84     0.933378      0.046371    0.205805\n",
       "67     0.855935      0.429435    0.261214\n",
       "125    0.451809      0.098790    0.079156\n",
       "132    0.710517      1.000000    0.328936\n",
       "9      0.063240      0.322581    0.193492\n",
       "18     0.509976      0.832661    0.511873\n",
       "55     0.742645      0.987903    0.025506\n",
       "75     0.379439      0.350806    0.336851\n",
       "150    0.252959      0.217742    0.050132\n",
       "104    0.443017      0.370968    0.301671\n",
       "135    0.719648      0.866935    0.294635\n",
       "137    0.632736      0.425403    0.080915\n",
       "164    0.687859      0.663306    0.401935\n",
       "76     0.886033      0.580645    0.137203\n",
       "79     0.469395      0.042339    0.231310\n",
       "197    0.736557      0.108871    0.238347\n",
       "38     0.809604      0.147177    0.073879\n",
       "24     0.250254      0.995968    0.399296\n",
       "122    0.730808      0.885081    0.236588\n",
       "195    0.011498      0.233871    0.047493\n",
       "29     0.126818      0.074597    0.118734\n",
       "19     0.495744      0.153226    0.060686\n",
       "143    0.221170      0.116935    0.210202\n",
       "86     0.622929      0.423387    0.190853\n",
       "114    0.696990      0.104839    0.167986\n",
       "173    0.322962      0.298387    0.339490\n",
       "5      0.463984      0.935484    0.516271\n",
       "126    0.706459      0.415323    0.091469\n",
       "117    0.454853      0.840726    0.401055\n",
       "73     0.148799      0.520161    0.178540\n",
       "140    0.252283      0.409274    0.283201\n",
       "98     0.633074      0.346774    0.154793\n",
       "172    0.143050      0.522177    0.177661\n",
       "96     0.615150      0.931452    0.513632"
      ]
     },
     "execution_count": 35,
     "metadata": {},
     "output_type": "execute_result"
    }
   ],
   "source": [
    "X_test"
   ]
  },
  {
   "cell_type": "code",
   "execution_count": 36,
   "metadata": {},
   "outputs": [
    {
     "data": {
      "text/plain": [
       "169    0.751969\n",
       "97     0.527559\n",
       "31     0.732283\n",
       "12     0.874016\n",
       "35     0.405512\n",
       "         ...   \n",
       "106    0.125984\n",
       "14     0.464567\n",
       "92     0.657480\n",
       "179    0.307087\n",
       "102    0.570866\n",
       "Name: popularity_score, Length: 140, dtype: float64"
      ]
     },
     "execution_count": 36,
     "metadata": {},
     "output_type": "execute_result"
    }
   ],
   "source": [
    "y_train"
   ]
  },
  {
   "cell_type": "code",
   "execution_count": 37,
   "metadata": {},
   "outputs": [
    {
     "data": {
      "text/plain": [
       "95     0.346457\n",
       "15     0.444882\n",
       "30     0.311024\n",
       "158    0.897638\n",
       "128    0.311024\n",
       "115    0.421260\n",
       "69     0.393701\n",
       "170    0.153543\n",
       "174    0.299213\n",
       "45     0.350394\n",
       "66     0.318898\n",
       "182    0.393701\n",
       "165    0.818898\n",
       "78     0.547244\n",
       "186    0.381890\n",
       "177    0.393701\n",
       "56     0.358268\n",
       "152    0.661417\n",
       "82     0.370079\n",
       "68     0.783465\n",
       "124    1.000000\n",
       "16     0.645669\n",
       "148    0.370079\n",
       "93     0.728346\n",
       "65     0.937008\n",
       "60     0.354331\n",
       "84     0.401575\n",
       "67     0.629921\n",
       "125    0.377953\n",
       "132    0.874016\n",
       "9      0.196850\n",
       "18     0.665354\n",
       "55     0.909449\n",
       "75     0.405512\n",
       "150    0.326772\n",
       "104    0.444882\n",
       "135    0.791339\n",
       "137    0.551181\n",
       "164    0.685039\n",
       "76     0.732283\n",
       "79     0.342520\n",
       "197    0.417323\n",
       "38     0.456693\n",
       "24     0.515748\n",
       "122    0.814961\n",
       "195    0.062992\n",
       "29     0.236220\n",
       "19     0.318898\n",
       "143    0.275591\n",
       "86     0.547244\n",
       "114    0.417323\n",
       "173    0.385827\n",
       "5      0.692913\n",
       "126    0.562992\n",
       "117    0.614173\n",
       "73     0.334646\n",
       "140    0.381890\n",
       "98     0.515748\n",
       "172    0.314961\n",
       "96     0.771654\n",
       "Name: popularity_score, dtype: float64"
      ]
     },
     "execution_count": 37,
     "metadata": {},
     "output_type": "execute_result"
    }
   ],
   "source": [
    "y_test"
   ]
  },
  {
   "cell_type": "markdown",
   "metadata": {
    "id": "9Pk6VHxtpuzt"
   },
   "source": [
    "## 4. Train the linear regression model and print the coefficients (parameters) learned by the final model. [1 pt]"
   ]
  },
  {
   "cell_type": "code",
   "execution_count": 38,
   "metadata": {
    "colab": {
     "base_uri": "https://localhost:8080/"
    },
    "id": "oFT5AzDipuzt",
    "outputId": "1a80b19c-b8a8-4b91-aa0a-9c0b2769d447"
   },
   "outputs": [
    {
     "data": {
      "text/plain": [
       "LinearRegression()"
      ]
     },
     "execution_count": 38,
     "metadata": {},
     "output_type": "execute_result"
    }
   ],
   "source": [
    "from sklearn.linear_model import LinearRegression\n",
    " \n",
    "linreg = LinearRegression()\n",
    " \n",
    "linreg.fit(X_train,y_train)"
   ]
  },
  {
   "cell_type": "code",
   "execution_count": 39,
   "metadata": {
    "colab": {
     "base_uri": "https://localhost:8080/"
    },
    "id": "-g3kW22qpuzt",
    "outputId": "5924b9d3-7071-4616-8d35-b77e2763a6c8"
   },
   "outputs": [
    {
     "name": "stdout",
     "output_type": "stream",
     "text": [
      "0.05678179949574558\n",
      "[ 0.53532068  0.34645074 -0.00081054]\n"
     ]
    }
   ],
   "source": [
    "print(linreg.intercept_)\n",
    "print(linreg.coef_)"
   ]
  },
  {
   "cell_type": "code",
   "execution_count": 40,
   "metadata": {
    "id": "HbE3QLfVpuzu"
   },
   "outputs": [],
   "source": [
    "y_pred = linreg.predict(X_test)"
   ]
  },
  {
   "cell_type": "code",
   "execution_count": 41,
   "metadata": {
    "colab": {
     "base_uri": "https://localhost:8080/"
    },
    "id": "0bKrkJUxpuzu",
    "outputId": "b53911f1-ca1e-4d5a-da7e-a826ced10f8f"
   },
   "outputs": [
    {
     "data": {
      "text/plain": [
       "array([0.41026212, 0.48856315, 0.23849335, 0.84115338, 0.28435545,\n",
       "       0.51801379, 0.47118605, 0.26471264, 0.34330303, 0.34592005,\n",
       "       0.25809007, 0.47768777, 0.74206154, 0.58667768, 0.32385283,\n",
       "       0.33289506, 0.30430522, 0.64294565, 0.31913638, 0.73137902,\n",
       "       0.89806612, 0.5916011 , 0.32936683, 0.68632731, 0.83773797,\n",
       "       0.2868011 , 0.57233702, 0.66354806, 0.33280647, 0.78332059,\n",
       "       0.20223683, 0.6178439 , 0.79657393, 0.38116727, 0.26759225,\n",
       "       0.42221527, 0.74213604, 0.54281408, 0.65448435, 0.73214741,\n",
       "       0.32253926, 0.48860141, 0.54110959, 0.53547786, 0.75444365,\n",
       "       0.14392327, 0.15041782, 0.37519974, 0.21552074, 0.53677647,\n",
       "       0.46608036, 0.33277155, 0.62884253, 0.57877873, 0.59121897,\n",
       "       0.31650278, 0.33339776, 0.51569415, 0.31412438, 0.70837036])"
      ]
     },
     "execution_count": 41,
     "metadata": {},
     "output_type": "execute_result"
    }
   ],
   "source": [
    "y_pred"
   ]
  },
  {
   "cell_type": "code",
   "execution_count": 42,
   "metadata": {
    "colab": {
     "base_uri": "https://localhost:8080/"
    },
    "id": "Gze7CWoppuzu",
    "outputId": "85d97c8c-cf41-4866-ec87-6804d96995e6"
   },
   "outputs": [
    {
     "data": {
      "text/plain": [
       "(60,)"
      ]
     },
     "execution_count": 42,
     "metadata": {},
     "output_type": "execute_result"
    }
   ],
   "source": [
    "y_pred.shape"
   ]
  },
  {
   "cell_type": "markdown",
   "metadata": {},
   "source": [
    "<h3>coefficients (parameters) learned by the final model."
   ]
  },
  {
   "cell_type": "code",
   "execution_count": 43,
   "metadata": {
    "colab": {
     "base_uri": "https://localhost:8080/"
    },
    "id": "8g1gF6N2puzv",
    "outputId": "3305f311-6e81-4e5d-e357-d5a30947ad5c"
   },
   "outputs": [
    {
     "data": {
      "text/plain": [
       "[('avg_shares', 0.5353206845461688),\n",
       " ('avg_comments', 0.34645074080999305),\n",
       " ('avg_expert', -0.0008105383012786405)]"
      ]
     },
     "execution_count": 43,
     "metadata": {},
     "output_type": "execute_result"
    }
   ],
   "source": [
    "list(zip(features_col,linreg.coef_))"
   ]
  },
  {
   "cell_type": "markdown",
   "metadata": {
    "id": "k20MqUUYpuzv"
   },
   "source": [
    "## 5. Print the confidence interval and p-value of each of the coefficients, and explain your interpretations. [1 pt]"
   ]
  },
  {
   "cell_type": "code",
   "execution_count": 45,
   "metadata": {
    "colab": {
     "base_uri": "https://localhost:8080/"
    },
    "id": "XjbARD8mpuzv",
    "outputId": "8390a1ac-b6e5-4633-a06d-94e432e5304f"
   },
   "outputs": [
    {
     "name": "stdout",
     "output_type": "stream",
     "text": [
      "     avg_shares  avg_comments  avg_expert\n",
      "0      0.495773      0.481855    0.165347\n",
      "1      0.094352      0.030242    0.287599\n",
      "2      0.058167      0.758065    0.187335\n",
      "3      0.316199      0.098790    0.068602\n",
      "4      0.990531      0.558468    0.013193\n",
      "..          ...           ...         ...\n",
      "195    0.011498      0.233871    0.047493\n",
      "196    0.256003      0.538306    0.193492\n",
      "197    0.736557      0.108871    0.238347\n",
      "198    0.472100      0.038306    0.076517\n",
      "199    0.900237      0.883065    0.041337\n",
      "\n",
      "[200 rows x 3 columns]\n",
      "0      0.511811\n",
      "1      0.224409\n",
      "2      0.251969\n",
      "3      0.318898\n",
      "4      0.751969\n",
      "         ...   \n",
      "195    0.062992\n",
      "196    0.401575\n",
      "197    0.417323\n",
      "198    0.342520\n",
      "199    0.937008\n",
      "Name: popularity_score, Length: 200, dtype: float64\n"
     ]
    }
   ],
   "source": [
    "target_col = \"popularity_score\"\n",
    "\n",
    "X = ndf.loc[:, ndf.columns != target_col]\n",
    "Y = ndf.loc[:, target_col]\n",
    "print(X)\n",
    "print(Y)\n",
    "\n"
   ]
  },
  {
   "cell_type": "markdown",
   "metadata": {},
   "source": [
    "<h3>Linear Regression using Statsmodels"
   ]
  },
  {
   "cell_type": "code",
   "execution_count": 46,
   "metadata": {
    "id": "l_5kxvPbpuzw"
   },
   "outputs": [],
   "source": [
    "import statsmodels.api as sm\n",
    "import statsmodels.formula.api as snf"
   ]
  },
  {
   "cell_type": "markdown",
   "metadata": {
    "id": "gyu1QNMfpuzw"
   },
   "source": [
    "We need to add a constant term to allow statsmodels.api to calculate the bias/ intercepts"
   ]
  },
  {
   "cell_type": "code",
   "execution_count": 47,
   "metadata": {
    "id": "V7y2PdDlpuzx"
   },
   "outputs": [],
   "source": [
    "X_with_constant = sm.add_constant(X_train)"
   ]
  },
  {
   "cell_type": "code",
   "execution_count": 50,
   "metadata": {
    "colab": {
     "base_uri": "https://localhost:8080/",
     "height": 407
    },
    "id": "a0k2Zewlpuzx",
    "outputId": "158cd3b7-9956-4747-f68a-f732722a00d3"
   },
   "outputs": [
    {
     "data": {
      "text/html": [
       "<div>\n",
       "<style scoped>\n",
       "    .dataframe tbody tr th:only-of-type {\n",
       "        vertical-align: middle;\n",
       "    }\n",
       "\n",
       "    .dataframe tbody tr th {\n",
       "        vertical-align: top;\n",
       "    }\n",
       "\n",
       "    .dataframe thead th {\n",
       "        text-align: right;\n",
       "    }\n",
       "</style>\n",
       "<table border=\"1\" class=\"dataframe\">\n",
       "  <thead>\n",
       "    <tr style=\"text-align: right;\">\n",
       "      <th></th>\n",
       "      <th>const</th>\n",
       "      <th>avg_shares</th>\n",
       "      <th>avg_comments</th>\n",
       "      <th>avg_expert</th>\n",
       "    </tr>\n",
       "  </thead>\n",
       "  <tbody>\n",
       "    <tr>\n",
       "      <th>169</th>\n",
       "      <td>1.0</td>\n",
       "      <td>0.622929</td>\n",
       "      <td>0.885081</td>\n",
       "      <td>0.012313</td>\n",
       "    </tr>\n",
       "    <tr>\n",
       "      <th>97</th>\n",
       "      <td>1.0</td>\n",
       "      <td>0.480893</td>\n",
       "      <td>0.590726</td>\n",
       "      <td>0.108179</td>\n",
       "    </tr>\n",
       "    <tr>\n",
       "      <th>31</th>\n",
       "      <td>1.0</td>\n",
       "      <td>0.837673</td>\n",
       "      <td>0.608871</td>\n",
       "      <td>0.175901</td>\n",
       "    </tr>\n",
       "    <tr>\n",
       "      <th>12</th>\n",
       "      <td>1.0</td>\n",
       "      <td>1.000000</td>\n",
       "      <td>0.731855</td>\n",
       "      <td>0.884785</td>\n",
       "    </tr>\n",
       "    <tr>\n",
       "      <th>35</th>\n",
       "      <td>1.0</td>\n",
       "      <td>0.393980</td>\n",
       "      <td>0.296371</td>\n",
       "      <td>0.044855</td>\n",
       "    </tr>\n",
       "    <tr>\n",
       "      <th>...</th>\n",
       "      <td>...</td>\n",
       "      <td>...</td>\n",
       "      <td>...</td>\n",
       "      <td>...</td>\n",
       "    </tr>\n",
       "    <tr>\n",
       "      <th>106</th>\n",
       "      <td>1.0</td>\n",
       "      <td>0.026716</td>\n",
       "      <td>0.042339</td>\n",
       "      <td>0.006157</td>\n",
       "    </tr>\n",
       "    <tr>\n",
       "      <th>14</th>\n",
       "      <td>1.0</td>\n",
       "      <td>0.782550</td>\n",
       "      <td>0.173387</td>\n",
       "      <td>0.073879</td>\n",
       "    </tr>\n",
       "    <tr>\n",
       "      <th>92</th>\n",
       "      <td>1.0</td>\n",
       "      <td>0.670950</td>\n",
       "      <td>0.616935</td>\n",
       "      <td>0.337731</td>\n",
       "    </tr>\n",
       "    <tr>\n",
       "      <th>179</th>\n",
       "      <td>1.0</td>\n",
       "      <td>0.256003</td>\n",
       "      <td>0.016129</td>\n",
       "      <td>0.127529</td>\n",
       "    </tr>\n",
       "    <tr>\n",
       "      <th>102</th>\n",
       "      <td>1.0</td>\n",
       "      <td>0.946906</td>\n",
       "      <td>0.280242</td>\n",
       "      <td>0.322779</td>\n",
       "    </tr>\n",
       "  </tbody>\n",
       "</table>\n",
       "<p>140 rows × 4 columns</p>\n",
       "</div>"
      ],
      "text/plain": [
       "     const  avg_shares  avg_comments  avg_expert\n",
       "169    1.0    0.622929      0.885081    0.012313\n",
       "97     1.0    0.480893      0.590726    0.108179\n",
       "31     1.0    0.837673      0.608871    0.175901\n",
       "12     1.0    1.000000      0.731855    0.884785\n",
       "35     1.0    0.393980      0.296371    0.044855\n",
       "..     ...         ...           ...         ...\n",
       "106    1.0    0.026716      0.042339    0.006157\n",
       "14     1.0    0.782550      0.173387    0.073879\n",
       "92     1.0    0.670950      0.616935    0.337731\n",
       "179    1.0    0.256003      0.016129    0.127529\n",
       "102    1.0    0.946906      0.280242    0.322779\n",
       "\n",
       "[140 rows x 4 columns]"
      ]
     },
     "execution_count": 50,
     "metadata": {},
     "output_type": "execute_result"
    }
   ],
   "source": [
    "pd.DataFrame(X_with_constant)"
   ]
  },
  {
   "cell_type": "code",
   "execution_count": 51,
   "metadata": {
    "id": "L5EIpLw_puzx"
   },
   "outputs": [],
   "source": [
    "model = sm.OLS(y_train, X_with_constant)"
   ]
  },
  {
   "cell_type": "code",
   "execution_count": 52,
   "metadata": {
    "id": "tULQIolQpuzy"
   },
   "outputs": [],
   "source": [
    "results = model.fit()"
   ]
  },
  {
   "cell_type": "code",
   "execution_count": 53,
   "metadata": {
    "colab": {
     "base_uri": "https://localhost:8080/"
    },
    "id": "EixaiXQypuzy",
    "outputId": "fb26cef4-7dd8-4c8a-c2f3-575753c15d3e"
   },
   "outputs": [
    {
     "data": {
      "text/plain": [
       "const           0.056782\n",
       "avg_shares      0.535321\n",
       "avg_comments    0.346451\n",
       "avg_expert     -0.000811\n",
       "dtype: float64"
      ]
     },
     "execution_count": 53,
     "metadata": {},
     "output_type": "execute_result"
    }
   ],
   "source": [
    "results.params"
   ]
  },
  {
   "cell_type": "code",
   "execution_count": 54,
   "metadata": {
    "colab": {
     "base_uri": "https://localhost:8080/",
     "height": 485
    },
    "id": "4jhpuFL7puzy",
    "outputId": "4dcda070-7762-4450-f3b2-733b50691b6b"
   },
   "outputs": [
    {
     "data": {
      "text/html": [
       "<table class=\"simpletable\">\n",
       "<caption>OLS Regression Results</caption>\n",
       "<tr>\n",
       "  <th>Dep. Variable:</th>    <td>popularity_score</td> <th>  R-squared:         </th> <td>   0.880</td>\n",
       "</tr>\n",
       "<tr>\n",
       "  <th>Model:</th>                   <td>OLS</td>       <th>  Adj. R-squared:    </th> <td>   0.878</td>\n",
       "</tr>\n",
       "<tr>\n",
       "  <th>Method:</th>             <td>Least Squares</td>  <th>  F-statistic:       </th> <td>   333.6</td>\n",
       "</tr>\n",
       "<tr>\n",
       "  <th>Date:</th>             <td>Sun, 13 Jun 2021</td> <th>  Prob (F-statistic):</th> <td>1.73e-62</td>\n",
       "</tr>\n",
       "<tr>\n",
       "  <th>Time:</th>                 <td>02:01:54</td>     <th>  Log-Likelihood:    </th> <td>  174.39</td>\n",
       "</tr>\n",
       "<tr>\n",
       "  <th>No. Observations:</th>      <td>   140</td>      <th>  AIC:               </th> <td>  -340.8</td>\n",
       "</tr>\n",
       "<tr>\n",
       "  <th>Df Residuals:</th>          <td>   136</td>      <th>  BIC:               </th> <td>  -329.0</td>\n",
       "</tr>\n",
       "<tr>\n",
       "  <th>Df Model:</th>              <td>     3</td>      <th>                     </th>     <td> </td>   \n",
       "</tr>\n",
       "<tr>\n",
       "  <th>Covariance Type:</th>      <td>nonrobust</td>    <th>                     </th>     <td> </td>   \n",
       "</tr>\n",
       "</table>\n",
       "<table class=\"simpletable\">\n",
       "<tr>\n",
       "        <td></td>          <th>coef</th>     <th>std err</th>      <th>t</th>      <th>P>|t|</th>  <th>[0.025</th>    <th>0.975]</th>  \n",
       "</tr>\n",
       "<tr>\n",
       "  <th>const</th>        <td>    0.0568</td> <td>    0.016</td> <td>    3.611</td> <td> 0.000</td> <td>    0.026</td> <td>    0.088</td>\n",
       "</tr>\n",
       "<tr>\n",
       "  <th>avg_shares</th>   <td>    0.5353</td> <td>    0.020</td> <td>   26.758</td> <td> 0.000</td> <td>    0.496</td> <td>    0.575</td>\n",
       "</tr>\n",
       "<tr>\n",
       "  <th>avg_comments</th> <td>    0.3465</td> <td>    0.022</td> <td>   15.702</td> <td> 0.000</td> <td>    0.303</td> <td>    0.390</td>\n",
       "</tr>\n",
       "<tr>\n",
       "  <th>avg_expert</th>   <td>   -0.0008</td> <td>    0.030</td> <td>   -0.027</td> <td> 0.979</td> <td>   -0.061</td> <td>    0.059</td>\n",
       "</tr>\n",
       "</table>\n",
       "<table class=\"simpletable\">\n",
       "<tr>\n",
       "  <th>Omnibus:</th>       <td>40.591</td> <th>  Durbin-Watson:     </th> <td>   2.206</td>\n",
       "</tr>\n",
       "<tr>\n",
       "  <th>Prob(Omnibus):</th> <td> 0.000</td> <th>  Jarque-Bera (JB):  </th> <td>  84.652</td>\n",
       "</tr>\n",
       "<tr>\n",
       "  <th>Skew:</th>          <td>-1.249</td> <th>  Prob(JB):          </th> <td>4.15e-19</td>\n",
       "</tr>\n",
       "<tr>\n",
       "  <th>Kurtosis:</th>      <td> 5.876</td> <th>  Cond. No.          </th> <td>    6.73</td>\n",
       "</tr>\n",
       "</table><br/><br/>Notes:<br/>[1] Standard Errors assume that the covariance matrix of the errors is correctly specified."
      ],
      "text/plain": [
       "<class 'statsmodels.iolib.summary.Summary'>\n",
       "\"\"\"\n",
       "                            OLS Regression Results                            \n",
       "==============================================================================\n",
       "Dep. Variable:       popularity_score   R-squared:                       0.880\n",
       "Model:                            OLS   Adj. R-squared:                  0.878\n",
       "Method:                 Least Squares   F-statistic:                     333.6\n",
       "Date:                Sun, 13 Jun 2021   Prob (F-statistic):           1.73e-62\n",
       "Time:                        02:01:54   Log-Likelihood:                 174.39\n",
       "No. Observations:                 140   AIC:                            -340.8\n",
       "Df Residuals:                     136   BIC:                            -329.0\n",
       "Df Model:                           3                                         \n",
       "Covariance Type:            nonrobust                                         \n",
       "================================================================================\n",
       "                   coef    std err          t      P>|t|      [0.025      0.975]\n",
       "--------------------------------------------------------------------------------\n",
       "const            0.0568      0.016      3.611      0.000       0.026       0.088\n",
       "avg_shares       0.5353      0.020     26.758      0.000       0.496       0.575\n",
       "avg_comments     0.3465      0.022     15.702      0.000       0.303       0.390\n",
       "avg_expert      -0.0008      0.030     -0.027      0.979      -0.061       0.059\n",
       "==============================================================================\n",
       "Omnibus:                       40.591   Durbin-Watson:                   2.206\n",
       "Prob(Omnibus):                  0.000   Jarque-Bera (JB):               84.652\n",
       "Skew:                          -1.249   Prob(JB):                     4.15e-19\n",
       "Kurtosis:                       5.876   Cond. No.                         6.73\n",
       "==============================================================================\n",
       "\n",
       "Notes:\n",
       "[1] Standard Errors assume that the covariance matrix of the errors is correctly specified.\n",
       "\"\"\""
      ]
     },
     "execution_count": 54,
     "metadata": {},
     "output_type": "execute_result"
    }
   ],
   "source": [
    "results.summary()"
   ]
  },
  {
   "cell_type": "markdown",
   "metadata": {},
   "source": [
    "<h3>p-values of each Coefficient"
   ]
  },
  {
   "cell_type": "code",
   "execution_count": 55,
   "metadata": {
    "colab": {
     "base_uri": "https://localhost:8080/"
    },
    "id": "ky4ygdCipuzz",
    "outputId": "ace6a5bb-9351-41d8-bd5f-15791359449f"
   },
   "outputs": [
    {
     "data": {
      "text/plain": [
       "const           4.272897e-04\n",
       "avg_shares      4.822653e-56\n",
       "avg_comments    2.436480e-32\n",
       "avg_expert      9.788021e-01\n",
       "dtype: float64"
      ]
     },
     "execution_count": 55,
     "metadata": {},
     "output_type": "execute_result"
    }
   ],
   "source": [
    "results.pvalues"
   ]
  },
  {
   "cell_type": "markdown",
   "metadata": {
    "id": "Cwz7siYjpuzz"
   },
   "source": [
    "### Interpretation "
   ]
  },
  {
   "cell_type": "markdown",
   "metadata": {
    "id": "WosYusBkNkAO"
   },
   "source": [
    "NOTE: If p-value(Xi) < 0.05, then Y depends on Xi.\n",
    "1. As p-value(avg_shares) = 4.822653e-56 < 0.05, hence \"popularity_score\" depends on \"avg_shares\".\n",
    "\n",
    "2. As p-value(avg_comments) = 2.436480e-32 < 0.05, hence \"popularity_score\" depends on \"avg_comments\".\n",
    "\n",
    "3. As p-value(avg_expert) = 9.788021e-01 > 0.05, hence \"avg_expert\" does not play significant role in pridicting the \"popularity_score\"."
   ]
  },
  {
   "cell_type": "markdown",
   "metadata": {},
   "source": [
    "<h3>Confidence interval of each Coefficient"
   ]
  },
  {
   "cell_type": "code",
   "execution_count": 56,
   "metadata": {
    "colab": {
     "base_uri": "https://localhost:8080/",
     "height": 168
    },
    "id": "nKtSH6Fppuz0",
    "outputId": "3dd51bd9-6870-4fa5-9c3d-409c8bad740f"
   },
   "outputs": [
    {
     "data": {
      "text/html": [
       "<div>\n",
       "<style scoped>\n",
       "    .dataframe tbody tr th:only-of-type {\n",
       "        vertical-align: middle;\n",
       "    }\n",
       "\n",
       "    .dataframe tbody tr th {\n",
       "        vertical-align: top;\n",
       "    }\n",
       "\n",
       "    .dataframe thead th {\n",
       "        text-align: right;\n",
       "    }\n",
       "</style>\n",
       "<table border=\"1\" class=\"dataframe\">\n",
       "  <thead>\n",
       "    <tr style=\"text-align: right;\">\n",
       "      <th></th>\n",
       "      <th>0</th>\n",
       "      <th>1</th>\n",
       "    </tr>\n",
       "  </thead>\n",
       "  <tbody>\n",
       "    <tr>\n",
       "      <th>const</th>\n",
       "      <td>0.025689</td>\n",
       "      <td>0.087875</td>\n",
       "    </tr>\n",
       "    <tr>\n",
       "      <th>avg_shares</th>\n",
       "      <td>0.495757</td>\n",
       "      <td>0.574884</td>\n",
       "    </tr>\n",
       "    <tr>\n",
       "      <th>avg_comments</th>\n",
       "      <td>0.302816</td>\n",
       "      <td>0.390085</td>\n",
       "    </tr>\n",
       "    <tr>\n",
       "      <th>avg_expert</th>\n",
       "      <td>-0.061025</td>\n",
       "      <td>0.059404</td>\n",
       "    </tr>\n",
       "  </tbody>\n",
       "</table>\n",
       "</div>"
      ],
      "text/plain": [
       "                     0         1\n",
       "const         0.025689  0.087875\n",
       "avg_shares    0.495757  0.574884\n",
       "avg_comments  0.302816  0.390085\n",
       "avg_expert   -0.061025  0.059404"
      ]
     },
     "execution_count": 56,
     "metadata": {},
     "output_type": "execute_result"
    }
   ],
   "source": [
    "results.conf_int(alpha=0.05, cols=None)"
   ]
  },
  {
   "cell_type": "markdown",
   "metadata": {
    "id": "9RUkPwuUpuz0"
   },
   "source": [
    "## 6. Evaluate the linear regression model and print the values of RMSE, MAE, and MSE. [1 pt]\n"
   ]
  },
  {
   "cell_type": "code",
   "execution_count": 57,
   "metadata": {
    "colab": {
     "base_uri": "https://localhost:8080/"
    },
    "id": "5Tdk5Xu9puz0",
    "outputId": "e3a1bcbe-b12c-4d56-f8b9-d4f034d3375e"
   },
   "outputs": [
    {
     "name": "stdout",
     "output_type": "stream",
     "text": [
      "Mean Absolute Error:  0.05239042872257292\n",
      "Mean Square Error:  0.0037941567520945996\n",
      "Root Mean Absolute Error:  0.0615967267969216\n"
     ]
    }
   ],
   "source": [
    "from sklearn import metrics\n",
    "import math\n",
    "\n",
    "print('Mean Absolute Error: ', metrics.mean_absolute_error(y_test,y_pred))\n",
    "print('Mean Square Error: ', metrics.mean_squared_error(y_test,y_pred))\n",
    "print('Root Mean Absolute Error: ', math.sqrt(metrics.mean_squared_error(y_test,y_pred)))"
   ]
  },
  {
   "cell_type": "markdown",
   "metadata": {
    "id": "5bkfMWZLpuz1"
   },
   "source": [
    "## 7. Plot residual curve and Q-Q plot. [1 pt] \n"
   ]
  },
  {
   "cell_type": "code",
   "execution_count": 58,
   "metadata": {
    "id": "Ah06fUO9puz1"
   },
   "outputs": [],
   "source": [
    "X_test = sm.add_constant(X_test)"
   ]
  },
  {
   "cell_type": "code",
   "execution_count": 59,
   "metadata": {
    "id": "AuBKg7JYpuz1"
   },
   "outputs": [],
   "source": [
    "y_pred = results.predict(X_test)"
   ]
  },
  {
   "cell_type": "code",
   "execution_count": 60,
   "metadata": {
    "id": "Y7gtGq7Mpuz1"
   },
   "outputs": [],
   "source": [
    "residual = y_test - y_pred"
   ]
  },
  {
   "cell_type": "markdown",
   "metadata": {},
   "source": [
    "<h3>Residual Plot"
   ]
  },
  {
   "cell_type": "code",
   "execution_count": 61,
   "metadata": {
    "colab": {
     "base_uri": "https://localhost:8080/",
     "height": 298
    },
    "id": "xtTib0MMpuz2",
    "outputId": "b6511cfc-48ae-4715-9aa7-6809c29172b7"
   },
   "outputs": [
    {
     "data": {
      "text/plain": [
       "<AxesSubplot:>"
      ]
     },
     "execution_count": 61,
     "metadata": {},
     "output_type": "execute_result"
    },
    {
     "data": {
      "image/png": "[encoded data removed]",
      "text/plain": [
       "<Figure size 432x288 with 1 Axes>"
      ]
     },
     "metadata": {
      "needs_background": "light"
     },
     "output_type": "display_data"
    }
   ],
   "source": [
    "sn.residplot(x=y_pred, y=residual, lowess=True, color=\"g\")"
   ]
  },
  {
   "cell_type": "markdown",
   "metadata": {},
   "source": [
    "<h3>Q-Q plot"
   ]
  },
  {
   "cell_type": "code",
   "execution_count": 62,
   "metadata": {
    "colab": {
     "base_uri": "https://localhost:8080/",
     "height": 279
    },
    "id": "-TXrjXjipuz3",
    "outputId": "48925f40-bd5f-4ae6-8d8e-69bbf95a51c4"
   },
   "outputs": [
    {
     "data": {
      "image/png": "[encoded data removed]",
      "text/plain": [
       "<Figure size 432x288 with 1 Axes>"
      ]
     },
     "metadata": {
      "needs_background": "light"
     },
     "output_type": "display_data"
    }
   ],
   "source": [
    "import matplotlib.pyplot as plt\n",
    "\n",
    "res = results.resid\n",
    "fig = sm.qqplot(res)\n",
    "plt.show()"
   ]
  },
  {
   "cell_type": "code",
   "execution_count": null,
   "metadata": {},
   "outputs": [],
   "source": []
  }
 ],
 "metadata": {
  "colab": {
   "name": "4_Kanika.ipynb",
   "provenance": []
  },
  "kernelspec": {
   "display_name": "Python 3",
   "language": "python",
   "name": "python3"
  },
  "language_info": {
   "codemirror_mode": {
    "name": "ipython",
    "version": 3
   },
   "file_extension": ".py",
   "mimetype": "text/x-python",
   "name": "python",
   "nbconvert_exporter": "python",
   "pygments_lexer": "ipython3",
   "version": "3.7.2"
  }
 },
 "nbformat": 4,
 "nbformat_minor": 1
}
